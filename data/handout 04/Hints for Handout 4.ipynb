{
 "cells": [
  {
   "cell_type": "markdown",
   "metadata": {},
   "source": [
    "### Exercise 1/2"
   ]
  },
  {
   "cell_type": "markdown",
   "metadata": {},
   "source": [
    "For exercise 1, the series are:"
   ]
  },
  {
   "cell_type": "code",
   "execution_count": 1,
   "metadata": {},
   "outputs": [],
   "source": [
    "S1='TSVKTYAKFVTH'\n",
    "S2='TSVKTYAKFSTH'\n",
    "S3='TSVKTYAKFVTH'\n",
    "S4='LSVKKYPKYVVQ'\n",
    "S5='SSVKKYPKYSVL'\n",
    "alignment=[S1,S2,S3,S4,S5]"
   ]
  },
  {
   "cell_type": "markdown",
   "metadata": {},
   "source": [
    "#### What do we need to know?\n",
    "\n",
    "1. The individual amino acid frequencies\n",
    "2. The pairwise amino acid frequencies"
   ]
  },
  {
   "cell_type": "markdown",
   "metadata": {},
   "source": [
    "##### 1. The individual frequencies\n",
    "Here, we do not care how the sequences are aligned. In total, there are 5*12 amino acids, which we could also treat\n",
    "as a single sequence.\n",
    "\n",
    "Solution: Make a histogram of letter frequencies of all sequences combines. Relative frequencies are obtained by dividing the counts by the total number of symbols (i.e. 12*5).\n",
    "\n",
    "- a histogram  function can be found in ThinkPython\n",
    "- The ``Counter`` class of the ``collections`` module can also be used. You might find the ``update`` method useful.\n"
   ]
  },
  {
   "cell_type": "markdown",
   "metadata": {},
   "source": [
    "##### 2. The pairwise amino-acid frequencies"
   ]
  },
  {
   "cell_type": "markdown",
   "metadata": {},
   "source": [
    "These are 5 sequences that are all aligned to each other yielding a total of 10 pairwise sequence alignments:"
   ]
  },
  {
   "cell_type": "code",
   "execution_count": 2,
   "metadata": {},
   "outputs": [
    {
     "name": "stdout",
     "output_type": "stream",
     "text": [
      " 1. TSVKTYAKFVTH\n",
      "    ||||||||||||\n",
      "    TSVKTYAKFSTH\n",
      "\n",
      " 2. TSVKTYAKFVTH\n",
      "    ||||||||||||\n",
      "    TSVKTYAKFVTH\n",
      "\n",
      " 3. TSVKTYAKFVTH\n",
      "    ||||||||||||\n",
      "    LSVKKYPKYVVQ\n",
      "\n",
      " 4. TSVKTYAKFVTH\n",
      "    ||||||||||||\n",
      "    SSVKKYPKYSVL\n",
      "\n",
      " 5. TSVKTYAKFSTH\n",
      "    ||||||||||||\n",
      "    TSVKTYAKFVTH\n",
      "\n",
      " 6. TSVKTYAKFSTH\n",
      "    ||||||||||||\n",
      "    LSVKKYPKYVVQ\n",
      "\n",
      " 7. TSVKTYAKFSTH\n",
      "    ||||||||||||\n",
      "    SSVKKYPKYSVL\n",
      "\n",
      " 8. TSVKTYAKFVTH\n",
      "    ||||||||||||\n",
      "    LSVKKYPKYVVQ\n",
      "\n",
      " 9. TSVKTYAKFVTH\n",
      "    ||||||||||||\n",
      "    SSVKKYPKYSVL\n",
      "\n",
      "10. LSVKKYPKYVVQ\n",
      "    ||||||||||||\n",
      "    SSVKKYPKYSVL\n",
      "\n"
     ]
    }
   ],
   "source": [
    "from itertools import combinations\n",
    "i = 0\n",
    "for seq1,seq2 in combinations(alignment,2):\n",
    "    i+= 1\n",
    "    print(\"{:2}. {}\".format(i,seq1))\n",
    "    print(\"    \"+\"|\"*len(seq1))\n",
    "    print(\"    \"+seq2)\n",
    "    print()"
   ]
  },
  {
   "cell_type": "markdown",
   "metadata": {},
   "source": [
    "There are 10*12 amino acid pairs in total that have to be counted:"
   ]
  },
  {
   "cell_type": "code",
   "execution_count": 3,
   "metadata": {},
   "outputs": [
    {
     "name": "stdout",
     "output_type": "stream",
     "text": [
      "TT SS VV KK TT YY AA KK FF VS TT HH TT SS VV KK TT YY AA KK FF VV TT HH TL SS VV KK TK YY AP KK FY VV TV HQ TS SS VV KK TK YY AP KK FY VS TV HL TT SS VV KK TT YY AA KK FF SV TT HH TL SS VV KK TK YY AP KK FY SV TV HQ TS SS VV KK TK YY AP KK FY SS TV HL TL SS VV KK TK YY AP KK FY VV TV HQ TS SS VV KK TK YY AP KK FY VS TV HL LS SS VV KK KK YY PP KK YY VS VV QL "
     ]
    }
   ],
   "source": [
    "for seq1,seq2 in combinations(alignment,2):\n",
    "    for i in range(len(seq1)):\n",
    "        aa1=seq1[i]\n",
    "        aa2=seq2[i]\n",
    "        print(aa1+aa2,end=\" \")"
   ]
  },
  {
   "cell_type": "markdown",
   "metadata": {},
   "source": [
    "Caveat: However, we should not distinguish the order of amino acids. E.G. ``VS`` and ``SV`` should be treated as the same pair.\n",
    "\n",
    "Solution: Sort the pair, so that the alphabetically earlier amino acid comes first: "
   ]
  },
  {
   "cell_type": "code",
   "execution_count": 4,
   "metadata": {},
   "outputs": [
    {
     "name": "stdout",
     "output_type": "stream",
     "text": [
      "TT SS VV KK TT YY AA KK FF SV TT HH TT SS VV KK TT YY AA KK FF VV TT HH LT SS VV KK KT YY AP KK FY VV TV HQ ST SS VV KK KT YY AP KK FY SV TV HL TT SS VV KK TT YY AA KK FF SV TT HH LT SS VV KK KT YY AP KK FY SV TV HQ ST SS VV KK KT YY AP KK FY SS TV HL LT SS VV KK KT YY AP KK FY VV TV HQ ST SS VV KK KT YY AP KK FY SV TV HL LS SS VV KK KK YY PP KK YY SV VV LQ "
     ]
    }
   ],
   "source": [
    "for seq1,seq2 in combinations(alignment,2):\n",
    "    for i in range(len(seq1)):\n",
    "        if seq1[i]<=seq2[i]:\n",
    "            aa1=seq1[i]\n",
    "            aa2=seq2[i]\n",
    "        else:\n",
    "            aa1=seq2[i]\n",
    "            aa2=seq1[i]\n",
    "        print(aa1+aa2,end=\" \")"
   ]
  },
  {
   "cell_type": "markdown",
   "metadata": {},
   "source": [
    "Making the code more pythonic:"
   ]
  },
  {
   "cell_type": "code",
   "execution_count": 5,
   "metadata": {},
   "outputs": [
    {
     "name": "stdout",
     "output_type": "stream",
     "text": [
      "TT SS VV KK TT YY AA KK FF SV TT HH TT SS VV KK TT YY AA KK FF VV TT HH LT SS VV KK KT YY AP KK FY VV TV HQ ST SS VV KK KT YY AP KK FY SV TV HL TT SS VV KK TT YY AA KK FF SV TT HH LT SS VV KK KT YY AP KK FY SV TV HQ ST SS VV KK KT YY AP KK FY SS TV HL LT SS VV KK KT YY AP KK FY VV TV HQ ST SS VV KK KT YY AP KK FY SV TV HL LS SS VV KK KK YY PP KK YY SV VV LQ "
     ]
    }
   ],
   "source": [
    "for seq1,seq2 in combinations(alignment,2):\n",
    "    for aa_pair in zip(seq1,seq2):\n",
    "        aa1,aa2=sorted(aa_pair)\n",
    "        print(aa1+aa2,end=\" \")"
   ]
  },
  {
   "cell_type": "markdown",
   "metadata": {},
   "source": [
    "#### Answer for handout 1"
   ]
  },
  {
   "cell_type": "code",
   "execution_count": 6,
   "metadata": {},
   "outputs": [],
   "source": [
    "import pandas as pd\n",
    "import pickle\n",
    "with open(\"answer_ho4ex1.pickle\",\"rb\") as fh:\n",
    "    aminoacid_df,aminoacidpair_df = pickle.load(fh)"
   ]
  },
  {
   "cell_type": "code",
   "execution_count": 7,
   "metadata": {},
   "outputs": [
    {
     "data": {
      "text/html": [
       "<div>\n",
       "<style scoped>\n",
       "    .dataframe tbody tr th:only-of-type {\n",
       "        vertical-align: middle;\n",
       "    }\n",
       "\n",
       "    .dataframe tbody tr th {\n",
       "        vertical-align: top;\n",
       "    }\n",
       "\n",
       "    .dataframe thead th {\n",
       "        text-align: right;\n",
       "    }\n",
       "</style>\n",
       "<table border=\"1\" class=\"dataframe\">\n",
       "  <thead>\n",
       "    <tr style=\"text-align: right;\">\n",
       "      <th></th>\n",
       "      <th>T</th>\n",
       "      <th>S</th>\n",
       "      <th>V</th>\n",
       "      <th>K</th>\n",
       "      <th>Y</th>\n",
       "      <th>A</th>\n",
       "      <th>F</th>\n",
       "      <th>H</th>\n",
       "      <th>L</th>\n",
       "      <th>P</th>\n",
       "      <th>Q</th>\n",
       "    </tr>\n",
       "  </thead>\n",
       "  <tbody>\n",
       "    <tr>\n",
       "      <th>$F_a$</th>\n",
       "      <td>9</td>\n",
       "      <td>8</td>\n",
       "      <td>10</td>\n",
       "      <td>12</td>\n",
       "      <td>7</td>\n",
       "      <td>3</td>\n",
       "      <td>3</td>\n",
       "      <td>3</td>\n",
       "      <td>2</td>\n",
       "      <td>2</td>\n",
       "      <td>1</td>\n",
       "    </tr>\n",
       "    <tr>\n",
       "      <th>$P_a$</th>\n",
       "      <td>0.15</td>\n",
       "      <td>0.133333</td>\n",
       "      <td>0.166667</td>\n",
       "      <td>0.2</td>\n",
       "      <td>0.116667</td>\n",
       "      <td>0.05</td>\n",
       "      <td>0.05</td>\n",
       "      <td>0.05</td>\n",
       "      <td>0.0333333</td>\n",
       "      <td>0.0333333</td>\n",
       "      <td>0.0166667</td>\n",
       "    </tr>\n",
       "  </tbody>\n",
       "</table>\n",
       "</div>"
      ],
      "text/plain": [
       "          T         S         V    K         Y     A     F     H          L  \\\n",
       "$F_a$     9         8        10   12         7     3     3     3          2   \n",
       "$P_a$  0.15  0.133333  0.166667  0.2  0.116667  0.05  0.05  0.05  0.0333333   \n",
       "\n",
       "               P          Q  \n",
       "$F_a$          2          1  \n",
       "$P_a$  0.0333333  0.0166667  "
      ]
     },
     "execution_count": 7,
     "metadata": {},
     "output_type": "execute_result"
    }
   ],
   "source": [
    "aminoacid_df"
   ]
  },
  {
   "cell_type": "code",
   "execution_count": 8,
   "metadata": {},
   "outputs": [
    {
     "data": {
      "text/html": [
       "<div>\n",
       "<style scoped>\n",
       "    .dataframe tbody tr th:only-of-type {\n",
       "        vertical-align: middle;\n",
       "    }\n",
       "\n",
       "    .dataframe tbody tr th {\n",
       "        vertical-align: top;\n",
       "    }\n",
       "\n",
       "    .dataframe thead th {\n",
       "        text-align: right;\n",
       "    }\n",
       "</style>\n",
       "<table border=\"1\" class=\"dataframe\">\n",
       "  <thead>\n",
       "    <tr style=\"text-align: right;\">\n",
       "      <th></th>\n",
       "      <th>TT</th>\n",
       "      <th>SS</th>\n",
       "      <th>VV</th>\n",
       "      <th>KK</th>\n",
       "      <th>YY</th>\n",
       "      <th>AA</th>\n",
       "      <th>FF</th>\n",
       "      <th>SV</th>\n",
       "      <th>HH</th>\n",
       "      <th>LT</th>\n",
       "      <th>KT</th>\n",
       "      <th>AP</th>\n",
       "      <th>FY</th>\n",
       "      <th>TV</th>\n",
       "      <th>HQ</th>\n",
       "      <th>ST</th>\n",
       "      <th>HL</th>\n",
       "      <th>LS</th>\n",
       "      <th>PP</th>\n",
       "      <th>LQ</th>\n",
       "    </tr>\n",
       "  </thead>\n",
       "  <tbody>\n",
       "    <tr>\n",
       "      <th>$F_{ab}$</th>\n",
       "      <td>9</td>\n",
       "      <td>11</td>\n",
       "      <td>14</td>\n",
       "      <td>21</td>\n",
       "      <td>11</td>\n",
       "      <td>3</td>\n",
       "      <td>3</td>\n",
       "      <td>6</td>\n",
       "      <td>3</td>\n",
       "      <td>3</td>\n",
       "      <td>6</td>\n",
       "      <td>6</td>\n",
       "      <td>6</td>\n",
       "      <td>6</td>\n",
       "      <td>3</td>\n",
       "      <td>3</td>\n",
       "      <td>3</td>\n",
       "      <td>1</td>\n",
       "      <td>1</td>\n",
       "      <td>1</td>\n",
       "    </tr>\n",
       "    <tr>\n",
       "      <th>$P_{ab}$</th>\n",
       "      <td>0.075</td>\n",
       "      <td>0.0916667</td>\n",
       "      <td>0.116667</td>\n",
       "      <td>0.175</td>\n",
       "      <td>0.0916667</td>\n",
       "      <td>0.025</td>\n",
       "      <td>0.025</td>\n",
       "      <td>0.05</td>\n",
       "      <td>0.025</td>\n",
       "      <td>0.025</td>\n",
       "      <td>0.05</td>\n",
       "      <td>0.05</td>\n",
       "      <td>0.05</td>\n",
       "      <td>0.05</td>\n",
       "      <td>0.025</td>\n",
       "      <td>0.025</td>\n",
       "      <td>0.025</td>\n",
       "      <td>0.00833333</td>\n",
       "      <td>0.00833333</td>\n",
       "      <td>0.00833333</td>\n",
       "    </tr>\n",
       "    <tr>\n",
       "      <th>$E_{ab}$</th>\n",
       "      <td>0.0225</td>\n",
       "      <td>0.0177778</td>\n",
       "      <td>0.0277778</td>\n",
       "      <td>0.04</td>\n",
       "      <td>0.0136111</td>\n",
       "      <td>0.0025</td>\n",
       "      <td>0.0025</td>\n",
       "      <td>0.0444444</td>\n",
       "      <td>0.0025</td>\n",
       "      <td>0.01</td>\n",
       "      <td>0.06</td>\n",
       "      <td>0.00333333</td>\n",
       "      <td>0.0116667</td>\n",
       "      <td>0.05</td>\n",
       "      <td>0.00166667</td>\n",
       "      <td>0.04</td>\n",
       "      <td>0.00333333</td>\n",
       "      <td>0.00888889</td>\n",
       "      <td>0.00111111</td>\n",
       "      <td>0.00111111</td>\n",
       "    </tr>\n",
       "    <tr>\n",
       "      <th>$S_{ab}$</th>\n",
       "      <td>3</td>\n",
       "      <td>5</td>\n",
       "      <td>4</td>\n",
       "      <td>4</td>\n",
       "      <td>6</td>\n",
       "      <td>7</td>\n",
       "      <td>7</td>\n",
       "      <td>0</td>\n",
       "      <td>7</td>\n",
       "      <td>3</td>\n",
       "      <td>-1</td>\n",
       "      <td>8</td>\n",
       "      <td>4</td>\n",
       "      <td>0</td>\n",
       "      <td>8</td>\n",
       "      <td>-1</td>\n",
       "      <td>6</td>\n",
       "      <td>0</td>\n",
       "      <td>6</td>\n",
       "      <td>6</td>\n",
       "    </tr>\n",
       "  </tbody>\n",
       "</table>\n",
       "</div>"
      ],
      "text/plain": [
       "              TT         SS         VV     KK         YY      AA      FF  \\\n",
       "$F_{ab}$       9         11         14     21         11       3       3   \n",
       "$P_{ab}$   0.075  0.0916667   0.116667  0.175  0.0916667   0.025   0.025   \n",
       "$E_{ab}$  0.0225  0.0177778  0.0277778   0.04  0.0136111  0.0025  0.0025   \n",
       "$S_{ab}$       3          5          4      4          6       7       7   \n",
       "\n",
       "                 SV      HH     LT    KT          AP         FY    TV  \\\n",
       "$F_{ab}$          6       3      3     6           6          6     6   \n",
       "$P_{ab}$       0.05   0.025  0.025  0.05        0.05       0.05  0.05   \n",
       "$E_{ab}$  0.0444444  0.0025   0.01  0.06  0.00333333  0.0116667  0.05   \n",
       "$S_{ab}$          0       7      3    -1           8          4     0   \n",
       "\n",
       "                  HQ     ST          HL          LS          PP          LQ  \n",
       "$F_{ab}$           3      3           3           1           1           1  \n",
       "$P_{ab}$       0.025  0.025       0.025  0.00833333  0.00833333  0.00833333  \n",
       "$E_{ab}$  0.00166667   0.04  0.00333333  0.00888889  0.00111111  0.00111111  \n",
       "$S_{ab}$           8     -1           6           0           6           6  "
      ]
     },
     "execution_count": 8,
     "metadata": {},
     "output_type": "execute_result"
    }
   ],
   "source": [
    "aminoacidpair_df"
   ]
  },
  {
   "cell_type": "markdown",
   "metadata": {},
   "source": [
    "### Exercise 3"
   ]
  },
  {
   "cell_type": "markdown",
   "metadata": {},
   "source": [
    "### Don't use data frames to store the BLOSUM scoring matrix !!!\n",
    "\n",
    "##### How to store the Blosum scoring matrix for lookup?\n",
    "###### Don't use a data frame!\n",
    "You could use a dictionary of dictionaries where the keys are aminoacids but why not use a single dictionary where the keys are pairs of amino acids."
   ]
  },
  {
   "cell_type": "code",
   "execution_count": 9,
   "metadata": {},
   "outputs": [
    {
     "name": "stdout",
     "output_type": "stream",
     "text": [
      "   A  R  N  D  C  Q  E  G  H  I  L  K  M  F  P  S  T  W  Y  V\n",
      "A  4 -1 -2 -2  0 -1 -1  0 -2 -1 -1 -1 -1 -2 -1  1  0 -3 -2  0\n",
      "R -1  5  0 -2 -3  1  0 -2  0 -3 -2  2 -1 -3 -2 -1 -1 -3 -2 -3\n",
      "N -2  0  6  1 -3  0  0  0  1 -3 -3  0 -2 -3 -2  1  0 -4 -2 -3\n",
      "D -2 -2  1  6 -3  0  2 -1 -1 -3 -4 -1 -3 -3 -1  0 -1 -4 -3 -3\n",
      "C  0 -3 -3 -3  9 -3 -4 -3 -3 -1 -1 -3 -1 -2 -3 -1 -1 -2 -2 -1\n",
      "Q -1  1  0  0 -3  5  2 -2  0 -3 -2  1  0 -3 -1  0 -1 -2 -1 -2\n",
      "E -1  0  0  2 -4  2  5 -2  0 -3 -3  1 -2 -3 -1  0 -1 -3 -2 -2\n",
      "G  0 -2  0 -1 -3 -2 -2  6 -2 -4 -4 -2 -3 -3 -2  0 -2 -2 -3 -3\n",
      "H -2  0  1 -1 -3  0  0 -2  8 -3 -3 -1 -2 -1 -2 -1 -2 -2  2 -3\n",
      "I -1 -3 -3 -3 -1 -3 -3 -4 -3  4  2 -3  1  0 -3 -2 -1 -3 -1  3\n",
      "L -1 -2 -3 -4 -1 -2 -3 -4 -3  2  4 -2  2  0 -3 -2 -1 -2 -1  1\n",
      "K -1  2  0 -1 -3  1  1 -2 -1 -3 -2  5 -1 -3 -1  0 -1 -3 -2 -2\n",
      "M -1 -1 -2 -3 -1  0 -2 -3 -2  1  2 -1  5  0 -2 -1 -1 -1 -1  1\n",
      "F -2 -3 -3 -3 -2 -3 -3 -3 -1  0  0 -3  0  6 -4 -2 -2  1  3 -1\n",
      "P -1 -2 -2 -1 -3 -1 -1 -2 -2 -3 -3 -1 -2 -4  7 -1 -1 -4 -3 -2\n",
      "S  1 -1  1  0 -1  0  0  0 -1 -2 -2  0 -1 -2 -1  4  1 -3 -2 -2\n",
      "T  0 -1  0 -1 -1 -1 -1 -2 -2 -1 -1 -1 -1 -2 -1  1  5 -2 -2  0\n",
      "W -3 -3 -4 -4 -2 -2 -3 -2 -2 -3 -2 -3 -1  1 -4 -3 -2 11  2 -3\n",
      "Y -2 -2 -2 -3 -2 -1 -2 -3  2 -1 -1 -2 -1  3 -3 -2 -2  2  7 -1\n",
      "V  0 -3 -3 -3 -1 -2 -2 -3 -3  3  1 -2  1 -1 -2 -2  0 -3 -1  4\n",
      "\n",
      "\n"
     ]
    }
   ],
   "source": [
    "print(open(\"blosum62.txt\").read())"
   ]
  },
  {
   "cell_type": "markdown",
   "metadata": {},
   "source": [
    "To create the scoring matrix data structure, read the file line by line:"
   ]
  },
  {
   "cell_type": "markdown",
   "metadata": {},
   "source": [
    "1. Read the first line to get the amino acid columns:"
   ]
  },
  {
   "cell_type": "code",
   "execution_count": 10,
   "metadata": {},
   "outputs": [
    {
     "name": "stdout",
     "output_type": "stream",
     "text": [
      "['A', 'R', 'N', 'D', 'C', 'Q', 'E', 'G', 'H', 'I', 'L', 'K', 'M', 'F', 'P', 'S', 'T', 'W', 'Y', 'V']\n"
     ]
    }
   ],
   "source": [
    "fh = open(\"blosum62.txt\")\n",
    "line = fh.readline()\n",
    "aa_cols = line.split() # Splits using whitespaces\n",
    "print(aa_cols)"
   ]
  },
  {
   "cell_type": "markdown",
   "metadata": {},
   "source": [
    "2. Read the following lines containing the scores "
   ]
  },
  {
   "cell_type": "code",
   "execution_count": 11,
   "metadata": {},
   "outputs": [
    {
     "name": "stdout",
     "output_type": "stream",
     "text": [
      "The pair alignment AA has a score of 4\n",
      "The pair alignment AR has a score of -1\n",
      "The pair alignment AN has a score of -2\n",
      "The pair alignment AD has a score of -2\n",
      "The pair alignment AC has a score of 0\n",
      "The pair alignment AQ has a score of -1\n",
      "The pair alignment AE has a score of -1\n",
      "The pair alignment AG has a score of 0\n",
      "The pair alignment AH has a score of -2\n",
      "The pair alignment AI has a score of -1\n",
      "The pair alignment AL has a score of -1\n",
      "The pair alignment AK has a score of -1\n",
      "The pair alignment AM has a score of -1\n",
      "The pair alignment AF has a score of -2\n",
      "The pair alignment AP has a score of -1\n",
      "The pair alignment AS has a score of 1\n",
      "The pair alignment AT has a score of 0\n",
      "The pair alignment AW has a score of -3\n",
      "The pair alignment AY has a score of -2\n",
      "The pair alignment AV has a score of 0\n",
      "\n",
      "The pair alignment RA has a score of -1\n",
      "The pair alignment RR has a score of 5\n",
      "The pair alignment RN has a score of 0\n",
      "The pair alignment RD has a score of -2\n",
      "The pair alignment RC has a score of -3\n",
      "The pair alignment RQ has a score of 1\n",
      "The pair alignment RE has a score of 0\n",
      "The pair alignment RG has a score of -2\n",
      "The pair alignment RH has a score of 0\n",
      "The pair alignment RI has a score of -3\n",
      "The pair alignment RL has a score of -2\n",
      "The pair alignment RK has a score of 2\n",
      "The pair alignment RM has a score of -1\n",
      "The pair alignment RF has a score of -3\n",
      "The pair alignment RP has a score of -2\n",
      "The pair alignment RS has a score of -1\n",
      "The pair alignment RT has a score of -1\n",
      "The pair alignment RW has a score of -3\n",
      "The pair alignment RY has a score of -2\n",
      "The pair alignment RV has a score of -3\n",
      "\n"
     ]
    }
   ],
   "source": [
    "for line in fh:\n",
    "    entries = line.split()\n",
    "    row_aa = entries[0] # first entry is the aa\n",
    "    scores = entries[1:] # following entries are the scores\n",
    "    # Match the scores with the correct column aa\n",
    "    for sc,col_aa in zip(scores,aa_cols):\n",
    "        print(\"The pair alignment {} has a score of {}\".format(row_aa+col_aa,int(sc)))\n",
    "    print()\n",
    "    if row_aa==\"R\":\n",
    "        # As this code is just for illustrative purposes, let's quit early\n",
    "        break"
   ]
  },
  {
   "cell_type": "markdown",
   "metadata": {},
   "source": [
    "### Don't use data frames to store the dynamic programming matrix!!!"
   ]
  },
  {
   "cell_type": "markdown",
   "metadata": {},
   "source": [
    "##### If you still insist on using data frames: Don't use ``iloc``, use ``iat`` to access elements. ``iloc`` has terrible performance compared to ``iat``. \n",
    "See https://stackoverflow.com/questions/46426875/difference-between-pandas-iloc-and-iat/46426937"
   ]
  },
  {
   "cell_type": "markdown",
   "metadata": {},
   "source": [
    "##### How to store the dynamic programing matrix\n",
    "\n",
    "A nested list of lists would work if you confine yourself to plain Python. However a two-dimensional numpy array works nicely."
   ]
  },
  {
   "cell_type": "markdown",
   "metadata": {},
   "source": [
    "##### The dynamic programming loop:\n",
    "\n",
    "Needed:\n",
    "1. ``seq1``: amino acid sequence 1 represented by the rows of  the dynamic programming matrix (as string)\n",
    "2. ``seq2``: amino acid sequence 2 represented by the columns of  the dynamic programming matrix (as string)\n",
    "3. ``scoring_matrix``: the Blosum scoring matrix. Here represented as a dictionary where the keys are pairs of aa's\n",
    "4. ``w``: The gap penalty\n",
    "5. ``dp_matrix``: 2-dimensional numpy array with len(seq1)+1 rows and len(seq2)+1 columns"
   ]
  },
  {
   "cell_type": "markdown",
   "metadata": {},
   "source": [
    "After intialization of ``dp_matrix`` you can use a nested loop to fill in the entries of the matrix:\n",
    "\n",
    "    for i in range(1,len(seq1)+1):\n",
    "            for j in range(1,len(seq2)+1):\n",
    "                # Determine dp_matrix[i,j] here\n",
    "                # 1. look at dp_matrix[i-1,j] + gap-penalty\n",
    "                # 2. look at dp_matrix[i,j-1] + gap-penalty\n",
    "                # 3. look at dp_matrix[i-1,j-1] + score for matching seq1[i-1] and seq2[j-1]\n",
    "                #        (Note here that the indices for seq1 and seq2 are shifted by 1 because dp_matrix\n",
    "                #         has an additional first row/column)"
   ]
  },
  {
   "cell_type": "code",
   "execution_count": null,
   "metadata": {},
   "outputs": [],
   "source": []
  }
 ],
 "metadata": {
  "kernelspec": {
   "display_name": "Python 3",
   "language": "python",
   "name": "python3"
  },
  "language_info": {
   "codemirror_mode": {
    "name": "ipython",
    "version": 3
   },
   "file_extension": ".py",
   "mimetype": "text/x-python",
   "name": "python",
   "nbconvert_exporter": "python",
   "pygments_lexer": "ipython3",
   "version": "3.6.10"
  }
 },
 "nbformat": 4,
 "nbformat_minor": 4
}
