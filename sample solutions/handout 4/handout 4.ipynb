{
 "cells": [
  {
   "cell_type": "markdown",
   "metadata": {},
   "source": [
    "### Ex. 2 Calculating scoring matrices"
   ]
  },
  {
   "cell_type": "code",
   "execution_count": 14,
   "metadata": {},
   "outputs": [],
   "source": [
    "S1='TSVKTYAKFVTH'\n",
    "S2='TSVKTYAKFSTH'\n",
    "S3='TSVKTYAKFVTH'\n",
    "S4='LSVKKYPKYVVQ'\n",
    "S5='SSVKKYPKYSVL'\n",
    "alignment=[S1,S2,S3,S4,S5] \n",
    "from collections import Counter\n",
    "from itertools import combinations\n",
    "from math import log\n",
    "f_a=Counter()\n",
    "for s in alignment:\n",
    "    f_a.update(s)\n",
    "total = sum(f_a.values())\n",
    "p_a = {k:v/total for k,v in f_a.items()}\n",
    "\n",
    "f_ab = Counter()\n",
    "for seq_a,seq_b in combinations(alignment,2):\n",
    "    f_ab.update(\"\".join(sorted(ab)) for ab in zip(seq_a,seq_b))\n",
    "\n",
    "total_pairs = sum(f_ab.values())\n",
    "p_ab = {k:v/total_pairs for k,v in f_ab.items()}\n",
    "\n",
    "e_ab = {a+b:(2-(a==b))*p_a[a]*p_a[b] for a,b in f_ab}\n",
    "\n",
    "s_ab = {ab:2*log(p_ab[ab]/e_ab[ab])/log(2) for ab in p_ab}\n"
   ]
  },
  {
   "cell_type": "code",
   "execution_count": 15,
   "metadata": {},
   "outputs": [
    {
     "data": {
      "text/html": [
       "<div>\n",
       "<style scoped>\n",
       "    .dataframe tbody tr th:only-of-type {\n",
       "        vertical-align: middle;\n",
       "    }\n",
       "\n",
       "    .dataframe tbody tr th {\n",
       "        vertical-align: top;\n",
       "    }\n",
       "\n",
       "    .dataframe thead th {\n",
       "        text-align: right;\n",
       "    }\n",
       "</style>\n",
       "<table border=\"1\" class=\"dataframe\">\n",
       "  <thead>\n",
       "    <tr style=\"text-align: right;\">\n",
       "      <th></th>\n",
       "      <th>T</th>\n",
       "      <th>S</th>\n",
       "      <th>V</th>\n",
       "      <th>K</th>\n",
       "      <th>Y</th>\n",
       "      <th>A</th>\n",
       "      <th>F</th>\n",
       "      <th>H</th>\n",
       "      <th>L</th>\n",
       "      <th>P</th>\n",
       "      <th>Q</th>\n",
       "    </tr>\n",
       "  </thead>\n",
       "  <tbody>\n",
       "    <tr>\n",
       "      <th>$F_a$</th>\n",
       "      <td>9</td>\n",
       "      <td>8</td>\n",
       "      <td>10</td>\n",
       "      <td>12</td>\n",
       "      <td>7</td>\n",
       "      <td>3</td>\n",
       "      <td>3</td>\n",
       "      <td>3</td>\n",
       "      <td>2</td>\n",
       "      <td>2</td>\n",
       "      <td>1</td>\n",
       "    </tr>\n",
       "    <tr>\n",
       "      <th>$P_a$</th>\n",
       "      <td>0.15</td>\n",
       "      <td>0.133333</td>\n",
       "      <td>0.166667</td>\n",
       "      <td>0.2</td>\n",
       "      <td>0.116667</td>\n",
       "      <td>0.05</td>\n",
       "      <td>0.05</td>\n",
       "      <td>0.05</td>\n",
       "      <td>0.0333333</td>\n",
       "      <td>0.0333333</td>\n",
       "      <td>0.0166667</td>\n",
       "    </tr>\n",
       "  </tbody>\n",
       "</table>\n",
       "</div>"
      ],
      "text/plain": [
       "          T         S         V    K         Y     A     F     H          L  \\\n",
       "$F_a$     9         8        10   12         7     3     3     3          2   \n",
       "$P_a$  0.15  0.133333  0.166667  0.2  0.116667  0.05  0.05  0.05  0.0333333   \n",
       "\n",
       "               P          Q  \n",
       "$F_a$          2          1  \n",
       "$P_a$  0.0333333  0.0166667  "
      ]
     },
     "execution_count": 15,
     "metadata": {},
     "output_type": "execute_result"
    }
   ],
   "source": [
    "import pandas as pd\n",
    "aminoacid=pd.DataFrame(index=['$F_a$','$P_a$'],columns=p_a.keys())\n",
    "for each in p_a:\n",
    "    aminoacid.loc['$F_a$',each]=f_a[each]\n",
    "    aminoacid.loc['$P_a$',each]=p_a[each]\n",
    "\n",
    "aminoacid"
   ]
  },
  {
   "cell_type": "code",
   "execution_count": 16,
   "metadata": {},
   "outputs": [
    {
     "data": {
      "text/html": [
       "<div>\n",
       "<style scoped>\n",
       "    .dataframe tbody tr th:only-of-type {\n",
       "        vertical-align: middle;\n",
       "    }\n",
       "\n",
       "    .dataframe tbody tr th {\n",
       "        vertical-align: top;\n",
       "    }\n",
       "\n",
       "    .dataframe thead th {\n",
       "        text-align: right;\n",
       "    }\n",
       "</style>\n",
       "<table border=\"1\" class=\"dataframe\">\n",
       "  <thead>\n",
       "    <tr style=\"text-align: right;\">\n",
       "      <th></th>\n",
       "      <th>TT</th>\n",
       "      <th>SS</th>\n",
       "      <th>VV</th>\n",
       "      <th>KK</th>\n",
       "      <th>YY</th>\n",
       "      <th>AA</th>\n",
       "      <th>FF</th>\n",
       "      <th>SV</th>\n",
       "      <th>HH</th>\n",
       "      <th>LT</th>\n",
       "      <th>KT</th>\n",
       "      <th>AP</th>\n",
       "      <th>FY</th>\n",
       "      <th>TV</th>\n",
       "      <th>HQ</th>\n",
       "      <th>ST</th>\n",
       "      <th>HL</th>\n",
       "      <th>LS</th>\n",
       "      <th>PP</th>\n",
       "      <th>LQ</th>\n",
       "    </tr>\n",
       "  </thead>\n",
       "  <tbody>\n",
       "    <tr>\n",
       "      <th>$F_{ab}$</th>\n",
       "      <td>9</td>\n",
       "      <td>11</td>\n",
       "      <td>14</td>\n",
       "      <td>21</td>\n",
       "      <td>11</td>\n",
       "      <td>3</td>\n",
       "      <td>3</td>\n",
       "      <td>6</td>\n",
       "      <td>3</td>\n",
       "      <td>3</td>\n",
       "      <td>6</td>\n",
       "      <td>6</td>\n",
       "      <td>6</td>\n",
       "      <td>6</td>\n",
       "      <td>3</td>\n",
       "      <td>3</td>\n",
       "      <td>3</td>\n",
       "      <td>1</td>\n",
       "      <td>1</td>\n",
       "      <td>1</td>\n",
       "    </tr>\n",
       "    <tr>\n",
       "      <th>$P_{ab}$</th>\n",
       "      <td>0.075</td>\n",
       "      <td>0.0916667</td>\n",
       "      <td>0.116667</td>\n",
       "      <td>0.175</td>\n",
       "      <td>0.0916667</td>\n",
       "      <td>0.025</td>\n",
       "      <td>0.025</td>\n",
       "      <td>0.05</td>\n",
       "      <td>0.025</td>\n",
       "      <td>0.025</td>\n",
       "      <td>0.05</td>\n",
       "      <td>0.05</td>\n",
       "      <td>0.05</td>\n",
       "      <td>0.05</td>\n",
       "      <td>0.025</td>\n",
       "      <td>0.025</td>\n",
       "      <td>0.025</td>\n",
       "      <td>0.00833333</td>\n",
       "      <td>0.00833333</td>\n",
       "      <td>0.00833333</td>\n",
       "    </tr>\n",
       "    <tr>\n",
       "      <th>$E_{ab}$</th>\n",
       "      <td>0.0225</td>\n",
       "      <td>0.0177778</td>\n",
       "      <td>0.0277778</td>\n",
       "      <td>0.04</td>\n",
       "      <td>0.0136111</td>\n",
       "      <td>0.0025</td>\n",
       "      <td>0.0025</td>\n",
       "      <td>0.0444444</td>\n",
       "      <td>0.0025</td>\n",
       "      <td>0.01</td>\n",
       "      <td>0.06</td>\n",
       "      <td>0.00333333</td>\n",
       "      <td>0.0116667</td>\n",
       "      <td>0.05</td>\n",
       "      <td>0.00166667</td>\n",
       "      <td>0.04</td>\n",
       "      <td>0.00333333</td>\n",
       "      <td>0.00888889</td>\n",
       "      <td>0.00111111</td>\n",
       "      <td>0.00111111</td>\n",
       "    </tr>\n",
       "    <tr>\n",
       "      <th>$S_{ab}$</th>\n",
       "      <td>3</td>\n",
       "      <td>5</td>\n",
       "      <td>4</td>\n",
       "      <td>4</td>\n",
       "      <td>6</td>\n",
       "      <td>7</td>\n",
       "      <td>7</td>\n",
       "      <td>0</td>\n",
       "      <td>7</td>\n",
       "      <td>3</td>\n",
       "      <td>-1</td>\n",
       "      <td>8</td>\n",
       "      <td>4</td>\n",
       "      <td>0</td>\n",
       "      <td>8</td>\n",
       "      <td>-1</td>\n",
       "      <td>6</td>\n",
       "      <td>0</td>\n",
       "      <td>6</td>\n",
       "      <td>6</td>\n",
       "    </tr>\n",
       "  </tbody>\n",
       "</table>\n",
       "</div>"
      ],
      "text/plain": [
       "              TT         SS         VV     KK         YY      AA      FF  \\\n",
       "$F_{ab}$       9         11         14     21         11       3       3   \n",
       "$P_{ab}$   0.075  0.0916667   0.116667  0.175  0.0916667   0.025   0.025   \n",
       "$E_{ab}$  0.0225  0.0177778  0.0277778   0.04  0.0136111  0.0025  0.0025   \n",
       "$S_{ab}$       3          5          4      4          6       7       7   \n",
       "\n",
       "                 SV      HH     LT    KT          AP         FY    TV  \\\n",
       "$F_{ab}$          6       3      3     6           6          6     6   \n",
       "$P_{ab}$       0.05   0.025  0.025  0.05        0.05       0.05  0.05   \n",
       "$E_{ab}$  0.0444444  0.0025   0.01  0.06  0.00333333  0.0116667  0.05   \n",
       "$S_{ab}$          0       7      3    -1           8          4     0   \n",
       "\n",
       "                  HQ     ST          HL          LS          PP          LQ  \n",
       "$F_{ab}$           3      3           3           1           1           1  \n",
       "$P_{ab}$       0.025  0.025       0.025  0.00833333  0.00833333  0.00833333  \n",
       "$E_{ab}$  0.00166667   0.04  0.00333333  0.00888889  0.00111111  0.00111111  \n",
       "$S_{ab}$           8     -1           6           0           6           6  "
      ]
     },
     "execution_count": 16,
     "metadata": {},
     "output_type": "execute_result"
    }
   ],
   "source": [
    "aminoacid_pair=pd.DataFrame(index=['$F_{ab}$','$P_{ab}$','$E_{ab}$','$S_{ab}$'],columns=e_ab)\n",
    "    \n",
    "for each in e_ab:\n",
    "    aminoacid_pair.loc['$F_{ab}$',each]=f_ab[each]\n",
    "    aminoacid_pair.loc['$P_{ab}$',each]=p_ab[each]\n",
    "    aminoacid_pair.loc['$E_{ab}$',each]=e_ab[each]\n",
    "    aminoacid_pair.loc['$S_{ab}$',each]=round(s_ab[each])\n",
    "\n",
    "aminoacid_pair"
   ]
  },
  {
   "cell_type": "code",
   "execution_count": 17,
   "metadata": {},
   "outputs": [],
   "source": [
    "import pickle\n",
    "with open(\"answer_ho3ex1.pickle\",\"wb\") as fh:\n",
    "    pickle.dump((aminoacid,aminoacid_pair),fh)\n"
   ]
  },
  {
   "cell_type": "code",
   "execution_count": 18,
   "metadata": {},
   "outputs": [],
   "source": [
    "from collections import Counter,defaultdict\n",
    "from itertools import combinations,product\n",
    "from math import log\n",
    "\n",
    "aa = \"ARNDCQEGHILKMFPSTWYV\"\n",
    "\n",
    "def get_scores(alignment,with_pseudocount=False):\n",
    "    # Frequencies of individual amin acids\n",
    "    f_a=Counter()\n",
    "    for s in alignment:\n",
    "        f_a.update(s)\n",
    "    total = sum(f_a.values())\n",
    "    p_a = {k:v/total for k,v in f_a.items()}\n",
    "\n",
    "    # Frequencies of aa-pairs\n",
    "    f_ab = Counter()\n",
    "    if with_pseudocount:\n",
    "        for ab in product(aa,aa):\n",
    "            f_ab[\"\".join(sorted(ab))] = +1\n",
    "    for seq_a,seq_b in combinations(alignment,2):\n",
    "        f_ab.update(\"\".join(sorted(ab)) for ab in zip(seq_a,seq_b))\n",
    "    \n",
    "    total_pairs = sum(f_ab.values())\n",
    "    p_ab = {k:v/total_pairs for k,v in f_ab.items()}\n",
    "\n",
    "    e_ab = {a+b:(2-(a==b))*p_a[a]*p_a[b] for a,b in f_ab}\n",
    "\n",
    "    s_ab = {ab:round(2*log(p_ab[ab]/e_ab[ab])/log(2)) for ab in p_ab}\n",
    "    return s_ab\n",
    "    \n",
    "def scores2matrix(scores):\n",
    "    matrix=defaultdict(dict)\n",
    "    for a,b in product(aa,aa):\n",
    "        matrix[a][b] = scores.get(a+b,scores.get(b+a,-99))\n",
    "    return matrix\n",
    "\n",
    "def print_matrix(matrix,fh):\n",
    "    fs=\"{:>5}\"\n",
    "    print(fs.format(\"\")+\"\".join(map(lambda x: fs.format(x),aa)),file=fh)\n",
    "    for a in aa:\n",
    "        print(fs.format(a),end=\"\",file=fh)\n",
    "        for b in aa:\n",
    "            print(fs.format(matrix[a][b]),end=\"\",file=fh)\n",
    "        print(file=fh)\n",
    "    \n"
   ]
  },
  {
   "cell_type": "code",
   "execution_count": 19,
   "metadata": {},
   "outputs": [
    {
     "name": "stdout",
     "output_type": "stream",
     "text": [
      "         A    R    N    D    C    Q    E    G    H    I    L    K    M    F    P    S    T    W    Y    V\n",
      "    A    5   -3   -2   -2   -2   -1   -1   -3   -1   -2   -2   -1   -2   -4    0    1    0   -7   -6    0\n",
      "    R   -3    6   -1   -4    0   -1   -3    0    1   -3   -2    2   -2   -3   -5   -3   -1   -4   -2   -3\n",
      "    N   -2   -1    7    1   -3   -1    0   -2   -1   -1   -7   -2   -4   -4   -3    0    0   -6   -3   -1\n",
      "    D   -2   -4    1    6   -3   -6    1   -2   -3   -2   -3   -3   -5   -3   -6   -4   -5   -8   -4   -2\n",
      "    C   -2    0   -3   -3    8    1   -2   -1  -99   -2   -1   -4    1    0   -1   -2    0   -3    0   -1\n",
      "    Q   -1   -1   -1   -6    1    7   -1   -4    3    0   -2    1   -4   -3   -4   -3   -5   -5   -6   -4\n",
      "    E   -1   -3    0    1   -2   -1    5   -3   -6   -3   -3   -1    0   -7   -1   -3   -3   -3   -3   -3\n",
      "    G   -3    0   -2   -2   -1   -4   -3    7   -4   -4   -2   -3   -3   -7   -4    1   -2    1   -5   -2\n",
      "    H   -1    1   -1   -3  -99    3   -6   -4    8    0   -3   -4    0   -5   -3   -1   -3   -5    1   -3\n",
      "    I   -2   -3   -1   -2   -2    0   -3   -4    0    6    0   -4   -1   -1   -3   -3   -2   -5   -2    2\n",
      "    L   -2   -2   -7   -3   -1   -2   -3   -2   -3    0    6   -7    1    1   -3   -3   -4   -2   -3    0\n",
      "    K   -1    2   -2   -3   -4    1   -1   -3   -4   -4   -7    6   -5  -10   -4   -1   -1   -2   -6   -2\n",
      "    M   -2   -2   -4   -5    1   -4    0   -3    0   -1    1   -5    9    0   -4   -2    0   -6   -6    0\n",
      "    F   -4   -3   -4   -3    0   -3   -7   -7   -5   -1    1  -10    0    7   -5   -5   -3    0    3   -3\n",
      "    P    0   -5   -3   -6   -1   -4   -1   -4   -3   -3   -3   -4   -4   -5    7    0   -2   -5   -3   -5\n",
      "    S    1   -3    0   -4   -2   -3   -3    1   -1   -3   -3   -1   -2   -5    0    5    1   -7   -3   -3\n",
      "    T    0   -1    0   -5    0   -5   -3   -2   -3   -2   -4   -1    0   -3   -2    1    6   -5   -2   -2\n",
      "    W   -7   -4   -6   -8   -3   -5   -3    1   -5   -5   -2   -2   -6    0   -5   -7   -5    9   -8   -1\n",
      "    Y   -6   -2   -3   -4    0   -6   -3   -5    1   -2   -3   -6   -6    3   -3   -3   -2   -8    8   -4\n",
      "    V    0   -3   -1   -2   -1   -4   -3   -2   -3    2    0   -2    0   -3   -5   -3   -2   -1   -4    6\n"
     ]
    }
   ],
   "source": [
    "import sys\n",
    "alignment=open(\"alignment.dat\").read().split()\n",
    "scores = get_scores(alignment)\n",
    "matrix = scores2matrix(scores)\n",
    "print_matrix(matrix,sys.stdout)\n",
    "print_matrix(matrix,open(\"score_matrix.txt\",\"w\"))"
   ]
  },
  {
   "cell_type": "code",
   "execution_count": 7,
   "metadata": {},
   "outputs": [
    {
     "name": "stdout",
     "output_type": "stream",
     "text": [
      "         A    R    N    D    C    Q    E    G    H    I    L    K    M    F    P    S    T    W    Y    V\n",
      "    A    5   -2   -2   -2   -2   -1   -1   -3   -1   -2   -2   -1   -1   -4    0    1    0   -6   -6    0\n",
      "    R   -2    6   -1   -4    0   -1   -3    0    1   -3   -2    1   -2   -3   -5   -3   -1   -4   -1   -3\n",
      "    N   -2   -1    7    1   -3   -1    0   -2   -1   -1   -7   -2   -3   -4   -3    0    0   -5   -3   -1\n",
      "    D   -2   -4    1    6   -3   -5    1   -2   -3   -2   -3   -3   -5   -3   -5   -4   -5   -7   -4   -2\n",
      "    C   -2    0   -3   -3    8    1   -2   -1   -7   -1   -1   -3    1    1   -1   -1    0   -3    0   -1\n",
      "    Q   -1   -1   -1   -5    1    7   -1   -4    3    0   -2    1   -3   -3   -4   -3   -4   -5   -5   -4\n",
      "    E   -1   -3    0    1   -2   -1    5   -3   -5   -3   -3   -1    0   -6   -1   -3   -3   -3   -3   -3\n",
      "    G   -3    0   -2   -2   -1   -4   -3    7   -3   -4   -2   -3   -3   -6   -4    1   -2    1   -4   -2\n",
      "    H   -1    1   -1   -3   -7    3   -5   -3    8    0   -3   -4    0   -4   -2   -1   -3   -4    1   -3\n",
      "    I   -2   -3   -1   -2   -1    0   -3   -4    0    6    0   -4    0   -1   -3   -2   -2   -5   -2    2\n",
      "    L   -2   -2   -7   -3   -1   -2   -3   -2   -3    0    5   -7    1    1   -3   -3   -4   -2   -3    0\n",
      "    K   -1    1   -2   -3   -3    1   -1   -3   -4   -4   -7    6   -5   -9   -4   -1   -1   -2   -5   -2\n",
      "    M   -1   -2   -3   -5    1   -3    0   -3    0    0    1   -5    9    0   -4   -2    0   -4   -4    0\n",
      "    F   -4   -3   -4   -3    1   -3   -6   -6   -4   -1    1   -9    0    7   -5   -5   -3    0    3   -3\n",
      "    P    0   -5   -3   -5   -1   -4   -1   -4   -2   -3   -3   -4   -4   -5    7    0   -2   -4   -3   -5\n",
      "    S    1   -3    0   -4   -1   -3   -3    1   -1   -2   -3   -1   -2   -5    0    5    0   -6   -3   -3\n",
      "    T    0   -1    0   -5    0   -4   -3   -2   -3   -2   -4   -1    0   -3   -2    0    6   -4   -2   -2\n",
      "    W   -6   -4   -5   -7   -3   -5   -3    1   -4   -5   -2   -2   -4    0   -4   -6   -4    9   -6   -1\n",
      "    Y   -6   -1   -3   -4    0   -5   -3   -4    1   -2   -3   -5   -4    3   -3   -3   -2   -6    8   -4\n",
      "    V    0   -3   -1   -2   -1   -4   -3   -2   -3    2    0   -2    0   -3   -5   -3   -2   -1   -4    6\n"
     ]
    }
   ],
   "source": [
    "import sys\n",
    "alignment=open(\"alignment.dat\").read().split()\n",
    "scores = get_scores(alignment,with_pseudocount=True)\n",
    "matrix = scores2matrix(scores)\n",
    "print_matrix(matrix,sys.stdout)\n",
    "print_matrix(matrix,open(\"score_matrix_laplace.txt\",\"w\"))"
   ]
  },
  {
   "cell_type": "markdown",
   "metadata": {},
   "source": [
    "### Ex. 3 Global alignment"
   ]
  },
  {
   "cell_type": "code",
   "execution_count": 6,
   "metadata": {},
   "outputs": [
    {
     "name": "stdout",
     "output_type": "stream",
     "text": [
      "Score= -16.0\n",
      "\n",
      "--R-AYMQNDLVKVRYYACHT\n",
      "  | |  |  | ::       \n",
      "THRQATWQPPLERMANGRQVE\n",
      "\n"
     ]
    }
   ],
   "source": [
    "%run needle.py -5 blosum62.txt ray.fasta throat.fasta"
   ]
  },
  {
   "cell_type": "markdown",
   "metadata": {},
   "source": [
    "### Ex.3 RNAS1 --- Three-way comparison"
   ]
  },
  {
   "cell_type": "code",
   "execution_count": 7,
   "metadata": {},
   "outputs": [
    {
     "name": "stdout",
     "output_type": "stream",
     "text": [
      "Score= 683.0\n",
      "\n",
      "KESPAMKFERQHMDSGSTSSSNPTYCNQMMKRRNMTQGWCKPVNTFVHEPLADVQAICLQKNITCKNGQSNCYQSSSSMH\n",
      ":|||||||:|||||||::  :|| |||||| || |||| |||||||||| | ||:|:| |||: ||||::|||:|:|:||\n",
      "RESPAMKFQRQHMDSGNSPGNNPNYCNQMMMRRKMTQGRCKPVNTFVHESLEDVKAVCSQKNVLCKNGRTNCYESNSTMH\n",
      "\n",
      "ITDCRLTSGSKYPNCAYQTSQKERHIIVACEGNPYVPVHFDASVEVST\n",
      "||||| |  ||||||||:|||||:||||||||||||||||| |  |  \n",
      "ITDCRQTGSSKYPNCAYKTSQKEKHIIVACEGNPYVPVHFDNS--V--\n",
      "\n"
     ]
    }
   ],
   "source": [
    "%run needle.py -8 blosum50.txt RNAS1_horse.fasta RNAS1_minke-whale.fasta"
   ]
  },
  {
   "cell_type": "code",
   "execution_count": 8,
   "metadata": {},
   "outputs": [
    {
     "name": "stdout",
     "output_type": "stream",
     "text": [
      "Score= 521.0\n",
      "\n",
      "KESPAMKFERQHMDSGSTSSSNPTYCNQMMKRRNMTQGWCKPVNTFVHEPLADVQAICLQKNITCKNGQSNCYQSSSSMH\n",
      " |:|| ||:|||||:  :::|:  ||| ||| |:|| | |||:|||:||| : | |:| |:|:|||||::|||:|:| : \n",
      "-ETPAEKFQRQHMDTEHSTASSSNYCNLMMKARDMTSGRCKPLNTFIHEPKSVVDAVCHQENVTCKNGRTNCYKSNSRLS\n",
      "\n",
      "ITDCRLTSGSKYPNCAYQTSQKERHIIVACEGNPYVPVHFDASVEVST\n",
      "||:|| |  |||||| |:||   ::|||||||  ||||||||   |  \n",
      "ITNCRQTGASKYPNCQYETSNLNKQIIVACEGQ-YVPVHFDA-Y-V--\n",
      "\n"
     ]
    }
   ],
   "source": [
    "%run needle.py -8 blosum50.txt RNAS1_horse.fasta RNAS1_red-kangaroo.fasta"
   ]
  },
  {
   "cell_type": "code",
   "execution_count": 9,
   "metadata": {},
   "outputs": [
    {
     "name": "stdout",
     "output_type": "stream",
     "text": [
      "Score= 572.0\n",
      "\n",
      "RESPAMKFQRQHMDSGNSPGNNPNYCNQMMMRRKMTQGRCKPVNTFVHESLEDVKAVCSQKNVLCKNGRTNCYESNSTMH\n",
      " |:|| ||||||||: :|  :: |||| ||  | || |||||:|||:||    | ||| |:|| |||||||||:||| : \n",
      "-ETPAEKFQRQHMDTEHSTASSSNYCNLMMKARDMTSGRCKPLNTFIHEPKSVVDAVCHQENVTCKNGRTNCYKSNSRLS\n",
      "\n",
      "ITDCRQTGSSKYPNCAYKTSQKEKHIIVACEGNPYVPVHFDNSV\n",
      "||:|||||:|||||| |:||   |:|||||||  |||||||  |\n",
      "ITNCRQTGASKYPNCQYETSNLNKQIIVACEGQ-YVPVHFDAYV\n",
      "\n"
     ]
    }
   ],
   "source": [
    "%run needle.py -8 blosum50.txt RNAS1_minke-whale.fasta RNAS1_red-kangaroo.fasta"
   ]
  },
  {
   "cell_type": "markdown",
   "metadata": {},
   "source": [
    "### Ex.3 Global vs. local alignment"
   ]
  },
  {
   "cell_type": "code",
   "execution_count": 10,
   "metadata": {},
   "outputs": [
    {
     "name": "stdout",
     "output_type": "stream",
     "text": [
      "Score= 187.0\n",
      "\n",
      "MRQSLKVMVLSTVALLFMANPAAASEEKKEYLIVVEPEEVSAQSVEESYDVDVIHEFEEIPVIHAELTKKELKKLKKDPN\n",
      "  |       | |       |         :             :  |                            :   \n",
      "-AQ-------S-V-------P---------W------------GI--S----------------------------R---\n",
      "\n",
      "VKAIEKNAEVTISQTVPWGISFINTQQAHNRGIFGNGARVAVLDTGIASHPDLRIAGGASFISSEPSYHDNNGHGTHVAG\n",
      "|   :  |        |   :      |||||: |:| :||||||||::|||| | |||||:  |||  | |||||||||\n",
      "V---Q--A--------P---A------AHNRGLTGSGVKVAVLDTGISTHPDLNIRGGASFVPGEPSTQDGNGHGTHVAG\n",
      "\n",
      "TIAALNNSIGVLGVAPSADLYAVKVLDRNGSGSLASVAQGIEWAINNNMHIINMSLGSTSGSSTLELAVNRANNAGILLV\n",
      "||||||||||||||||||:|||||||  :||||::|:|||:||| || ||: |:|||| | |:||| ||| | : |:|:|\n",
      "TIAALNNSIGVLGVAPSAELYAVKVLGASGSGSVSSIAQGLEWAGNNGMHVANLSLGSPSPSATLEQAVNSATSRGVLVV\n",
      "\n",
      "GAAGNTGRQGVNYPARYSGVMAVAAVDQNGQRASFSTYGPEIEISAPGVNVNSTYTGNRYVSLSGTSMATPHVAGVAALV\n",
      " |:||:|   ::|||||:  ||| | |||  ||||| ||  ::| |||||| ||| |: | ||:||||||||||| ||||\n",
      "AASGNSGAGSISYPARYANAMAVGATDQNNNRASFSQYGAGLDIVAPGVNVQSTYPGSTYASLNGTSMATPHVAGAAALV\n",
      "\n",
      "KSRYPSYTNNQIRQRINQTATYLGSPSLYGNGLVHAGRATQ\n",
      "| : ||::| |||  :  ||| ||| :|||:|||:|  ||:\n",
      "KQKNPSWSNVQIRNHLKNTATSLGSTNLYGSGLVNAEAATR\n",
      "\n"
     ]
    }
   ],
   "source": [
    "%run needle.py -8 blosum62.txt halodurans.fasta lentus.fasta"
   ]
  },
  {
   "cell_type": "code",
   "execution_count": 11,
   "metadata": {},
   "outputs": [
    {
     "name": "stdout",
     "output_type": "stream",
     "text": [
      "Score= 916.0\n",
      "\n",
      "SQTVPWGISFINTQQAHNRGIFGNGARVAVLDTGIASHPDLRIAGGASFISSEPSYHDNNGHGTHVAGTIAALNNSIGVL\n",
      ":|:|||||| :    |||||: |:| :||||||||::|||| | |||||:  |||  | |||||||||||||||||||||\n",
      "AQSVPWGISRVQAPAAHNRGLTGSGVKVAVLDTGISTHPDLNIRGGASFVPGEPSTQDGNGHGTHVAGTIAALNNSIGVL\n",
      "\n",
      "GVAPSADLYAVKVLDRNGSGSLASVAQGIEWAINNNMHIINMSLGSTSGSSTLELAVNRANNAGILLVGAAGNTGRQGVN\n",
      "||||||:|||||||  :||||::|:|||:||| || ||: |:|||| | |:||| ||| | : |:|:| |:||:|   ::\n",
      "GVAPSAELYAVKVLGASGSGSVSSIAQGLEWAGNNGMHVANLSLGSPSPSATLEQAVNSATSRGVLVVAASGNSGAGSIS\n",
      "\n",
      "YPARYSGVMAVAAVDQNGQRASFSTYGPEIEISAPGVNVNSTYTGNRYVSLSGTSMATPHVAGVAALVKSRYPSYTNNQI\n",
      "|||||:  ||| | |||  ||||| ||  ::| |||||| ||| |: | ||:||||||||||| ||||| : ||::| ||\n",
      "YPARYANAMAVGATDQNNNRASFSQYGAGLDIVAPGVNVQSTYPGSTYASLNGTSMATPHVAGAAALVKQKNPSWSNVQI\n",
      "\n",
      "RQRINQTATYLGSPSLYGNGLVHAGRATQ\n",
      "|  :  ||| ||| :|||:|||:|  ||:\n",
      "RNHLKNTATSLGSTNLYGSGLVNAEAATR\n",
      "\n"
     ]
    }
   ],
   "source": [
    "%run waterman.py -8 blosum62.txt halodurans.fasta lentus.fasta"
   ]
  },
  {
   "cell_type": "markdown",
   "metadata": {},
   "source": [
    "### Ex.4 Affine gaps"
   ]
  },
  {
   "cell_type": "code",
   "execution_count": 1,
   "metadata": {},
   "outputs": [
    {
     "name": "stdout",
     "output_type": "stream",
     "text": [
      "Score= 358.0\n",
      "\n",
      "MKFFAVLALCIVGAIASPLSADQAALVKSTWAQVRNSEVEILAAVFTAYPDIQARFPQFAGKDVASIKDTGAFATHAGRI\n",
      "|||  :||||:  | || || ||  ||:||: :|:   | || ||| | | ||| |||| |||: :||    |:||||||\n",
      "MKFI-ILALCV--AAASALSGDQIGLVQSTYGKVKGDSVGILYAVFKADPTIQAAFPQFVGKDLDAIKGGAEFSTHAGRI\n",
      "\n",
      "VGFVSEIIALIGNESNAPAVQTLVGQLAASHKARGISQAQFNEFRAGLVSYVSSNVAWNAAAESAWTAGLDNIFGLLFAA\n",
      "|||:  :|       : | :   |  | |:|| ||:: |||| |||  ::|:  :| : || |:|| |  |  || :|| \n",
      "VGFLGGVI------DDLPNIGKHVDALVATHKPRGVTHAQFNNFRAAFIAYLKGHVDYTAAVEAAWGATFDAFFGAVFAK\n",
      "\n",
      "L\n",
      ":\n",
      "M\n",
      "\n"
     ]
    }
   ],
   "source": [
    "%run affine.py -8 -2 blosum62.txt GLB7A_CHITH.fasta GLBE_CHITH.fasta"
   ]
  },
  {
   "cell_type": "code",
   "execution_count": null,
   "metadata": {},
   "outputs": [],
   "source": []
  }
 ],
 "metadata": {
  "kernelspec": {
   "display_name": "Python 3",
   "language": "python",
   "name": "python3"
  },
  "language_info": {
   "codemirror_mode": {
    "name": "ipython",
    "version": 3
   },
   "file_extension": ".py",
   "mimetype": "text/x-python",
   "name": "python",
   "nbconvert_exporter": "python",
   "pygments_lexer": "ipython3",
   "version": "3.7.0"
  }
 },
 "nbformat": 4,
 "nbformat_minor": 2
}
