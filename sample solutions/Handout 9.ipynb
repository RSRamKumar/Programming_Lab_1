{
 "cells": [
  {
   "cell_type": "code",
   "execution_count": 1,
   "metadata": {},
   "outputs": [],
   "source": [
    "from fastatools import fasta_sequences\n",
    "\n",
    "import itertools\n",
    "import operator\n",
    "from math import log,log2\n",
    "from collections import Counter,defaultdict\n",
    "\n",
    "import functools"
   ]
  },
  {
   "cell_type": "code",
   "execution_count": 2,
   "metadata": {},
   "outputs": [],
   "source": [
    "%matplotlib inline\n",
    "import matplotlib.pyplot as plt"
   ]
  },
  {
   "cell_type": "markdown",
   "metadata": {},
   "source": [
    "## Exercise 1"
   ]
  },
  {
   "cell_type": "markdown",
   "metadata": {},
   "source": [
    "#### Exericse 1 (a)"
   ]
  },
  {
   "cell_type": "code",
   "execution_count": 3,
   "metadata": {},
   "outputs": [],
   "source": [
    "\n",
    "def get_kmers(seq,k):\n",
    "    \"\"\" Generator for k-mers of a sequence\n",
    "    \"\"\"\n",
    "    return (seq[i:i+k] for i in range(len(seq)-k+1))\n",
    "\n",
    "def init_counter(k,symbols=\"ACGT\"):\n",
    "    \"\"\" Initialize a counter for k-mers over the alphabet symbols\n",
    "        with a pseudocount of 1\n",
    "    \"\"\"\n",
    "    counter = Counter()\n",
    "    for kmer in itertools.product(symbols,repeat=k):\n",
    "        counter[''.join(kmer)] = 1\n",
    "    return counter\n",
    "\n",
    "def relative_kmer_frequencies(seqs,k,symbols=\"ACGT\"):\n",
    "    \"\"\" Return the relative k-mer frequencies for a collection of sequences seqs\n",
    "    \"\"\"\n",
    "    counter = init_counter(k,symbols)\n",
    "    for seq in seqs:\n",
    "        counter.update(get_kmers(seq,k))\n",
    "    total = sum(counter.values())\n",
    "    for k in counter:\n",
    "        counter[k] /= total\n",
    "    return counter"
   ]
  },
  {
   "cell_type": "markdown",
   "metadata": {},
   "source": [
    "#### Exercise 1 (b)"
   ]
  },
  {
   "cell_type": "code",
   "execution_count": 4,
   "metadata": {},
   "outputs": [],
   "source": [
    "# For demonstration only\n",
    "# Not used in the solution of the exercise\n",
    "def calc_expected(background,k,symbols=\"ACGT\"):\n",
    "    \"\"\" Determine the expected frequencies of k-mers based on background frequencies\n",
    "    \"\"\"\n",
    "    expected = {}\n",
    "    for kmer in itertools.product(symbols,repeat=k):\n",
    "        expected[''.join(kmer)] = reduce(operator.product,kmer)\n",
    "        \n",
    "def log_odds_score(observed,background):\n",
    "    \"\"\" Determine the log-odds score\n",
    "    \"\"\"\n",
    "    lodds={}\n",
    "    for kmer in observed:\n",
    "        expected = functools.reduce(operator.mul,(background[x] for x in kmer))\n",
    "        if expected==0:\n",
    "            print(expected,kmer)\n",
    "        lodds[kmer] = log2(observed[kmer]/expected) # Which log only affects scaling, any base will do\n",
    "    return lodds"
   ]
  },
  {
   "cell_type": "markdown",
   "metadata": {},
   "source": [
    "#### Exercise 1 (c)"
   ]
  },
  {
   "cell_type": "code",
   "execution_count": 5,
   "metadata": {},
   "outputs": [],
   "source": [
    "sensitive_fn = \"exosome-sensitive.fa\"\n",
    "insensitive_fn = \"exosome-insensitive.fa\"\n",
    "files ={'sensitive':sensitive_fn,'insensitive':insensitive_fn}"
   ]
  },
  {
   "cell_type": "code",
   "execution_count": 6,
   "metadata": {},
   "outputs": [],
   "source": [
    "all_seqs = (seq for _,seq in itertools.chain(*map(fasta_sequences,files.values())))\n",
    "background_frequencies = relative_kmer_frequencies(all_seqs,1)"
   ]
  },
  {
   "cell_type": "code",
   "execution_count": 7,
   "metadata": {},
   "outputs": [
    {
     "data": {
      "text/plain": [
       "Counter({'A': 0.2156571373714505,\n",
       "         'C': 0.26542893828424685,\n",
       "         'G': 0.28748385006459976,\n",
       "         'T': 0.23143007427970289})"
      ]
     },
     "execution_count": 7,
     "metadata": {},
     "output_type": "execute_result"
    }
   ],
   "source": [
    "background_frequencies"
   ]
  },
  {
   "cell_type": "code",
   "execution_count": 8,
   "metadata": {},
   "outputs": [],
   "source": [
    "k_list = [2,3,4]\n",
    "\n",
    "kmer_freq = defaultdict(dict)\n",
    "log_odds = defaultdict(dict)\n",
    "for k in k_list:\n",
    "    for hd,fn in files.items():\n",
    "        kmer_freq[k][hd]=relative_kmer_frequencies((seq for _,seq in fasta_sequences(fn)),k)\n",
    "        log_odds[k][hd] = log_odds_score(kmer_freq[k][hd],background_frequencies)\n"
   ]
  },
  {
   "cell_type": "code",
   "execution_count": 9,
   "metadata": {},
   "outputs": [
    {
     "data": {
      "text/plain": [
       "{'sensitive': Counter({'AA': 0.07429992232481042,\n",
       "          'AC': 0.047852321046773276,\n",
       "          'AG': 0.07112484885369037,\n",
       "          'AT': 0.04977017753185083,\n",
       "          'CA': 0.06226026793936531,\n",
       "          'CC': 0.07539298040503208,\n",
       "          'CG': 0.040341050136532164,\n",
       "          'CT': 0.06983560086163407,\n",
       "          'GA': 0.061701727271999296,\n",
       "          'GC': 0.06648836073318973,\n",
       "          'GG': 0.08019562936922942,\n",
       "          'GT': 0.05193227043778378,\n",
       "          'TA': 0.044897460741998255,\n",
       "          'TC': 0.057966111195637375,\n",
       "          'TG': 0.06859640131647435,\n",
       "          'TT': 0.07734486983399931}),\n",
       " 'insensitive': Counter({'AA': 0.04417676310668727,\n",
       "          'AC': 0.04056326524075305,\n",
       "          'AG': 0.07080053491780043,\n",
       "          'AT': 0.03262157768720121,\n",
       "          'CA': 0.05348977810520584,\n",
       "          'CC': 0.09501197158849767,\n",
       "          'CG': 0.06269468845842775,\n",
       "          'CT': 0.07189159106014623,\n",
       "          'GA': 0.06195397144435814,\n",
       "          'GC': 0.08892207657011987,\n",
       "          'GG': 0.11093738739099449,\n",
       "          'GT': 0.05289320061819842,\n",
       "          'TA': 0.02864973294148736,\n",
       "          'TC': 0.05852064798725166,\n",
       "          'TG': 0.07017392836265506,\n",
       "          'TT': 0.05669888452021557})}"
      ]
     },
     "execution_count": 9,
     "metadata": {},
     "output_type": "execute_result"
    }
   ],
   "source": [
    "kmer_freq[2]"
   ]
  },
  {
   "cell_type": "code",
   "execution_count": 10,
   "metadata": {},
   "outputs": [
    {
     "data": {
      "text/plain": [
       "{'sensitive': {'AA': 0.6758817741658929,\n",
       "  'AC': -0.2584762292925918,\n",
       "  'AG': 0.1981333051117996,\n",
       "  'AT': -0.004034285502281399,\n",
       "  'CA': 0.12124665279415558,\n",
       "  'CC': 0.09777886803821711,\n",
       "  'CG': -0.9195579409126051,\n",
       "  'CT': 0.185060659444991,\n",
       "  'GA': -0.00690949986081586,\n",
       "  'GC': -0.19870477226333094,\n",
       "  'GG': -0.043438212057074675,\n",
       "  'GT': -0.3574259664726365,\n",
       "  'TA': -0.1526819656495606,\n",
       "  'TC': -0.08369232103528618,\n",
       "  'TG': 0.044075625392117526,\n",
       "  'TT': 0.530152894141335},\n",
       " 'insensitive': {'AA': -0.07419121408633352,\n",
       "  'AC': -0.49689134238253907,\n",
       "  'AG': 0.19153988385121878,\n",
       "  'AT': -0.6134892614342742,\n",
       "  'CA': -0.09780191383800953,\n",
       "  'CC': 0.431457968617937,\n",
       "  'CG': -0.2834633588279521,\n",
       "  'CT': 0.22692100988073785,\n",
       "  'GA': -0.001023609843642855,\n",
       "  'GC': 0.22073505876125546,\n",
       "  'GG': 0.4247119254008043,\n",
       "  'GT': -0.3309749898846366,\n",
       "  'TA': -0.8007941277051082,\n",
       "  'TC': -0.06995627878491398,\n",
       "  'TG': 0.07687786051492328,\n",
       "  'TT': 0.08216764325445555}}"
      ]
     },
     "execution_count": 10,
     "metadata": {},
     "output_type": "execute_result"
    }
   ],
   "source": [
    "log_odds[2]"
   ]
  },
  {
   "cell_type": "markdown",
   "metadata": {},
   "source": [
    "#### Exercise 1 (d)"
   ]
  },
  {
   "cell_type": "markdown",
   "metadata": {},
   "source": [
    "To compare probabilites (or odds), the ratio of probabilities is the correct measure.\n",
    "It tells us by what factor on probability is more or less likely than another\n",
    "\n",
    "Ratios often make much more sense than the difference of a quantity.\n",
    "Physical quantities have units and the difference has the same unit.\n",
    "Thus when considering differences the unit is important and has to be given.\n",
    "\n",
    "Taking the ratio will cancel the unit resulting in a unitless number that is independent of the unit used.\n",
    "\n",
    "Thus the ratio is the correct way quantify differences of probabilities or odds.\n",
    "However, log-odds is the logarithm of odds and by taking the logarithm the raio decomes the difference in logarithmic space:\n",
    "\n",
    "$\\log(\\frac{a}b) = \\log(a) - \\log(b)$"
   ]
  },
  {
   "cell_type": "code",
   "execution_count": 11,
   "metadata": {},
   "outputs": [],
   "source": [
    "def log_odds_difference(this,that):\n",
    "    return {kmer: this[kmer] - that[kmer] for kmer in this}\n",
    "\n",
    "delta = {}\n",
    "for k in k_list:\n",
    "    delta[k] = log_odds_difference(log_odds[k]['sensitive'],log_odds[k]['insensitive'])"
   ]
  },
  {
   "cell_type": "code",
   "execution_count": 12,
   "metadata": {},
   "outputs": [
    {
     "data": {
      "text/plain": [
       "{'AA': 0.7500729882522265,\n",
       " 'AC': 0.23841511308994728,\n",
       " 'AG': 0.006593421260580823,\n",
       " 'AT': 0.6094549759319928,\n",
       " 'CA': 0.2190485666321651,\n",
       " 'CC': -0.3336791005797199,\n",
       " 'CG': -0.6360945820846531,\n",
       " 'CT': -0.041860350435746846,\n",
       " 'GA': -0.005885890017173005,\n",
       " 'GC': -0.4194398310245864,\n",
       " 'GG': -0.468150137457879,\n",
       " 'GT': -0.02645097658799994,\n",
       " 'TA': 0.6481121620555476,\n",
       " 'TC': -0.013736042250372199,\n",
       " 'TG': -0.03280223512280575,\n",
       " 'TT': 0.44798525088687946}"
      ]
     },
     "execution_count": 12,
     "metadata": {},
     "output_type": "execute_result"
    }
   ],
   "source": [
    "delta[2]"
   ]
  },
  {
   "cell_type": "markdown",
   "metadata": {},
   "source": [
    "#### Exercis 1 (d)"
   ]
  },
  {
   "cell_type": "code",
   "execution_count": 13,
   "metadata": {},
   "outputs": [
    {
     "name": "stdout",
     "output_type": "stream",
     "text": [
      "KMER: 2\n",
      "Most positive (dscriminative for sensitive)\n",
      "AA delta=0.75\n",
      "TA delta=0.65\n",
      "AT delta=0.61\n",
      "TT delta=0.45\n",
      "AC delta=0.24\n",
      "CA delta=0.22\n",
      "AG delta=0.01\n",
      "GA delta=-0.01\n",
      "TC delta=-0.01\n",
      "GT delta=-0.03\n",
      "TG delta=-0.03\n",
      "CT delta=-0.04\n",
      "CC delta=-0.33\n",
      "GC delta=-0.42\n",
      "GG delta=-0.47\n",
      "CG delta=-0.64\n",
      "Most negative (dscriminative for insensitive)\n",
      "CG delta=-0.64\n",
      "GG delta=-0.47\n",
      "GC delta=-0.42\n",
      "CC delta=-0.33\n",
      "CT delta=-0.04\n",
      "TG delta=-0.03\n",
      "GT delta=-0.03\n",
      "TC delta=-0.01\n",
      "GA delta=-0.01\n",
      "AG delta=0.01\n",
      "CA delta=0.22\n",
      "AC delta=0.24\n",
      "TT delta=0.45\n",
      "AT delta=0.61\n",
      "TA delta=0.65\n",
      "AA delta=0.75\n",
      "\n",
      "\n",
      "KMER: 3\n",
      "Most positive (dscriminative for sensitive)\n",
      "AAA delta=1.11\n",
      "ATA delta=1.02\n",
      "AAT delta=0.95\n",
      "TAA delta=0.86\n",
      "TAT delta=0.81\n",
      "ATT delta=0.77\n",
      "TTA delta=0.73\n",
      "TTT delta=0.70\n",
      "CAA delta=0.65\n",
      "ACA delta=0.63\n",
      "AAC delta=0.57\n",
      "CTA delta=0.45\n",
      "TAC delta=0.45\n",
      "TAG delta=0.43\n",
      "ATC delta=0.40\n",
      "GTA delta=0.39\n",
      "Most negative (dscriminative for insensitive)\n",
      "CGG delta=-0.85\n",
      "CCG delta=-0.81\n",
      "GCG delta=-0.78\n",
      "CGC delta=-0.68\n",
      "GGG delta=-0.65\n",
      "GGC delta=-0.56\n",
      "GCC delta=-0.51\n",
      "CCC delta=-0.45\n",
      "CGA delta=-0.38\n",
      "TCG delta=-0.34\n",
      "GGT delta=-0.30\n",
      "CGT delta=-0.30\n",
      "GAG delta=-0.27\n",
      "GTC delta=-0.25\n",
      "GCT delta=-0.23\n",
      "GGA delta=-0.23\n",
      "\n",
      "\n",
      "KMER: 4\n",
      "Most positive (dscriminative for sensitive)\n",
      "AAAA delta=1.43\n",
      "AATA delta=1.27\n",
      "ATAA delta=1.21\n",
      "AAAT delta=1.17\n",
      "TAAA delta=1.16\n",
      "ATTA delta=1.15\n",
      "ATAT delta=1.09\n",
      "TTTT delta=1.07\n",
      "AATT delta=1.06\n",
      "TAAT delta=1.05\n",
      "TATA delta=1.03\n",
      "CAAA delta=1.01\n",
      "ACAA delta=0.95\n",
      "TACA delta=0.93\n",
      "CAAT delta=0.92\n",
      "TATT delta=0.92\n",
      "Most negative (dscriminative for insensitive)\n",
      "CGGC delta=-1.10\n",
      "GCCG delta=-1.07\n",
      "GCGG delta=-1.05\n",
      "CCGC delta=-0.96\n",
      "CCGG delta=-0.90\n",
      "GGGG delta=-0.87\n",
      "CGGG delta=-0.87\n",
      "GGCG delta=-0.87\n",
      "AGCG delta=-0.81\n",
      "GGGC delta=-0.81\n",
      "CGCG delta=-0.81\n",
      "GCGC delta=-0.75\n",
      "CCCG delta=-0.73\n",
      "GGCC delta=-0.73\n",
      "CGCC delta=-0.73\n",
      "GCCC delta=-0.70\n",
      "\n",
      "\n"
     ]
    }
   ],
   "source": [
    "cutoff=16\n",
    "for k in k_list:\n",
    "    print(\"KMER:\",k)\n",
    "    print(\"Most positive (dscriminative for sensitive)\")\n",
    "    sorted_delta = sorted(delta[k].items(),key=operator.itemgetter(1),reverse=True)\n",
    "    for kmer,value in sorted_delta[:cutoff]:\n",
    "        print(\"{} delta={:.2f}\".format(kmer,value))\n",
    "    print(\"Most negative (dscriminative for insensitive)\")\n",
    "    sorted_delta = sorted(delta[k].items(),key=operator.itemgetter(1))\n",
    "    for kmer,value in sorted_delta[:cutoff]:\n",
    "        print(\"{} delta={:.2f}\".format(kmer,value))\n",
    "    print('\\n')"
   ]
  },
  {
   "cell_type": "code",
   "execution_count": 14,
   "metadata": {},
   "outputs": [
    {
     "data": {
      "image/png": "[encoded data removed]",
      "text/plain": [
       "<Figure size 432x288 with 1 Axes>"
      ]
     },
     "metadata": {
      "needs_background": "light"
     },
     "output_type": "display_data"
    },
    {
     "data": {
      "image/png": "[encoded data removed]",
      "text/plain": [
       "<Figure size 432x288 with 1 Axes>"
      ]
     },
     "metadata": {
      "needs_background": "light"
     },
     "output_type": "display_data"
    },
    {
     "data": {
      "image/png": "[encoded data removed]",
      "text/plain": [
       "<Figure size 432x288 with 1 Axes>"
      ]
     },
     "metadata": {
      "needs_background": "light"
     },
     "output_type": "display_data"
    }
   ],
   "source": [
    "for k in k_list:\n",
    "    sorted_delta = sorted(delta[k].values())\n",
    "    x = list(range(1,len(sorted_delta)+1))\n",
    "    plt.plot(x,sorted_delta)\n",
    "    plt.show()"
   ]
  },
  {
   "cell_type": "markdown",
   "metadata": {},
   "source": [
    "## Exercise 2"
   ]
  },
  {
   "cell_type": "markdown",
   "metadata": {},
   "source": [
    "## TODO"
   ]
  },
  {
   "cell_type": "code",
   "execution_count": null,
   "metadata": {},
   "outputs": [],
   "source": []
  }
 ],
 "metadata": {
  "kernelspec": {
   "display_name": "Python 3",
   "language": "python",
   "name": "python3"
  },
  "language_info": {
   "codemirror_mode": {
    "name": "ipython",
    "version": 3
   },
   "file_extension": ".py",
   "mimetype": "text/x-python",
   "name": "python",
   "nbconvert_exporter": "python",
   "pygments_lexer": "ipython3",
   "version": "3.6.10"
  }
 },
 "nbformat": 4,
 "nbformat_minor": 4
}
