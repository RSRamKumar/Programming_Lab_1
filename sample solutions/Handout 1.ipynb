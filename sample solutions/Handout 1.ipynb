{
 "cells": [
  {
   "cell_type": "code",
   "execution_count": 1,
   "metadata": {},
   "outputs": [],
   "source": [
    "import doctest"
   ]
  },
  {
   "cell_type": "markdown",
   "metadata": {},
   "source": [
    "## Exercise 1\n",
    "\n",
    "*Srinivasa Ramanujan calculates $\\pi$*\n",
    "\n",
    "The mathematician Srinivasa Ramanujan found an\n",
    "infinite series\n",
    "that can be used to generate a numerical\n",
    "approximation of $\\pi$:\n",
    "\n",
    "$$ \\frac{1}{\\pi} = \\frac{2\\sqrt{2}}{9801} \n",
    "\\sum^\\infty_{k=0} \\frac{(4k)!(1103+26390k)}{(k!)^4 396^{4k}} $$\n",
    "\n",
    "Write a function called `estimate_pi` that uses this formula\n",
    "to compute and return an estimate of $\\pi$.  It should use a `while`\n",
    "loop to compute terms of the summation until the last term is\n",
    "smaller than `1e-15` (which is Python notation for $10^{-15}$).\n",
    "You can check the result by comparing it to `math.pi`."
   ]
  },
  {
   "cell_type": "markdown",
   "metadata": {},
   "source": [
    "### Version 1"
   ]
  },
  {
   "cell_type": "code",
   "execution_count": 2,
   "metadata": {},
   "outputs": [],
   "source": [
    "pi = 3.14159265358979323846264338327950 # pi to 32 decimal places\n",
    "\n",
    "def factorial(n):\n",
    "    \"\"\" Determine the factorial of n\n",
    "        >>> factorial(0)\n",
    "        1\n",
    "        >>> factorial(7)\n",
    "        5040\n",
    "    \"\"\"\n",
    "    f = 1\n",
    "    for i in range(2,n+1):\n",
    "        f *= i\n",
    "    return f\n",
    "    \n",
    "def estimate_pi(verbose = False):\n",
    "    \"\"\" Ramanujan series for approximating 1/pi\n",
    "        >>> import math\n",
    "        >>> estimate_pi() == math.pi\n",
    "        True\n",
    "    \"\"\"\n",
    "    summed = 0\n",
    "    k = 0\n",
    "    while True:\n",
    "        top = factorial(4 * k) * (1103 + 26390 * k)\n",
    "        bottom = (factorial(k) ** 4) * (396 ** (4 * k))\n",
    "        term = top / bottom\n",
    "        if term < 1e-15:\n",
    "            break\n",
    "        summed += term\n",
    "        k += 1\n",
    "        if verbose:\n",
    "            pi_est = 9801 / (2 ** (3 / 2)) / summed\n",
    "            print('pi estimate after {} iterations: {} (delta={})'.format(k,pi_est,pi_est - pi))\n",
    "    pi_est = 9801 / (2 ** (3 / 2)) / summed\n",
    "    return pi_est"
   ]
  },
  {
   "cell_type": "code",
   "execution_count": 3,
   "metadata": {},
   "outputs": [
    {
     "name": "stdout",
     "output_type": "stream",
     "text": [
      "pi estimate after 1 iterations: 3.1415927300133055 (delta=7.642351240733092e-08)\n",
      "pi estimate after 2 iterations: 3.141592653589794 (delta=8.881784197001252e-16)\n",
      "pi estimate after 3 iterations: 3.141592653589793 (delta=0.0)\n"
     ]
    },
    {
     "data": {
      "text/plain": [
       "3.141592653589793"
      ]
     },
     "execution_count": 3,
     "metadata": {},
     "output_type": "execute_result"
    }
   ],
   "source": [
    "estimate_pi(verbose=True)"
   ]
  },
  {
   "cell_type": "code",
   "execution_count": 4,
   "metadata": {
    "scrolled": true
   },
   "outputs": [],
   "source": [
    "!python -m doctest estimate_pi.py "
   ]
  },
  {
   "cell_type": "code",
   "execution_count": 5,
   "metadata": {},
   "outputs": [
    {
     "name": "stdout",
     "output_type": "stream",
     "text": [
      "Finding tests in NoName\n",
      "Trying:\n",
      "    factorial(0)\n",
      "Expecting:\n",
      "    1\n",
      "ok\n",
      "Trying:\n",
      "    factorial(7)\n",
      "Expecting:\n",
      "    5040\n",
      "ok\n",
      "Finding tests in NoName\n",
      "Trying:\n",
      "    import math\n",
      "Expecting nothing\n",
      "ok\n",
      "Trying:\n",
      "    estimate_pi() == math.pi\n",
      "Expecting:\n",
      "    True\n",
      "ok\n"
     ]
    }
   ],
   "source": [
    "doctest.run_docstring_examples(factorial,globals(),verbose=True)\n",
    "doctest.run_docstring_examples(estimate_pi,globals(),verbose=True)"
   ]
  },
  {
   "cell_type": "markdown",
   "metadata": {},
   "source": [
    "### Version 2"
   ]
  },
  {
   "cell_type": "code",
   "execution_count": 6,
   "metadata": {},
   "outputs": [],
   "source": [
    "from math import factorial\n",
    "from math import pi as PI\n",
    "\n",
    "\n",
    "def estimate_pi2(verbose = False):\n",
    "    \"\"\" Ramanujan series for approximating 1/pi\n",
    "        >>> estimate_pi() == math.pi\n",
    "        True\n",
    "    \"\"\"\n",
    "    summed = 0\n",
    "    k = 0   \n",
    "    term = 1\n",
    "    while term >= 1e-15:\n",
    "        term = factorial(4 * k) * (1103 + 26390 * k) / factorial(k) ** 4 / 396 ** (4 * k)\n",
    "        summed += term\n",
    "        k += 1\n",
    "        if verbose:\n",
    "            pi_est = 9801 / (2 ** (3 / 2)) / summed\n",
    "            print('pi estimate after {} iterations: {} (delta={})'.format(k,pi_est,pi_est - PI))\n",
    "    pi_est = 9801 / (2 ** (3 / 2)) / summed\n",
    "    return pi_est"
   ]
  },
  {
   "cell_type": "code",
   "execution_count": 7,
   "metadata": {},
   "outputs": [
    {
     "name": "stdout",
     "output_type": "stream",
     "text": [
      "pi estimate after 1 iterations: 3.1415927300133055 (delta=7.642351240733092e-08)\n",
      "pi estimate after 2 iterations: 3.141592653589794 (delta=8.881784197001252e-16)\n",
      "pi estimate after 3 iterations: 3.141592653589793 (delta=0.0)\n",
      "pi estimate after 4 iterations: 3.141592653589793 (delta=0.0)\n"
     ]
    },
    {
     "data": {
      "text/plain": [
       "3.141592653589793"
      ]
     },
     "execution_count": 7,
     "metadata": {},
     "output_type": "execute_result"
    }
   ],
   "source": [
    "estimate_pi2(verbose=True)"
   ]
  },
  {
   "cell_type": "markdown",
   "metadata": {},
   "source": [
    "### Version 3"
   ]
  },
  {
   "cell_type": "code",
   "execution_count": 8,
   "metadata": {},
   "outputs": [],
   "source": [
    "from math import factorial\n",
    "from math import pi as PI\n",
    "\n",
    "\n",
    "def estimate_pi3(verbose = False):\n",
    "    \"\"\" Ramanujan series for approximating 1/pi\n",
    "        >>> estimate_pi() == math.pi\n",
    "        True\n",
    "    \"\"\"\n",
    "    k = 1   \n",
    "    term = 1103 # The term for k=0\n",
    "    summed = 0\n",
    "    while term >= 1e-15:\n",
    "        summed += term\n",
    "        if verbose:\n",
    "            pi_est = 9801 / (2 ** (3 / 2)) / summed\n",
    "            print('pi estimate after {} iterations: {} (delta={})'.format(k,pi_est,pi_est - PI))\n",
    "        term = factorial(4 * k) * (1103 + 26390 * k) / factorial(k) ** 4 / 396 ** (4 * k)\n",
    "        k += 1\n",
    "    pi_est = 9801 / (2 ** (3 / 2)) / summed\n",
    "    return pi_est"
   ]
  },
  {
   "cell_type": "code",
   "execution_count": 9,
   "metadata": {},
   "outputs": [
    {
     "name": "stdout",
     "output_type": "stream",
     "text": [
      "pi estimate after 1 iterations: 3.1415927300133055 (delta=7.642351240733092e-08)\n",
      "pi estimate after 2 iterations: 3.141592653589794 (delta=8.881784197001252e-16)\n",
      "pi estimate after 3 iterations: 3.141592653589793 (delta=0.0)\n"
     ]
    },
    {
     "data": {
      "text/plain": [
       "3.141592653589793"
      ]
     },
     "execution_count": 9,
     "metadata": {},
     "output_type": "execute_result"
    }
   ],
   "source": [
    "estimate_pi3(verbose=True)"
   ]
  },
  {
   "cell_type": "markdown",
   "metadata": {},
   "source": [
    "## Exercise 2\n",
    "\n",
    "*Happy numbers*\n",
    "\n",
    "Happy numbers are defined by the following process: Start with a positive number. Replace the number with the sum of the squares of its digits and repeat until you reach the number 1 or the process enters a loop not involving the number 1. A number that reaches 1 is called a happy number all other numbers are unhappy. \n",
    "1.\tWrite a function `isHappy(n)` that checks whether a number is happy or unhappy. It should return `True` if the the number is happy and `False` otherwise. \n",
    "\t*Hint:* It is known that, if a number is unhappy, it will enter a loop involving the number 4. Thus you can repeat the process until the number reaches either 1 (happy) or 4 (unhappy).\n",
    "\t*Hint:* You will somehow need to extract the individual digits of a number. Section 8.7 (pg. 75) of Think Python explains how to iterate over the individual characters of a string. A number can be represented as a string using the `str` function and vice versa a string consisting of digits can be converted back to an integer using the `int` function.\n",
    "2. Find all happy numbers from 1 to 100.\n",
    "3. Solve the problem in two different ways using a) `while`-loops and b) recursion.\n",
    "4. *Bonus:* Modify the problem by taking the sum of cubes instead of the sum of squares. Find all the loops that can occur and all numbers that are equal to the sum of the cubes of their digits. A number is called happy if its iteration ends in 1. It is almost happy if its iteration ends in a number that is identical to the sum of the cubes of its digits.\n",
    "\tFind all happy and almost happy numbers from 1 to 1000."
   ]
  },
  {
   "cell_type": "markdown",
   "metadata": {},
   "source": [
    "### Different ways of calculating sum of powers of digits"
   ]
  },
  {
   "cell_type": "code",
   "execution_count": 10,
   "metadata": {},
   "outputs": [],
   "source": [
    "def sum_of_powers_verbose(n,power=2):\n",
    "    \"\"\" Calculate the sum of powers of the digits of n\n",
    "        >>> sum_of_powers_verbose(97,1)\n",
    "        16\n",
    "        >>> sum_of_powers_verbose(97,2)\n",
    "        130\n",
    "        >>> sum_of_powers_verbose(371,3)\n",
    "        371\n",
    "    \"\"\"\n",
    "    assert n >= 0\n",
    "    n_as_string = str(n)\n",
    "    acc = 0 # accumulate result here\n",
    "    for digit_char in n_as_string:\n",
    "        digit = int(digit_char)\n",
    "        acc += digit ** power\n",
    "    return acc\n",
    "\n",
    "def sum_of_powers_succinct(n,power=2):\n",
    "    \"\"\" Calculate the sum of powers of the digits of n\n",
    "        >>> sum_of_powers_succinct(97,1)\n",
    "        16\n",
    "        >>> sum_of_powers_succinct(97,2)\n",
    "        130\n",
    "        >>> sum_of_powers_succinct(371,3)\n",
    "        371\n",
    "    \"\"\"\n",
    "    assert n >= 0\n",
    "    return sum(int(x)**power for x in str(n))\n",
    "\n",
    "def sum_of_powers_arithmetic(n,power=2,base=10):\n",
    "    \"\"\" Calculate the sum of powers of the digits of n in an arbitrary base\n",
    "        >>> sum_of_powers_arithmetic(97,2,10)\n",
    "        130\n",
    "        >>> sum_of_powers_arithmetic(97,3,3)\n",
    "        11\n",
    "        >>> sum_of_powers_arithmetic(97,2,5)\n",
    "        29\n",
    "    \"\"\"\n",
    "    assert n >= 0\n",
    "    assert base > 1\n",
    "    acc = 0\n",
    "    while n > 0:\n",
    "        digit = n % base\n",
    "        acc += digit ** power\n",
    "        n = n // base\n",
    "    return acc\n",
    "\n",
    "sum_of_powers = sum_of_powers_succinct"
   ]
  },
  {
   "cell_type": "code",
   "execution_count": 11,
   "metadata": {},
   "outputs": [
    {
     "name": "stdout",
     "output_type": "stream",
     "text": [
      "Finding tests in NoName\n",
      "Trying:\n",
      "    sum_of_powers_arithmetic(97,2,10)\n",
      "Expecting:\n",
      "    130\n",
      "ok\n",
      "Trying:\n",
      "    sum_of_powers_arithmetic(97,3,3)\n",
      "Expecting:\n",
      "    11\n",
      "ok\n",
      "Trying:\n",
      "    sum_of_powers_arithmetic(97,2,5)\n",
      "Expecting:\n",
      "    29\n",
      "ok\n"
     ]
    }
   ],
   "source": [
    "doctest.run_docstring_examples(sum_of_powers_verbose,globals(),verbose=False)\n",
    "doctest.run_docstring_examples(sum_of_powers_succinct,globals(),verbose=False)\n",
    "doctest.run_docstring_examples(sum_of_powers_arithmetic,globals(),verbose=True)"
   ]
  },
  {
   "cell_type": "markdown",
   "metadata": {},
   "source": [
    "### Different versions of `isHappy`"
   ]
  },
  {
   "cell_type": "code",
   "execution_count": 12,
   "metadata": {},
   "outputs": [],
   "source": [
    "def isHappy_while_1(n):\n",
    "    \"\"\" Determine whether n is a (square) happy number\n",
    "        >>> isHappy_while_1(4711)\n",
    "        False\n",
    "        >>> isHappy_while_1(97)\n",
    "        True\n",
    "    \"\"\"\n",
    "    assert n > 0\n",
    "    while True:\n",
    "        if n == 1:\n",
    "            return True\n",
    "        elif n == 4:\n",
    "            return False\n",
    "        else:\n",
    "            n = sum_of_powers(n)\n",
    "\n",
    "def isHappy_while_2(n):\n",
    "    \"\"\" Determine whether n is a (square) happy number\n",
    "        >>> isHappy_while_2(371)\n",
    "        False\n",
    "        >>> isHappy_while_2(97)\n",
    "        True\n",
    "    \"\"\"\n",
    "    assert n > 0\n",
    "    while n not in [1,4]:\n",
    "        n = sum_of_powers(n)\n",
    "    return n == 1\n",
    "\n",
    "def isHappy_recursive(n):\n",
    "    \"\"\" Determine whether n is a (square) happy number\n",
    "        >>> isHappy_recursive(371)\n",
    "        False\n",
    "        >>> isHappy_recursive(86)\n",
    "        True\n",
    "    \"\"\"\n",
    "    assert n > 0\n",
    "    if n == 1:\n",
    "        return True\n",
    "    elif n == 4:\n",
    "        return False\n",
    "    else:\n",
    "        return isHappy_recursive(sum_of_powers(n))\n"
   ]
  },
  {
   "cell_type": "code",
   "execution_count": 13,
   "metadata": {},
   "outputs": [
    {
     "name": "stdout",
     "output_type": "stream",
     "text": [
      "Finding tests in NoName\n",
      "Trying:\n",
      "    isHappy_recursive(371)\n",
      "Expecting:\n",
      "    False\n",
      "ok\n",
      "Trying:\n",
      "    isHappy_recursive(86)\n",
      "Expecting:\n",
      "    True\n",
      "ok\n"
     ]
    }
   ],
   "source": [
    "doctest.run_docstring_examples(isHappy_while_1,globals(),verbose=False)\n",
    "doctest.run_docstring_examples(isHappy_while_2,globals(),verbose=False)\n",
    "doctest.run_docstring_examples(isHappy_recursive,globals(),verbose=True)"
   ]
  },
  {
   "cell_type": "markdown",
   "metadata": {},
   "source": [
    "### Checking for happy numbers"
   ]
  },
  {
   "cell_type": "code",
   "execution_count": 14,
   "metadata": {},
   "outputs": [
    {
     "name": "stdout",
     "output_type": "stream",
     "text": [
      "The happy numbers from 1 to 100 are:\n",
      "[1, 7, 10, 13, 19, 23, 28, 31, 32, 44, 49, 68, 70, 79, 82, 86, 91, 94, 97, 100]\n"
     ]
    }
   ],
   "source": [
    "happy_numbers=[]\n",
    "for x in range(1,101):\n",
    "    if isHappy_while_1(x):\n",
    "        happy_numbers.append(x)\n",
    "print(\"The happy numbers from 1 to 100 are:\")\n",
    "print(happy_numbers)"
   ]
  },
  {
   "cell_type": "code",
   "execution_count": 15,
   "metadata": {},
   "outputs": [
    {
     "name": "stdout",
     "output_type": "stream",
     "text": [
      "The happy numbers from 1 to 100 are:\n",
      "[1, 7, 10, 13, 19, 23, 28, 31, 32, 44, 49, 68, 70, 79, 82, 86, 91, 94, 97, 100]\n"
     ]
    }
   ],
   "source": [
    "happy_numbers = list(filter(isHappy_recursive, range(1,101)))\n",
    "print(\"The happy numbers from 1 to 100 are:\")\n",
    "print(happy_numbers)"
   ]
  },
  {
   "cell_type": "code",
   "execution_count": 16,
   "metadata": {},
   "outputs": [
    {
     "name": "stdout",
     "output_type": "stream",
     "text": [
      "The odd happy numbers from 5 to 99:\n",
      "7  13  19  23  31  49  79  91  97  \n"
     ]
    }
   ],
   "source": [
    "def happy_range(*args):\n",
    "    for n in range(*args):\n",
    "        if isHappy_while_2(n):\n",
    "            yield n\n",
    "\n",
    "print(\"The odd happy numbers from 5 to 99:\")\n",
    "for happy_number in happy_range(5,100,2):\n",
    "    print(happy_number,end=\"  \")\n",
    "print()"
   ]
  },
  {
   "cell_type": "markdown",
   "metadata": {},
   "source": [
    "### Finding happy loops and happy numbers for higher powers"
   ]
  },
  {
   "cell_type": "code",
   "execution_count": 17,
   "metadata": {},
   "outputs": [],
   "source": [
    "def detect_happy_loop(n,power):\n",
    "    \"\"\" For the happy number iteration of n using arbitrary powers\n",
    "        detect a point where n enters a loop\n",
    "        >>> detect_happy_loop(697,3) in (55, 250, 133)\n",
    "        True\n",
    "        >>> detect_happy_loop(838,3) in (160, 217, 352)\n",
    "        True\n",
    "        >>> detect_happy_loop(97,2)\n",
    "        1\n",
    "        >>> detect_happy_loop(99,2) in (4,16,37,58,89,145,42,20)\n",
    "        True\n",
    "    \"\"\"\n",
    "    previous_values = {n}\n",
    "    n = sum_of_powers(n,power)\n",
    "    while n not in previous_values:\n",
    "        previous_values.add(n)\n",
    "        n = sum_of_powers(n,power)\n",
    "    return n\n",
    "\n",
    "# This version of finding happy numbers does not require saving previously calculated values\n",
    "\n",
    "def detect_happy_loop_tricky(n,power):\n",
    "    \"\"\" For the happy number iteration of n using arbitrary powers\n",
    "        detect a point where n enters a loop\n",
    "        >>> detect_happy_loop(697,3) in (55, 250, 133)\n",
    "        True\n",
    "        >>> detect_happy_loop(838,3) in (160, 217, 352)\n",
    "        True\n",
    "        >>> detect_happy_loop(97,2)\n",
    "        1\n",
    "        >>> detect_happy_loop(99,2) in (4,16,37,58,89,145,42,20)\n",
    "        True\n",
    "    \"\"\"\n",
    "    nn = sum_of_powers(n,power)\n",
    "    while n != nn:\n",
    "        n = sum_of_powers(n,power)\n",
    "        nn = sum_of_powers(sum_of_powers(nn,power,base),power)\n",
    "    return n\n",
    "\n",
    "\n",
    "def is_happy(n,power):\n",
    "    \"\"\" Determine whether n is a power-happy number for arbitrary powers\n",
    "        >>> is_happy(97,2)\n",
    "        happy\n",
    "        >>> is_happy(371,2)\n",
    "        unhappy\n",
    "        >>> is_happy(978,3)\n",
    "        almost happy\n",
    "    \"\"\"\n",
    "    n = detect_happy_loop(n,power)\n",
    "    if n==1:\n",
    "        return \"happy\"\n",
    "    if n== sum_of_powers(n,power):\n",
    "        return \"almost happy\"\n",
    "    return \"unhappy\"\n",
    "\n",
    "def is_happy_1(n,power):\n",
    "    \"\"\" Determine whether n is a really happy number ending in 1 for arbitrary powers\n",
    "        >>> is_happy_1(978,3)\n",
    "        False\n",
    "        >>> is_happy_1(787,3)\n",
    "        True\n",
    "        >>> is_happy_1(1234,3)\n",
    "        True\n",
    "    \"\"\"\n",
    "    n = detect_happy_loop(n,power)\n",
    "    return n == 1"
   ]
  },
  {
   "cell_type": "code",
   "execution_count": 18,
   "metadata": {},
   "outputs": [
    {
     "name": "stdout",
     "output_type": "stream",
     "text": [
      "Finding tests in NoName\n",
      "Trying:\n",
      "    detect_happy_loop(697,3) in (55, 250, 133)\n",
      "Expecting:\n",
      "    True\n",
      "ok\n",
      "Trying:\n",
      "    detect_happy_loop(838,3) in (160, 217, 352)\n",
      "Expecting:\n",
      "    True\n",
      "ok\n",
      "Trying:\n",
      "    detect_happy_loop(97,2)\n",
      "Expecting:\n",
      "    1\n",
      "ok\n",
      "Trying:\n",
      "    detect_happy_loop(99,2) in (4,16,37,58,89,145,42,20)\n",
      "Expecting:\n",
      "    True\n",
      "ok\n",
      "Finding tests in NoName\n",
      "Trying:\n",
      "    is_happy(97,2)\n",
      "Expecting:\n",
      "    happy\n",
      "**********************************************************************\n",
      "File \"__main__\", line 43, in NoName\n",
      "Failed example:\n",
      "    is_happy(97,2)\n",
      "Expected:\n",
      "    happy\n",
      "Got:\n",
      "    'happy'\n",
      "Trying:\n",
      "    is_happy(371,2)\n",
      "Expecting:\n",
      "    unhappy\n",
      "**********************************************************************\n",
      "File \"__main__\", line 45, in NoName\n",
      "Failed example:\n",
      "    is_happy(371,2)\n",
      "Expected:\n",
      "    unhappy\n",
      "Got:\n",
      "    'unhappy'\n",
      "Trying:\n",
      "    is_happy(978,3)\n",
      "Expecting:\n",
      "    almost happy\n",
      "**********************************************************************\n",
      "File \"__main__\", line 47, in NoName\n",
      "Failed example:\n",
      "    is_happy(978,3)\n",
      "Expected:\n",
      "    almost happy\n",
      "Got:\n",
      "    'almost happy'\n",
      "Finding tests in NoName\n",
      "Trying:\n",
      "    is_happy_1(978,3)\n",
      "Expecting:\n",
      "    False\n",
      "ok\n",
      "Trying:\n",
      "    is_happy_1(787,3)\n",
      "Expecting:\n",
      "    True\n",
      "ok\n",
      "Trying:\n",
      "    is_happy_1(1234,3)\n",
      "Expecting:\n",
      "    True\n",
      "ok\n"
     ]
    }
   ],
   "source": [
    "doctest.run_docstring_examples(detect_happy_loop,globals(),verbose=True)\n",
    "doctest.run_docstring_examples(detect_happy_loop_tricky,globals(),verbose=False)\n",
    "doctest.run_docstring_examples(is_happy,globals(),verbose=True)\n",
    "doctest.run_docstring_examples(is_happy_1,globals(),verbose=True)"
   ]
  },
  {
   "cell_type": "markdown",
   "metadata": {},
   "source": [
    "### List cube happy numbers"
   ]
  },
  {
   "cell_type": "code",
   "execution_count": 19,
   "metadata": {},
   "outputs": [
    {
     "name": "stdout",
     "output_type": "stream",
     "text": [
      "There are 1000 cube happy numbers\n",
      "There are 10 really cube happy numbers ending in 1\n",
      "[1, 10, 100, 112, 121, 211, 778, 787, 877, 1000]\n"
     ]
    }
   ],
   "source": [
    "\n",
    "happy_cube_numbers = list(filter(lambda n: is_happy(n,3), range(1,1001)))\n",
    "print(\"There are {} cube happy numbers\".format(len(happy_cube_numbers)))\n",
    "\n",
    "really_happy_cube_numbers = list(filter(lambda n: is_happy_1(n,3), range(1,1001)))\n",
    "print(\"There are {} really cube happy numbers ending in 1\".format(len(really_happy_cube_numbers)))\n",
    "print(really_happy_cube_numbers)"
   ]
  },
  {
   "cell_type": "markdown",
   "metadata": {},
   "source": [
    "### Find and remember loops of (cube) happy iterations"
   ]
  },
  {
   "cell_type": "code",
   "execution_count": 20,
   "metadata": {},
   "outputs": [],
   "source": [
    "from collections import defaultdict\n",
    "\n",
    "# We use a more traditional approach to detect and save loops\n",
    "def find_happy_loop(n,power):\n",
    "    \"\"\" Using happy iteration with arbitrary power,\n",
    "        find the loop where the iteration ends. The loop and all values inthe calculated\n",
    "        iteration are returned\n",
    "        >>> find_happy_loop(99,2)\n",
    "        ((4, 16, 37, 58, 89, 145, 42, 20), [99, 162, 41, 17, 50, 25, 29, 85, 89, 145, 42, 20, 4, 16, 37, 58])\n",
    "        >>> find_happy_loop(973,3)\n",
    "        ((919, 1459), [973, 1099, 1459, 919])\n",
    "        >>> find_happy_loop(98,1)\n",
    "        ((8,), [98, 17, 8])\n",
    "    \"\"\"\n",
    "    history = [] # Using sets makes testing faster, put the loop information is lost\n",
    "    while n not in history: \n",
    "        history.append(n)\n",
    "        n = sum_of_powers(n,power)\n",
    "    index = history.index(n)\n",
    "    loop = history[index:]\n",
    "    # Rearrange the loop so that the smallest value comes first\n",
    "    min_idx = min(range(len(loop)),key=loop.__getitem__) # find index of smallest value in loop\n",
    "    loop = loop[min_idx:]+loop[:min_idx] # loop will always start with its smalles value\n",
    "    return tuple(loop), history  # return as tuple and all values encountered\n",
    "\n",
    "# The function can also ve written recursively\n",
    "def find_happy_loop_rec(n,power,history=None):\n",
    "    \"\"\" Using happy iteration with arbitrary power,\n",
    "        find the loop where the iteration ends. The loop and all values inthe calculated\n",
    "        iteration are returned\n",
    "        >>> find_happy_loop_rec(99,2)\n",
    "        ((4, 16, 37, 58, 89, 145, 42, 20), [99, 162, 41, 17, 50, 25, 29, 85, 89, 145, 42, 20, 4, 16, 37, 58])\n",
    "        >>> find_happy_loop_rec(973,3)\n",
    "        ((919, 1459), [973, 1099, 1459, 919])\n",
    "        >>> find_happy_loop_rec(98,1)\n",
    "        ((8,), [98, 17, 8])\n",
    "    \"\"\"\n",
    "    if history is None:\n",
    "        history = [] # Using sets makes testing faster, put the loop information is lost\n",
    "    if n not in history: \n",
    "        history.append(n)\n",
    "        n = sum_of_powers(n,power)\n",
    "        return find_happy_loop_rec(n,power,history)\n",
    "    else:\n",
    "        index = history.index(n)\n",
    "        loop = history[index:]\n",
    "        # Rearrange the loop so that the smallest value comes first\n",
    "        min_idx = min(range(len(loop)),key=loop.__getitem__) # find index of smallest value in loop\n",
    "        loop = loop[min_idx:]+loop[:min_idx] # loop will always start with its smalles value\n",
    "        return tuple(loop), history  # return as tuple and all values encountered\n",
    "\n",
    "# The function can also ve written recursively\n",
    "# Here the emptylist can be used as default value\n",
    "# because it is never modified\n",
    "# only modified copies history are generated\n",
    "def find_happy_loop_rec2(n,power,history=[]):\n",
    "    \"\"\" Using happy iteration with arbitrary power,\n",
    "        find the loop where the iteration ends. The loop and all values inthe calculated\n",
    "        iteration are returned\n",
    "        >>> find_happy_loop_rec2(99,2)\n",
    "        ((4, 16, 37, 58, 89, 145, 42, 20), [99, 162, 41, 17, 50, 25, 29, 85, 89, 145, 42, 20, 4, 16, 37, 58])\n",
    "        >>> find_happy_loop_rec2(973,3)\n",
    "        ((919, 1459), [973, 1099, 1459, 919])\n",
    "        >>> find_happy_loop_rec2(98,1)\n",
    "        ((8,), [98, 17, 8])\n",
    "    \"\"\"\n",
    "    if n not in history: \n",
    "        return find_happy_loop_rec(sum_of_powers(n,power),power,history+[n])\n",
    "    else:\n",
    "        index = history.index(n)\n",
    "        loop = history[index:]\n",
    "        # Rearrange the loop so that the smallest value comes first\n",
    "        min_idx = min(range(len(loop)),key=loop.__getitem__) # find index of smallest value in loop\n",
    "        loop = loop[min_idx:]+loop[:min_idx] # loop will always start with its smalles value\n",
    "        return tuple(loop), history  # return as tuple and all values encountered\n",
    "\n",
    "\n",
    "\n",
    "def find_all_loops(n,power):\n",
    "    \"\"\" Find all happy loops occuring for numbers 1 to n using an arbitrary power\n",
    "        >>> sorted(find_all_loops(100,2).keys(),key=len)\n",
    "        [(1,), (4, 16, 37, 58, 89, 145, 42, 20)]\n",
    "        >>> sorted(find_all_loops(1000,3)[(1,)])\n",
    "        [1, 10, 100, 112, 121, 211, 778, 787, 877, 1000, 1198, 1243]\n",
    "    \"\"\"\n",
    "    numbers_covered = set()\n",
    "    all_loops = defaultdict(set)\n",
    "    for i in range(1,n+1):\n",
    "        if i not in numbers_covered:\n",
    "            loop, history = find_happy_loop(i,power)\n",
    "            all_loops[loop].update(history)\n",
    "            numbers_covered.update(history)\n",
    "    return all_loops\n"
   ]
  },
  {
   "cell_type": "code",
   "execution_count": 21,
   "metadata": {},
   "outputs": [],
   "source": [
    "doctest.run_docstring_examples(find_happy_loop,globals())\n",
    "doctest.run_docstring_examples(find_happy_loop_rec,globals())\n",
    "doctest.run_docstring_examples(find_happy_loop_rec2,globals())\n",
    "doctest.run_docstring_examples(find_all_loops,globals())"
   ]
  },
  {
   "cell_type": "code",
   "execution_count": 22,
   "metadata": {
    "scrolled": true
   },
   "outputs": [
    {
     "name": "stdout",
     "output_type": "stream",
     "text": [
      "The following loops and values ending in those loops are discovered\n",
      "Happy and almost happy loops:\n",
      "  Loop: (1,)\n",
      "Values: [1, 10, 100, 112, 121, 211, 778, 787, 877, 1000, 1198, 1243]\n",
      "  Loop: (153,)\n",
      "Values: [3, 6, 9, 12, 15, 18, 21, 24, 27, 30, 33, 36, 39, 42, 45, 48, 51, 54, 57, 60, 63, 66, 69, 72, 75, 78, 81, 84, 87, 90, 93, 96, 99, 102, 105, 108, 111, 114, 117, 120, 123, 126, 129, 132, 135, 138, 141, 144, 147, 150, 153, 156, 159, 162, 165, 168, 171, 174, 177, 180, 183, 186, 189, 192, 195, 198, 201, 204, 207, 210, 213, 216, 219, 222, 225, 228, 231, 234, 237, 240, 243, 246, 249, 252, 255, 258, 261, 264, 267, 270, 273, 276, 279, 282, 285, 288, 291, 294, 297, 300, 303, 306, 309, 312, 315, 318, 321, 324, 327, 330, 333, 336, 339, 342, 345, 348, 351, 354, 357, 360, 363, 366, 369, 372, 375, 378, 381, 384, 387, 390, 393, 396, 399, 402, 405, 408, 411, 414, 417, 420, 423, 426, 429, 432, 435, 438, 441, 444, 447, 450, 453, 456, 459, 462, 465, 468, 471, 474, 477, 480, 483, 486, 489, 492, 495, 498, 501, 504, 507, 510, 513, 516, 519, 522, 525, 528, 531, 534, 537, 540, 543, 546, 549, 552, 555, 558, 561, 564, 567, 570, 573, 576, 579, 582, 585, 588, 591, 594, 597, 600, 603, 606, 609, 612, 615, 618, 621, 624, 627, 630, 633, 636, 639, 642, 645, 648, 651, 654, 657, 660, 663, 666, 669, 672, 675, 678, 681, 684, 687, 690, 693, 696, 699, 702, 705, 708, 711, 714, 717, 720, 723, 726, 729, 732, 735, 738, 741, 744, 747, 750, 753, 756, 759, 762, 765, 768, 771, 774, 777, 780, 783, 786, 789, 792, 795, 798, 801, 804, 807, 810, 813, 816, 819, 822, 825, 828, 831, 834, 837, 840, 843, 846, 849, 852, 855, 858, 861, 864, 867, 870, 873, 876, 879, 882, 885, 888, 891, 894, 897, 900, 903, 906, 909, 912, 915, 918, 921, 924, 927, 930, 933, 936, 939, 942, 945, 948, 951, 954, 957, 960, 963, 966, 969, 972, 975, 978, 981, 984, 987, 990, 993, 996, 999, 1029, 1032, 1071, 1074, 1080, 1149, 1161, 1197, 1242, 1305, 1458, 1485, 1536, 1584, 1674, 2187]\n",
      "  Loop: (370,)\n",
      "Values: [7, 19, 34, 37, 43, 58, 67, 70, 73, 76, 85, 88, 91, 109, 118, 124, 139, 142, 145, 148, 154, 157, 166, 169, 175, 178, 181, 184, 187, 190, 193, 196, 214, 223, 226, 232, 241, 247, 259, 262, 268, 274, 277, 286, 295, 304, 307, 319, 322, 334, 340, 343, 346, 355, 358, 364, 367, 370, 376, 385, 391, 403, 412, 415, 418, 421, 427, 430, 433, 436, 451, 463, 466, 469, 472, 481, 496, 499, 508, 514, 517, 529, 535, 538, 541, 553, 556, 559, 565, 568, 571, 577, 580, 583, 586, 592, 595, 607, 616, 619, 622, 628, 634, 637, 643, 646, 649, 655, 658, 661, 664, 667, 670, 673, 676, 682, 685, 688, 691, 694, 700, 703, 706, 715, 718, 724, 727, 730, 736, 742, 751, 757, 760, 763, 766, 772, 775, 781, 799, 805, 808, 811, 814, 817, 826, 835, 841, 850, 853, 856, 862, 865, 868, 871, 880, 886, 889, 898, 901, 910, 913, 916, 925, 931, 946, 949, 952, 955, 961, 964, 979, 988, 994, 997, 1009, 1024, 1240, 1522, 1753, 1801]\n",
      "  Loop: (371,)\n",
      "Values: [2, 5, 8, 11, 14, 17, 20, 23, 26, 29, 32, 35, 38, 41, 44, 50, 53, 56, 59, 62, 65, 68, 71, 80, 83, 86, 92, 95, 101, 104, 107, 110, 113, 116, 119, 122, 125, 128, 131, 134, 137, 140, 143, 146, 149, 152, 155, 158, 161, 164, 167, 170, 173, 176, 179, 182, 185, 188, 191, 194, 197, 200, 203, 206, 209, 212, 215, 218, 221, 224, 227, 230, 233, 236, 239, 242, 245, 248, 251, 254, 257, 260, 263, 266, 269, 272, 275, 278, 281, 284, 287, 290, 293, 296, 299, 302, 305, 308, 311, 314, 317, 320, 323, 326, 329, 332, 335, 338, 341, 344, 347, 350, 353, 356, 359, 362, 365, 368, 371, 374, 377, 380, 383, 386, 389, 392, 395, 398, 401, 404, 410, 413, 416, 419, 422, 425, 428, 431, 434, 437, 440, 443, 446, 452, 455, 458, 461, 464, 467, 473, 476, 479, 482, 485, 488, 491, 497, 500, 503, 506, 509, 512, 515, 518, 521, 524, 527, 530, 533, 536, 539, 542, 545, 548, 551, 554, 557, 560, 563, 566, 569, 572, 575, 581, 584, 590, 593, 596, 599, 602, 605, 608, 611, 614, 617, 620, 623, 626, 629, 632, 635, 638, 641, 644, 647, 650, 653, 656, 659, 662, 665, 671, 674, 677, 680, 683, 689, 692, 695, 698, 701, 710, 713, 716, 719, 722, 725, 728, 731, 734, 737, 743, 746, 749, 752, 755, 761, 764, 767, 773, 776, 779, 782, 791, 794, 797, 800, 803, 806, 812, 815, 818, 821, 824, 827, 830, 833, 836, 839, 842, 845, 848, 851, 854, 860, 863, 869, 872, 881, 884, 893, 896, 899, 902, 905, 911, 914, 917, 920, 923, 926, 929, 932, 935, 938, 941, 947, 950, 953, 956, 959, 962, 965, 968, 971, 974, 977, 983, 986, 989, 992, 995, 998, 1025, 1070, 1073, 1088, 1136, 1268, 1415, 1457, 1466, 1583, 1970]\n",
      "  Loop: (407,)\n",
      "Values: [47, 74, 77, 89, 98, 407, 449, 470, 494, 578, 587, 668, 686, 704, 707, 740, 758, 770, 785, 788, 809, 857, 866, 875, 878, 887, 890, 908, 944, 980, 1241, 1367]\n",
      "Unhappy loops:\n",
      "  Loop: (136, 244)\n",
      "Values: [136, 163, 244, 316, 361, 424, 442, 613, 631]\n",
      "  Loop: (919, 1459)\n",
      "Values: [49, 94, 199, 337, 373, 379, 397, 409, 478, 487, 490, 733, 739, 748, 784, 793, 847, 874, 904, 919, 937, 940, 973, 991, 1099, 1459]\n",
      "  Loop: (55, 250, 133)\n",
      "Values: [4, 13, 25, 28, 31, 40, 46, 52, 55, 64, 82, 103, 130, 133, 205, 208, 250, 256, 265, 280, 289, 298, 301, 310, 313, 331, 349, 394, 400, 406, 439, 448, 460, 484, 493, 502, 505, 520, 526, 550, 562, 589, 598, 604, 625, 640, 652, 679, 697, 769, 796, 802, 820, 829, 844, 859, 892, 895, 928, 934, 943, 958, 967, 976, 982, 985, 1033, 1249, 1288, 1366]\n",
      "  Loop: (160, 217, 352)\n",
      "Values: [16, 22, 61, 79, 97, 106, 115, 127, 151, 160, 172, 202, 217, 220, 229, 235, 238, 253, 271, 283, 292, 325, 328, 352, 382, 388, 445, 454, 457, 475, 511, 523, 532, 544, 547, 574, 601, 610, 709, 712, 721, 745, 754, 790, 823, 832, 838, 883, 907, 922, 970, 1051, 1072]\n"
     ]
    }
   ],
   "source": [
    "print(\"The following loops and values ending in those loops are discovered\")\n",
    "all_loops = find_all_loops(1000,3)\n",
    "sorted_loops= sorted(all_loops.keys(),key= lambda x: (len(x),x))\n",
    "\n",
    "print(\"Happy and almost happy loops:\")\n",
    "for loop in sorted_loops:\n",
    "    if len(loop) > 1:\n",
    "        break\n",
    "    print(\"  Loop: {}\\nValues: {}\".format(loop,sorted(all_loops[loop])))\n",
    "\n",
    "print(\"Unhappy loops:\")\n",
    "for loop in sorted_loops:\n",
    "    if len(loop) == 1:\n",
    "        continue\n",
    "    print(\"  Loop: {}\\nValues: {}\".format(loop,sorted(all_loops[loop])))\n"
   ]
  },
  {
   "cell_type": "code",
   "execution_count": 23,
   "metadata": {},
   "outputs": [
    {
     "data": {
      "text/plain": [
       "((160, 217, 352), [838, 1051, 127, 352, 160, 217])"
      ]
     },
     "execution_count": 23,
     "metadata": {},
     "output_type": "execute_result"
    }
   ],
   "source": [
    "find_happy_loop(838,3)"
   ]
  },
  {
   "cell_type": "markdown",
   "metadata": {},
   "source": [
    "### Exercise 3\n",
    "*The Birthday Paradox*\n",
    "1. Write a function called `has_duplicates` that takes\t\ta list and returns `True` if there is any element that\t\tappears more than once.  It should not modify the original\t\tlist.\n",
    "2. If there are $n=27$ students in your class, what are the chances that two of you have the same birthday (day/month)?  You can estimate this probability by generating random samples of $n$ birthdays and checking for matches. (For simplicity, assume that every year has 365 days and the probability to be born on any day is the same.)  \n",
    "    1. Estimate the probability on the basis generating 10000 trials of $n=27$ birthdays and determine the fraction of trials, where at least two persons share a birthday.\n",
    "    2. How do your estimates compare to the approximated probability $p_{m}(n)\\approx 1- e^{-\\frac{n^2}{2m}}$ for $m=365$,$n=27$  and the exact probability $$1-p_{m}(n)=1\\cdot\\frac{m-1}{m}\\cdot\\frac{m-2}{m}\\cdot\\ldots\\cdot\\frac{m-n+1}{m}$$.\n",
    "    3. *Bonus:* Modify your approach to estimate the probability that at least three people share a birthday with another one. \n"
   ]
  },
  {
   "cell_type": "code",
   "execution_count": 24,
   "metadata": {},
   "outputs": [
    {
     "name": "stdout",
     "output_type": "stream",
     "text": [
      "Estimated:  0.6257\n",
      "Approximated:  0.6316162690635074\n",
      "Calculated: 0.6268592822632421\n",
      "At least 3: 0.2426\n"
     ]
    }
   ],
   "source": [
    "import random\n",
    "from collections import defaultdict, Counter\n",
    "from math import exp\n",
    "\n",
    "days_per_year = 365\n",
    "\n",
    "def birthday_sample(class_size):\n",
    "    \"\"\" Return a list of class_size random birthdays. (The days of the\n",
    "        year are numbered  1 to 365)\n",
    "    \"\"\"\n",
    "    return [random.randint(1,days_per_year) for _ in range(class_size)]\n",
    "\n",
    "def duplicate_slow(sample):\n",
    "    for n in sample:\n",
    "        if sample.count(n)>1:\n",
    "            return True\n",
    "    return False\n",
    "\n",
    "def duplicate_count(sample):\n",
    "    \"\"\" Count the total number of duplicate values, e.g.\n",
    "        >>> duplicate_count([1,2,3,3,3,4]) # two redundant 3's\n",
    "        2\n",
    "        >>> duplicate_count([1,2,3,3,4,4]) # one redundant 4 and one redundant 4\n",
    "        2\n",
    "        \"\"\"\n",
    "    return len(sample)-len(set(sample))\n",
    "\n",
    "def duplicate_count_using_sorted_values(sample):\n",
    "    \"\"\" Count the total number of duplicate values, e.g.\n",
    "        >>> duplicate_count([1,2,3,3,3,4]) # two redundant 3's\n",
    "        2\n",
    "        >>> duplicate_count([1,2,3,3,4,4]) # one redundant 4 and one redundant 4\n",
    "        2\n",
    "        \"\"\"\n",
    "    sorted_sample=sorted(sample)\n",
    "    return sum(1 for x,y in zip(sorted_sample,sorted_sample[1:]) if x==y)\n",
    "    return len(sample)-len(set(sample))\n",
    "\n",
    "def count_non_unique(sample):\n",
    "    \"\"\" Return the number of students that have non-unique birthdays\n",
    "        >>> count_non_unique([8,7,6,5,4,7,6])\n",
    "        4\n",
    "        >>> count_non_unique([8,7,6,5,4,3,2,8])\n",
    "        2\n",
    "        >>> count_non_unique([1,2,3,4,5,6,7,8,9])\n",
    "        0\n",
    "        >>> count_non_unique([1,2,3,4,5,1,2,3,4,5])\n",
    "        10\n",
    "    \"\"\"\n",
    "    counter = defaultdict(int) # or: counter = Counter()\n",
    "    for i in sample:\n",
    "        counter[i] += 1\n",
    "    return sum(filter(lambda x: x>1,counter.values()))\n",
    "        \n",
    "def duplicates(sample):\n",
    "    \"\"\" Return True if a collection of samples contains duplicates, False otherwise\n",
    "        >>> duplicates([7,6,5,8,9])\n",
    "        False\n",
    "        >>> duplicates([3,4,2,7,6,2])\n",
    "        True\n",
    "    \"\"\"\n",
    "    return duplicate_count(sample)>0\n",
    "\n",
    "def estimate_p(class_size,trials,dup=2):\n",
    "    \"\"\" Estimate the probability that in a class of class_size students\n",
    "        there are at least dup students that have non-unique birthdays\n",
    "    \"\"\"\n",
    "    \n",
    "    count = 0\n",
    "    for _ in range(trials):\n",
    "        sample = birthday_sample(class_size)\n",
    "        if count_non_unique(sample)>=dup:\n",
    "            count += 1\n",
    "    return count / trials\n",
    "\n",
    "def approx_p(class_size):\n",
    "    \"\"\" Use approximation formula for the probability of having a duplicate birthday\n",
    "    \"\"\"\n",
    "    return 1-exp(-class_size**2/(2*days_per_year))\n",
    "\n",
    "def calc_p(class_size):\n",
    "    \"\"\" Use exact formula for the probability of having a duplicate birthday\n",
    "    \"\"\"\n",
    "    prod=1\n",
    "    for k in range(1,class_size):\n",
    "        prod *= (days_per_year-k)/days_per_year\n",
    "    return 1-prod\n",
    "\n",
    "cs = 27\n",
    "print(\"Estimated: \",estimate_p(cs,10000))\n",
    "print(\"Approximated: \",approx_p(cs))\n",
    "print(\"Calculated:\",calc_p(cs))\n",
    "\n",
    "print(\"At least 3:\", estimate_p(cs,10000,3))"
   ]
  },
  {
   "cell_type": "code",
   "execution_count": 25,
   "metadata": {},
   "outputs": [],
   "source": [
    "doctest.run_docstring_examples(duplicate_count,globals())\n",
    "doctest.run_docstring_examples(duplicate_count_using_sorted_values,globals())"
   ]
  },
  {
   "cell_type": "markdown",
   "metadata": {},
   "source": [
    "### Exercise 4\n",
    "* Making triangles *\n",
    "Imagine you are given a stick of length 1 (meter) and you break the stick randomly at two points breaking leaving you with 3 smaller sticks of random length. How likely is it that the three sticks can be combined to form 3 sides of a triangle? (See exercise 5.3 of Think Python.)\n",
    "\n",
    "Write Python code to simulate $1\\,000\\,000$ trials splitting the stick randomly into 3 pieces and estimate the probability that a triangle can be formed from the three pieces."
   ]
  },
  {
   "cell_type": "code",
   "execution_count": 26,
   "metadata": {},
   "outputs": [],
   "source": [
    "import random\n",
    "\n",
    "def forms_triangle_concise(a,b,c):\n",
    "    return 2*max(a,b,c) <= a+b+c\n",
    "# or\n",
    "def forms_triangle(a,b,c):\n",
    "    \"\"\" Check whether lines of length a,b, anc can form a triangle\n",
    "    >>> forms_triangle(3,5,7)\n",
    "    True\n",
    "    >>> forms_triangle(4,9,1)\n",
    "    False\n",
    "    \"\"\"\n",
    "    return a < b+c and b < a+c and c < a+b\n",
    "\n",
    "def random_sticks():\n",
    "    \"\"\" Generate two random breaking points on a stick of length 1 to leave 3 randomly sized smaller sticks\n",
    "    >>> a,b,c = random_sticks()\n",
    "    >>> a+b+c==1\n",
    "    True\n",
    "    >>> a>=0 and b>=0 and c>=0\n",
    "    True\n",
    "    \"\"\"\n",
    "    bp1, bp2 = random.random(),random.random()\n",
    "    if bp2 < bp1:\n",
    "        bp1,bp2 = bp2,bp1\n",
    "    return bp1, bp2-bp1,1-bp2"
   ]
  },
  {
   "cell_type": "code",
   "execution_count": 27,
   "metadata": {},
   "outputs": [],
   "source": [
    "doctest.run_docstring_examples(forms_triangle,globals())\n",
    "doctest.run_docstring_examples(random_sticks(),globals())\n"
   ]
  },
  {
   "cell_type": "code",
   "execution_count": 28,
   "metadata": {},
   "outputs": [
    {
     "name": "stdout",
     "output_type": "stream",
     "text": [
      "breaking_sticks_trials: 0.249343\n",
      "breaking_sticks_trials_concise: 0.250322\n"
     ]
    }
   ],
   "source": [
    "# Verbose version\n",
    "def breaking_sticks_trials(trials=1000000):\n",
    "    successes = 0\n",
    "    for _ in range(trials):\n",
    "        a,b,c = random_sticks()\n",
    "        if forms_triangle(a,b,c):\n",
    "            successes += 1\n",
    "    return successes/trials\n",
    "\n",
    "# Concise version\n",
    "def breaking_sticks_trials_concise(trials=1000000):\n",
    "    successes = sum(1 for _ in range(trials) if forms_triangle(*random_sticks()))\n",
    "    return successes/trials\n",
    "\n",
    "print(\"breaking_sticks_trials:\",breaking_sticks_trials())\n",
    "print(\"breaking_sticks_trials_concise:\",breaking_sticks_trials_concise())"
   ]
  },
  {
   "cell_type": "markdown",
   "metadata": {},
   "source": [
    "### Exercise 5\n",
    "*Estimating $\\pi$*\n",
    "\n",
    "Imagine a square of side length 2 centered around the origin, i.e. with $x$-coordinates in the range -1 to 1 and $y$-coordinates in the range -1 to 1:\n",
    "$$S=\\{(x,y)|-1\\le x\\le 1 \\wedge -1\\le y\\le 1\\}$$\n",
    " Now consider a circle with radius 1 around the origin:\n",
    "$$C=\\{(x,y)|x^2+y^2\\le1\\}$$\n",
    "The area of $S$ is 4 and the area of the circle is $\\pi$.\n",
    "\n",
    "If we randomly choose points inside the square by repeatedly choosing random values $x$ and $y$ in the interval -1 to 1 some of these points will also fall inside the circle and some will fall outside the circle. The probability of falling inside the circle is determined by the ratio of the areas of $C$ and $S$, i.e. $\\pi/4$. Thus, if we repeatedly choose random points, the fraction of points inside the circle should approximate $\\pi/4$.\n",
    "\n",
    "Choose $10$, $100$, $1000$, $10\\,000$, $100\\,000$, $1\\,000\\,000$ random points and determine an approximation of $\\pi$ by determining $4\\cdot f$ where $f$ is the fraction of points falling inside the circle. How does the approximation of $\\pi$ improve.\n",
    "\n",
    "*Note:* This technique is known as *Monte-Carlo-integration*. In general Monte-Carlo techniques and can be used in many scenarios to estimate quantities that are hard to determine otherwise."
   ]
  },
  {
   "cell_type": "code",
   "execution_count": 29,
   "metadata": {},
   "outputs": [],
   "source": [
    "def is_in_circle(x,y):\n",
    "    return x*x+y*y<=1\n",
    "\n",
    "def monte_carlo_pi(n=1000000):\n",
    "    inside_circle_count = 0\n",
    "    for _ in range(n):\n",
    "        x,y = random.uniform(-1,1),random.uniform(-1,1)\n",
    "        if is_in_circle(x,y):\n",
    "            inside_circle_count += 1\n",
    "    return 4* inside_circle_count / n"
   ]
  },
  {
   "cell_type": "code",
   "execution_count": 30,
   "metadata": {},
   "outputs": [
    {
     "name": "stdout",
     "output_type": "stream",
     "text": [
      "Estimates for consecutive powers of 10 number of trials\n",
      "    Trials   Estimate\n",
      "        10        2.4\n",
      "       100       3.04\n",
      "      1000      3.124\n",
      "     10000     3.1576\n",
      "    100000     3.1384\n",
      "   1000000   3.141568\n"
     ]
    }
   ],
   "source": [
    "print(\"Estimates for consecutive powers of 10 number of trials\")\n",
    "result = [(10**n,monte_carlo_pi(10**n)) for n in range(1,7)]\n",
    "print(\"{:>10} {:>10}\".format(\"Trials\",\"Estimate\"))\n",
    "for n,est in result:\n",
    "    print(\"{:10} {:10}\".format(n,est))"
   ]
  },
  {
   "cell_type": "markdown",
   "metadata": {},
   "source": [
    "### Exercise 6\n",
    "\n",
    "1. Write a program\n",
    "\tthat reads a word list from the file {\\tt words.txt} and\n",
    "\tprints all the sets of words that are anagrams. Limit your output to words having at least 6 anagrams (including itself).\n",
    "\t\n",
    "\tHere is an example of what the output might look like:\n",
    "\n",
    "\t\t['deltas', 'desalt', 'lasted', 'salted', 'slated', 'staled']\n",
    "\t\t['retainers', 'ternaries']\n",
    "\t\t['generating', 'greatening']\n",
    "\t\t['resmelts', 'smelters', 'termless']\n",
    "\n",
    "2. Modify the previous program so that it prints the largest set\n",
    "\tof anagrams first, followed by the second largest set, and so on.\n",
    "\t\n",
    "3. Which set of 8 letters contains the most anagrams and what are they?\n",
    "\tHint: there are seven."
   ]
  },
  {
   "cell_type": "code",
   "execution_count": 31,
   "metadata": {},
   "outputs": [
    {
     "name": "stdout",
     "output_type": "stream",
     "text": [
      "0.02887139999999988 secs.\n"
     ]
    }
   ],
   "source": [
    "def readWords(fn):\n",
    "    \"Read a list of words\"\n",
    "    return [line.strip() for line in open(fn)]\n",
    "\n",
    "def readWordsSlow(fn):\n",
    "    lst = []\n",
    "    for line in open(fn):\n",
    "        lst = lst+[line.strip()]\n",
    "    return lst\n",
    "\n",
    "def readWordsFast(fn):\n",
    "    lst = []\n",
    "    for line in open(fn):\n",
    "        lst.append(line.strip())\n",
    "    return lst\n",
    "\n",
    "import time\n",
    "p = time.perf_counter()\n",
    "readWordsFast('words.txt')\n",
    "print(time.perf_counter()-p,\"secs.\")\n",
    "p = time.perf_counter()\n",
    "#w=readWordsSlow('words.txt')\n",
    "#print(time.perf_counter()-p,\"secs.\")\n"
   ]
  },
  {
   "cell_type": "code",
   "execution_count": 32,
   "metadata": {},
   "outputs": [
    {
     "name": "stdout",
     "output_type": "stream",
     "text": [
      "Words having at least 6 anagrams (including itself)\n",
      "['alerts', 'alters', 'artels', 'estral', 'laster', 'ratels', 'salter', 'slater', 'staler', 'stelar', 'talers']\n",
      "['apers', 'asper', 'pares', 'parse', 'pears', 'prase', 'presa', 'rapes', 'reaps', 'spare', 'spear']\n",
      "['least', 'setal', 'slate', 'stale', 'steal', 'stela', 'taels', 'tales', 'teals', 'tesla']\n",
      "['capers', 'crapes', 'escarp', 'pacers', 'parsec', 'recaps', 'scrape', 'secpar', 'spacer']\n",
      "['estrin', 'inerts', 'insert', 'inters', 'niters', 'nitres', 'sinter', 'triens', 'trines']\n",
      "['acers', 'acres', 'cares', 'carse', 'escar', 'races', 'scare', 'serac']\n",
      "['anestri', 'nastier', 'ratines', 'retains', 'retinas', 'retsina', 'stainer', 'stearin']\n",
      "['arles', 'earls', 'lares', 'laser', 'lears', 'rales', 'reals', 'seral']\n",
      "['aspers', 'parses', 'passer', 'prases', 'repass', 'spares', 'sparse', 'spears']\n",
      "['ates', 'east', 'eats', 'etas', 'sate', 'seat', 'seta', 'teas']\n",
      "['carets', 'cartes', 'caster', 'caters', 'crates', 'reacts', 'recast', 'traces']\n",
      "['earings', 'erasing', 'gainers', 'reagins', 'regains', 'reginas', 'searing', 'seringa']\n",
      "['lapse', 'leaps', 'pales', 'peals', 'pleas', 'salep', 'sepal', 'spale']\n",
      "['palest', 'palets', 'pastel', 'petals', 'plates', 'pleats', 'septal', 'staple']\n",
      "['peris', 'piers', 'pries', 'prise', 'ripes', 'speir', 'spier', 'spire']\n",
      "['abets', 'baste', 'bates', 'beast', 'beats', 'betas', 'tabes']\n",
      "['algins', 'aligns', 'lasing', 'liangs', 'ligans', 'lingas', 'signal']\n",
      "['amens', 'manes', 'manse', 'means', 'mensa', 'names', 'nemas']\n",
      "['angriest', 'astringe', 'ganister', 'gantries', 'granites', 'ingrates', 'rangiest']\n",
      "['ardebs', 'bardes', 'beards', 'breads', 'debars', 'sabred', 'serdab']\n",
      "['ares', 'arse', 'ears', 'eras', 'rase', 'sear', 'sera']\n",
      "['aridest', 'astride', 'diaster', 'disrate', 'staider', 'tardies', 'tirades']\n",
      "['ariled', 'derail', 'dialer', 'laired', 'railed', 'redial', 'relaid']\n",
      "['armets', 'master', 'maters', 'matres', 'ramets', 'stream', 'tamers']\n",
      "['arrest', 'rarest', 'raster', 'raters', 'starer', 'tarres', 'terras']\n",
      "['artiest', 'artiste', 'attires', 'iratest', 'ratites', 'striate', 'tastier']\n",
      "['aspen', 'napes', 'neaps', 'panes', 'peans', 'sneap', 'spean']\n",
      "['caret', 'carte', 'cater', 'crate', 'react', 'recta', 'trace']\n",
      "['cruets', 'cruset', 'curets', 'eructs', 'rectus', 'recuts', 'truces']\n",
      "['deist', 'diets', 'dites', 'edits', 'sited', 'stied', 'tides']\n",
      "['drapes', 'padres', 'parsed', 'rasped', 'spader', 'spared', 'spread']\n",
      "['emits', 'items', 'metis', 'mites', 'smite', 'stime', 'times']\n",
      "['empires', 'emprise', 'epimers', 'imprese', 'premies', 'premise', 'spireme']\n",
      "['enosis', 'eosins', 'essoin', 'noesis', 'noises', 'ossein', 'sonsie']\n",
      "['esprits', 'persist', 'priests', 'spriest', 'sprites', 'stirpes', 'stripes']\n",
      "['ester', 'reest', 'reset', 'steer', 'stere', 'terse', 'trees']\n",
      "['estrous', 'oestrus', 'ousters', 'sourest', 'souters', 'stoures', 'tussore']\n",
      "['lavers', 'ravels', 'salver', 'serval', 'slaver', 'velars', 'versal']\n",
      "['merits', 'mister', 'miters', 'mitres', 'remits', 'smiter', 'timers']\n",
      "['nestor', 'noters', 'stoner', 'tenors', 'tensor', 'toners', 'trones']\n",
      "['paste', 'pates', 'peats', 'septa', 'spate', 'tapes', 'tepas']\n",
      "['peers', 'peres', 'perse', 'prees', 'prese', 'speer', 'spree']\n",
      "['resaw', 'sawer', 'sewar', 'sware', 'swear', 'wares', 'wears']\n",
      "['acred', 'arced', 'cadre', 'cared', 'cedar', 'raced']\n",
      "['aiders', 'deairs', 'irades', 'raised', 'redias', 'resaid']\n",
      "['airts', 'astir', 'sitar', 'stair', 'stria', 'tarsi']\n",
      "['alert', 'alter', 'artel', 'later', 'ratel', 'taler']\n",
      "['alerting', 'altering', 'integral', 'relating', 'tanglier', 'triangle']\n",
      "['alevin', 'alvine', 'valine', 'veinal', 'venial', 'vineal']\n",
      "['aliens', 'alines', 'elains', 'lianes', 'saline', 'silane']\n",
      "['aligners', 'engrails', 'nargiles', 'realigns', 'signaler', 'slangier']\n",
      "['ardeb', 'barde', 'bared', 'beard', 'bread', 'debar']\n",
      "['aretes', 'easter', 'eaters', 'reseat', 'seater', 'teaser']\n",
      "['aril', 'lair', 'liar', 'lira', 'rail', 'rial']\n",
      "['arils', 'lairs', 'liars', 'liras', 'rails', 'rials']\n",
      "['ashed', 'deash', 'hades', 'heads', 'sadhe', 'shade']\n",
      "['aspirer', 'parries', 'praiser', 'rapiers', 'raspier', 'repairs']\n",
      "['bares', 'baser', 'bears', 'braes', 'saber', 'sabre']\n",
      "['canter', 'centra', 'nectar', 'recant', 'tanrec', 'trance']\n",
      "['canters', 'nectars', 'recants', 'scanter', 'tanrecs', 'trances']\n",
      "['caress', 'carses', 'crases', 'escars', 'scares', 'seracs']\n",
      "['carpels', 'clasper', 'parcels', 'placers', 'reclasp', 'scalper']\n",
      "['claroes', 'coalers', 'escolar', 'oracles', 'recoals', 'solacer']\n",
      "['corset', 'coster', 'escort', 'rectos', 'scoter', 'sector']\n",
      "['cruet', 'curet', 'cuter', 'eruct', 'recut', 'truce']\n",
      "['dater', 'derat', 'rated', 'tared', 'trade', 'tread']\n",
      "['dearths', 'hardest', 'hardset', 'hatreds', 'threads', 'trashed']\n",
      "['deers', 'drees', 'redes', 'reeds', 'seder', 'sered']\n",
      "['deils', 'delis', 'idles', 'isled', 'sidle', 'slide']\n",
      "['deltas', 'desalt', 'lasted', 'salted', 'slated', 'staled']\n",
      "['deposit', 'dopiest', 'podites', 'posited', 'sopited', 'topside']\n",
      "['diols', 'idols', 'lidos', 'sloid', 'soldi', 'solid']\n",
      "['easters', 'reseats', 'searest', 'seaters', 'teasers', 'tessera']\n",
      "['easting', 'eatings', 'ingates', 'ingesta', 'seating', 'teasing']\n",
      "['elastin', 'entails', 'nailset', 'salient', 'saltine', 'tenails']\n",
      "['enters', 'nester', 'rentes', 'resent', 'tenser', 'ternes']\n",
      "['esprit', 'priest', 'ripest', 'sprite', 'stripe', 'tripes']\n",
      "['esters', 'reests', 'resets', 'serest', 'steers', 'steres']\n",
      "['estrange', 'grantees', 'greatens', 'negaters', 'reagents', 'sergeant']\n",
      "['eviler', 'levier', 'liever', 'relive', 'revile', 'veiler']\n",
      "['hales', 'heals', 'leash', 'selah', 'shale', 'sheal']\n",
      "['hassel', 'hassle', 'lashes', 'selahs', 'shales', 'sheals']\n",
      "['hectors', 'rochets', 'rotches', 'tochers', 'torches', 'troches']\n",
      "['laves', 'salve', 'slave', 'vales', 'valse', 'veals']\n",
      "['leapt', 'lepta', 'palet', 'petal', 'plate', 'pleat']\n",
      "['leasts', 'slates', 'stales', 'steals', 'tassel', 'teslas']\n",
      "['luster', 'lustre', 'result', 'rustle', 'sutler', 'ulster']\n",
      "['lusters', 'lustres', 'results', 'rustles', 'sutlers', 'ulsters']\n",
      "['mates', 'meats', 'satem', 'steam', 'tames', 'teams']\n",
      "['notes', 'onset', 'seton', 'steno', 'stone', 'tones']\n",
      "['opts', 'post', 'pots', 'spot', 'stop', 'tops']\n",
      "['painters', 'pantries', 'pertains', 'pinaster', 'pristane', 'repaints']\n",
      "['palters', 'persalt', 'plaster', 'platers', 'psalter', 'stapler']\n",
      "['parties', 'pastier', 'piaster', 'piastre', 'pirates', 'traipse']\n",
      "['parts', 'prats', 'sprat', 'strap', 'tarps', 'traps']\n",
      "['paster', 'paters', 'prates', 'repast', 'tapers', 'trapes']\n",
      "['petrous', 'posture', 'pouters', 'proteus', 'spouter', 'troupes']\n",
      "['piles', 'plies', 'slipe', 'speil', 'spiel', 'spile']\n",
      "['realist', 'retails', 'saltier', 'saltire', 'slatier', 'tailers']\n",
      "['recepts', 'respect', 'scepter', 'sceptre', 'specter', 'spectre']\n",
      "['reigns', 'renigs', 'resign', 'sering', 'signer', 'singer']\n",
      "['reins', 'resin', 'rinse', 'risen', 'serin', 'siren']\n",
      "['staw', 'swat', 'taws', 'twas', 'wast', 'wats']\n",
      "['stow', 'swot', 'tows', 'twos', 'wost', 'wots']\n",
      "8-letter words having at least 6 anagrams (including itself)\n",
      "['angriest', 'astringe', 'ganister', 'gantries', 'granites', 'ingrates', 'rangiest']\n"
     ]
    }
   ],
   "source": [
    "word_list = readWords(\"words.txt\")\n",
    "\n",
    "\n",
    "anagram_dict = dict()\n",
    "# anagram_dict is a dictionary where \n",
    "# the keys are formed by the letters of each word in alphabetical order and\n",
    "# the value for each key is the list of words that are anagrams of these letters\n",
    "for word in word_list:\n",
    "    # key is string composed of sorted letters\n",
    "    key = \"\".join(sorted(word))\n",
    "    if key not in anagram_dict:\n",
    "        anagram_dict[key] = [word]\n",
    "    else:\n",
    "        anagram_dict[key].append(word)\n",
    "\n",
    "anagrams = sorted(anagram_dict.values(),key=len,reverse=True)\n",
    "\n",
    "# Remove short anagrams\n",
    "for i in range(len(anagrams)):\n",
    "    if len(anagrams[i])<6:\n",
    "        anagrams = anagrams[:i]\n",
    "        break\n",
    "\n",
    "print(\"Words having at least 6 anagrams (including itself)\")\n",
    "for agram in anagrams:\n",
    "    print(agram)\n",
    "\n",
    "print(\"8-letter words having at least 6 anagrams (including itself)\")\n",
    "for agram in anagrams:\n",
    "    if len(agram[0])==8:\n",
    "        print(agram)\n",
    "        break\n",
    "\n",
    "\n",
    "\n"
   ]
  },
  {
   "cell_type": "code",
   "execution_count": 33,
   "metadata": {},
   "outputs": [
    {
     "name": "stdout",
     "output_type": "stream",
     "text": [
      "Words having at least 6 anagrams (including itself)\n",
      "['alerts', 'alters', 'artels', 'estral', 'laster', 'ratels', 'salter', 'slater', 'staler', 'stelar', 'talers']\n",
      "['apers', 'asper', 'pares', 'parse', 'pears', 'prase', 'presa', 'rapes', 'reaps', 'spare', 'spear']\n",
      "['least', 'setal', 'slate', 'stale', 'steal', 'stela', 'taels', 'tales', 'teals', 'tesla']\n",
      "['capers', 'crapes', 'escarp', 'pacers', 'parsec', 'recaps', 'scrape', 'secpar', 'spacer']\n",
      "['estrin', 'inerts', 'insert', 'inters', 'niters', 'nitres', 'sinter', 'triens', 'trines']\n",
      "['acers', 'acres', 'cares', 'carse', 'escar', 'races', 'scare', 'serac']\n",
      "['anestri', 'nastier', 'ratines', 'retains', 'retinas', 'retsina', 'stainer', 'stearin']\n",
      "['arles', 'earls', 'lares', 'laser', 'lears', 'rales', 'reals', 'seral']\n",
      "['aspers', 'parses', 'passer', 'prases', 'repass', 'spares', 'sparse', 'spears']\n",
      "['ates', 'east', 'eats', 'etas', 'sate', 'seat', 'seta', 'teas']\n",
      "['carets', 'cartes', 'caster', 'caters', 'crates', 'reacts', 'recast', 'traces']\n",
      "['earings', 'erasing', 'gainers', 'reagins', 'regains', 'reginas', 'searing', 'seringa']\n",
      "['lapse', 'leaps', 'pales', 'peals', 'pleas', 'salep', 'sepal', 'spale']\n",
      "['palest', 'palets', 'pastel', 'petals', 'plates', 'pleats', 'septal', 'staple']\n",
      "['peris', 'piers', 'pries', 'prise', 'ripes', 'speir', 'spier', 'spire']\n",
      "['abets', 'baste', 'bates', 'beast', 'beats', 'betas', 'tabes']\n",
      "['algins', 'aligns', 'lasing', 'liangs', 'ligans', 'lingas', 'signal']\n",
      "['amens', 'manes', 'manse', 'means', 'mensa', 'names', 'nemas']\n",
      "['angriest', 'astringe', 'ganister', 'gantries', 'granites', 'ingrates', 'rangiest']\n",
      "['ardebs', 'bardes', 'beards', 'breads', 'debars', 'sabred', 'serdab']\n",
      "['ares', 'arse', 'ears', 'eras', 'rase', 'sear', 'sera']\n",
      "['aridest', 'astride', 'diaster', 'disrate', 'staider', 'tardies', 'tirades']\n",
      "['ariled', 'derail', 'dialer', 'laired', 'railed', 'redial', 'relaid']\n",
      "['armets', 'master', 'maters', 'matres', 'ramets', 'stream', 'tamers']\n",
      "['arrest', 'rarest', 'raster', 'raters', 'starer', 'tarres', 'terras']\n",
      "['artiest', 'artiste', 'attires', 'iratest', 'ratites', 'striate', 'tastier']\n",
      "['aspen', 'napes', 'neaps', 'panes', 'peans', 'sneap', 'spean']\n",
      "['caret', 'carte', 'cater', 'crate', 'react', 'recta', 'trace']\n",
      "['cruets', 'cruset', 'curets', 'eructs', 'rectus', 'recuts', 'truces']\n",
      "['deist', 'diets', 'dites', 'edits', 'sited', 'stied', 'tides']\n",
      "['drapes', 'padres', 'parsed', 'rasped', 'spader', 'spared', 'spread']\n",
      "['emits', 'items', 'metis', 'mites', 'smite', 'stime', 'times']\n",
      "['empires', 'emprise', 'epimers', 'imprese', 'premies', 'premise', 'spireme']\n",
      "['enosis', 'eosins', 'essoin', 'noesis', 'noises', 'ossein', 'sonsie']\n",
      "['esprits', 'persist', 'priests', 'spriest', 'sprites', 'stirpes', 'stripes']\n",
      "['ester', 'reest', 'reset', 'steer', 'stere', 'terse', 'trees']\n",
      "['estrous', 'oestrus', 'ousters', 'sourest', 'souters', 'stoures', 'tussore']\n",
      "['lavers', 'ravels', 'salver', 'serval', 'slaver', 'velars', 'versal']\n",
      "['merits', 'mister', 'miters', 'mitres', 'remits', 'smiter', 'timers']\n",
      "['nestor', 'noters', 'stoner', 'tenors', 'tensor', 'toners', 'trones']\n",
      "['paste', 'pates', 'peats', 'septa', 'spate', 'tapes', 'tepas']\n",
      "['peers', 'peres', 'perse', 'prees', 'prese', 'speer', 'spree']\n",
      "['resaw', 'sawer', 'sewar', 'sware', 'swear', 'wares', 'wears']\n",
      "['acred', 'arced', 'cadre', 'cared', 'cedar', 'raced']\n",
      "['aiders', 'deairs', 'irades', 'raised', 'redias', 'resaid']\n",
      "['airts', 'astir', 'sitar', 'stair', 'stria', 'tarsi']\n",
      "['alert', 'alter', 'artel', 'later', 'ratel', 'taler']\n",
      "['alerting', 'altering', 'integral', 'relating', 'tanglier', 'triangle']\n",
      "['alevin', 'alvine', 'valine', 'veinal', 'venial', 'vineal']\n",
      "['aliens', 'alines', 'elains', 'lianes', 'saline', 'silane']\n",
      "['aligners', 'engrails', 'nargiles', 'realigns', 'signaler', 'slangier']\n",
      "['ardeb', 'barde', 'bared', 'beard', 'bread', 'debar']\n",
      "['aretes', 'easter', 'eaters', 'reseat', 'seater', 'teaser']\n",
      "['aril', 'lair', 'liar', 'lira', 'rail', 'rial']\n",
      "['arils', 'lairs', 'liars', 'liras', 'rails', 'rials']\n",
      "['ashed', 'deash', 'hades', 'heads', 'sadhe', 'shade']\n",
      "['aspirer', 'parries', 'praiser', 'rapiers', 'raspier', 'repairs']\n",
      "['bares', 'baser', 'bears', 'braes', 'saber', 'sabre']\n",
      "['canter', 'centra', 'nectar', 'recant', 'tanrec', 'trance']\n",
      "['canters', 'nectars', 'recants', 'scanter', 'tanrecs', 'trances']\n",
      "['caress', 'carses', 'crases', 'escars', 'scares', 'seracs']\n",
      "['carpels', 'clasper', 'parcels', 'placers', 'reclasp', 'scalper']\n",
      "['claroes', 'coalers', 'escolar', 'oracles', 'recoals', 'solacer']\n",
      "['corset', 'coster', 'escort', 'rectos', 'scoter', 'sector']\n",
      "['cruet', 'curet', 'cuter', 'eruct', 'recut', 'truce']\n",
      "['dater', 'derat', 'rated', 'tared', 'trade', 'tread']\n",
      "['dearths', 'hardest', 'hardset', 'hatreds', 'threads', 'trashed']\n",
      "['deers', 'drees', 'redes', 'reeds', 'seder', 'sered']\n",
      "['deils', 'delis', 'idles', 'isled', 'sidle', 'slide']\n",
      "['deltas', 'desalt', 'lasted', 'salted', 'slated', 'staled']\n",
      "['deposit', 'dopiest', 'podites', 'posited', 'sopited', 'topside']\n",
      "['diols', 'idols', 'lidos', 'sloid', 'soldi', 'solid']\n",
      "['easters', 'reseats', 'searest', 'seaters', 'teasers', 'tessera']\n",
      "['easting', 'eatings', 'ingates', 'ingesta', 'seating', 'teasing']\n",
      "['elastin', 'entails', 'nailset', 'salient', 'saltine', 'tenails']\n",
      "['enters', 'nester', 'rentes', 'resent', 'tenser', 'ternes']\n",
      "['esprit', 'priest', 'ripest', 'sprite', 'stripe', 'tripes']\n",
      "['esters', 'reests', 'resets', 'serest', 'steers', 'steres']\n",
      "['estrange', 'grantees', 'greatens', 'negaters', 'reagents', 'sergeant']\n",
      "['eviler', 'levier', 'liever', 'relive', 'revile', 'veiler']\n",
      "['hales', 'heals', 'leash', 'selah', 'shale', 'sheal']\n",
      "['hassel', 'hassle', 'lashes', 'selahs', 'shales', 'sheals']\n",
      "['hectors', 'rochets', 'rotches', 'tochers', 'torches', 'troches']\n",
      "['laves', 'salve', 'slave', 'vales', 'valse', 'veals']\n",
      "['leapt', 'lepta', 'palet', 'petal', 'plate', 'pleat']\n",
      "['leasts', 'slates', 'stales', 'steals', 'tassel', 'teslas']\n",
      "['luster', 'lustre', 'result', 'rustle', 'sutler', 'ulster']\n",
      "['lusters', 'lustres', 'results', 'rustles', 'sutlers', 'ulsters']\n",
      "['mates', 'meats', 'satem', 'steam', 'tames', 'teams']\n",
      "['notes', 'onset', 'seton', 'steno', 'stone', 'tones']\n",
      "['opts', 'post', 'pots', 'spot', 'stop', 'tops']\n",
      "['painters', 'pantries', 'pertains', 'pinaster', 'pristane', 'repaints']\n",
      "['palters', 'persalt', 'plaster', 'platers', 'psalter', 'stapler']\n",
      "['parties', 'pastier', 'piaster', 'piastre', 'pirates', 'traipse']\n",
      "['parts', 'prats', 'sprat', 'strap', 'tarps', 'traps']\n",
      "['paster', 'paters', 'prates', 'repast', 'tapers', 'trapes']\n",
      "['petrous', 'posture', 'pouters', 'proteus', 'spouter', 'troupes']\n",
      "['piles', 'plies', 'slipe', 'speil', 'spiel', 'spile']\n",
      "['realist', 'retails', 'saltier', 'saltire', 'slatier', 'tailers']\n",
      "['recepts', 'respect', 'scepter', 'sceptre', 'specter', 'spectre']\n",
      "['reigns', 'renigs', 'resign', 'sering', 'signer', 'singer']\n",
      "['reins', 'resin', 'rinse', 'risen', 'serin', 'siren']\n",
      "['staw', 'swat', 'taws', 'twas', 'wast', 'wats']\n",
      "['stow', 'swot', 'tows', 'twos', 'wost', 'wots']\n",
      "8 letter words with at least 6 anagrams:\n",
      "BINGO:\n",
      "['acers', 'acres', 'cares', 'carse', 'escar', 'races', 'scare', 'serac']\n",
      "BINGO:\n",
      "['anestri', 'nastier', 'ratines', 'retains', 'retinas', 'retsina', 'stainer', 'stearin']\n",
      "BINGO:\n",
      "['arles', 'earls', 'lares', 'laser', 'lears', 'rales', 'reals', 'seral']\n",
      "BINGO:\n",
      "['aspers', 'parses', 'passer', 'prases', 'repass', 'spares', 'sparse', 'spears']\n",
      "BINGO:\n",
      "['ates', 'east', 'eats', 'etas', 'sate', 'seat', 'seta', 'teas']\n",
      "BINGO:\n",
      "['carets', 'cartes', 'caster', 'caters', 'crates', 'reacts', 'recast', 'traces']\n",
      "BINGO:\n",
      "['earings', 'erasing', 'gainers', 'reagins', 'regains', 'reginas', 'searing', 'seringa']\n",
      "BINGO:\n",
      "['lapse', 'leaps', 'pales', 'peals', 'pleas', 'salep', 'sepal', 'spale']\n",
      "BINGO:\n",
      "['palest', 'palets', 'pastel', 'petals', 'plates', 'pleats', 'septal', 'staple']\n",
      "BINGO:\n",
      "['peris', 'piers', 'pries', 'prise', 'ripes', 'speir', 'spier', 'spire']\n",
      "The 8 letters with the most anagrams are: ['angriest', 'astringe', 'ganister', 'gantries', 'granites', 'ingrates', 'rangiest']\n"
     ]
    }
   ],
   "source": [
    "from collections import defaultdict\n",
    "wl = readWords(\"words.txt\")\n",
    "\n",
    "anagram_dict=defaultdict(list)\n",
    "for word in wl:\n",
    "    anagram_dict[''.join(sorted(word))].append(word)\n",
    "\n",
    "anagrams = anagram_dict.values()\n",
    "least6 = filter(lambda x: len(x)>=6,anagrams)\n",
    "\n",
    "least6 = sorted(least6,key=len,reverse=True)\n",
    "\n",
    "print(\"Words having at least 6 anagrams (including itself)\")\n",
    "for k in least6:\n",
    "    print(k)\n",
    "\n",
    "print(\"8 letter words with at least 6 anagrams:\")\n",
    "for k in least6:\n",
    "    if len(k)==8:\n",
    "        print('BINGO:')\n",
    "        print(k)\n",
    "\n",
    "print(\"The 8 letters with the most anagrams are:\",\n",
    "      max(filter(lambda x: len(x[0])==8,least6), key = len))"
   ]
  }
 ],
 "metadata": {
  "kernelspec": {
   "display_name": "Python 3",
   "language": "python",
   "name": "python3"
  },
  "language_info": {
   "codemirror_mode": {
    "name": "ipython",
    "version": 3
   },
   "file_extension": ".py",
   "mimetype": "text/x-python",
   "name": "python",
   "nbconvert_exporter": "python",
   "pygments_lexer": "ipython3",
   "version": "3.7.0"
  }
 },
 "nbformat": 4,
 "nbformat_minor": 2
}
