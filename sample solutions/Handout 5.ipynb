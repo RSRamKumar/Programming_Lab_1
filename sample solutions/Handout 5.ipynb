{
 "cells": [
  {
   "cell_type": "code",
   "execution_count": 1,
   "metadata": {},
   "outputs": [],
   "source": [
    "# Handout 5"
   ]
  },
  {
   "cell_type": "code",
   "execution_count": 2,
   "metadata": {},
   "outputs": [],
   "source": [
    "### Ex. 1\n",
    "def read_matrix(fname):\n",
    "    \"\"\" Read distance matrix from file\n",
    "    \"\"\"\n",
    "    dist={}\n",
    "    with open(fname,) as f:\n",
    "        cols=next(f).split() # First line contains column labels\n",
    "        for line in f: # Following lines contain row label and distances\n",
    "            entries = line.split()\n",
    "            r = entries[0] # row label\n",
    "            dist[r]={}\n",
    "            for c,v in zip(cols,entries[1:]): # pair column label with distance entry \n",
    "                if r!=c: # Diagonal entries are discarded\n",
    "                    dist[r][c] = float(v)\n",
    "    return dist\n"
   ]
  },
  {
   "cell_type": "code",
   "execution_count": 3,
   "metadata": {},
   "outputs": [],
   "source": [
    "### Ex. 2\n",
    "def count_leaves(node):\n",
    "    \"\"\" Count the number of elementary objects in a nested tuple\n",
    "    \"\"\"\n",
    "    if isinstance(node,tuple):\n",
    "        count = 0\n",
    "        for child in node:\n",
    "            count += count_leaves(child)\n",
    "        return count\n",
    "    else:\n",
    "        return 1\n",
    "\n",
    "def count_leaves_alt(node):\n",
    "        return sum(count_leaves(child) for child in node) if isinstance(node,tuple) else 1\n"
   ]
  },
  {
   "cell_type": "code",
   "execution_count": 4,
   "metadata": {},
   "outputs": [],
   "source": [
    "### Ex. 3\n",
    "def merge(dist,a,b):\n",
    "    \"\"\" Merge clusters a and b upadting the distance matrix dist\n",
    "        The new cluster ist returned.\n",
    "    \"\"\"\n",
    "    n = count_leaves(a)\n",
    "    m = count_leaves(b)\n",
    "    c = (a,b) # merged cluster\n",
    "    dist[c] = {} # determine distances to merged cluster\n",
    "    for k in dist.keys():\n",
    "        if k==a or k==b or k==c: # these distances are not required\n",
    "            continue\n",
    "        nd = (dist[k][a]*n+dist[k][b]*m)/(n+m)\n",
    "        dist[c][k] = nd\n",
    "        dist[k][c] = nd\n",
    "    # remove obsolete clusters from distance matrix\n",
    "    del dist[a]\n",
    "    del dist[b]\n",
    "    for k in dist.keys():\n",
    "        if k!=c:\n",
    "            del dist[k][a]\n",
    "            del dist[k][b]\n",
    "    return c"
   ]
  },
  {
   "cell_type": "code",
   "execution_count": 5,
   "metadata": {},
   "outputs": [],
   "source": [
    "### Ex. 4\n",
    "def find_min(dist):\n",
    "    \"\"\" The the two clusters closest together according to the distance matrix dist\n",
    "    \"\"\"\n",
    "    minval=1e99\n",
    "    minpair=()\n",
    "    for a in dist:\n",
    "        for b in dist[a]:\n",
    "            if dist[a][b]<minval:\n",
    "                minval=dist[a][b]\n",
    "                minpair=(a,b)\n",
    "    return minpair\n",
    "\n",
    "def find_min_alt(dist):\n",
    "    return min(((a,b) for a in dist for b in dist[a]),key=lambda x: dist[x[0]][x[1]])\n"
   ]
  },
  {
   "cell_type": "code",
   "execution_count": 6,
   "metadata": {},
   "outputs": [],
   "source": [
    "### Ex. 5\n",
    "def cluster(dist):\n",
    "    \"\"\" Hierarchically cluster objects, given by the keys of the dstance matrox\n",
    "       according to their distances\n",
    "    \"\"\"\n",
    "    height={}\n",
    "    for k in dist:\n",
    "        height[k] = 0\n",
    "    while len(dist)>1:\n",
    "        a,b = find_min(dist)\n",
    "        c = (a,b)\n",
    "        height[c] = dist[a][b]/2\n",
    "        merge(dist,a,b)\n",
    "    return c,height\n"
   ]
  },
  {
   "cell_type": "code",
   "execution_count": 7,
   "metadata": {},
   "outputs": [],
   "source": [
    "### Ex. 7\n",
    "### Displaying the tree using matplotlib\n",
    "import matplotlib.pyplot as plt\n",
    "\n",
    "def getDepth(node):\n",
    "    if isinstance(node,tuple):\n",
    "        return max(getDepth(node[0]),getDepth(node[1]))+1\n",
    "    else:\n",
    "        return 0\n",
    "### Recursive helper function\n",
    "def showtree_rec(node,offset,depth,height=None):\n",
    "    if not isinstance(node,tuple):\n",
    "        x = offset\n",
    "        y = height[node] if height else depth\n",
    "        plt.plot([x,x],[0,y],'k')\n",
    "        plt.text(x,0,node)\n",
    "        return x,y,1\n",
    "    else:\n",
    "        xl,yl,nl = showtree_rec(node[0],offset,depth-1,height)\n",
    "        xr,yr,nr = showtree_rec(node[1],offset+nl,depth-1,height)\n",
    "        y = height[node] if height else depth\n",
    "        plt.plot([xl,xl],[yl,y],'k')\n",
    "        plt.plot([xr,xr],[yr,y],'k')\n",
    "        plt.plot([xl,xr],[y,y],'k')\n",
    "        return (xl+xr)/2,y,nl+nr\n",
    "\n",
    "def showtree(node,height=None):\n",
    "    showtree_rec(node,0,getDepth(node),height)\n",
    "    axes = plt.gca()\n",
    "    lim = axes.get_ylim()\n",
    "    delta=(lim[1]-lim[0])*0.05\n",
    "    axes.set_ylim(lim[0]-delta,lim[1]+delta)\n",
    "    lim = axes.get_xlim()\n",
    "    delta=(lim[1]-lim[0])*0.05\n",
    "    axes.set_xlim(lim[0]-delta,lim[1]+delta)\n",
    "    #plt.axis('off')\n",
    "    plt.show()\n"
   ]
  },
  {
   "cell_type": "code",
   "execution_count": 8,
   "metadata": {},
   "outputs": [],
   "source": [
    "### Ex. 7\n",
    "# Displaying the tree as ascii art\n",
    "### Recursive helper function\n",
    "def asciitree_rec(node):\n",
    "    \"\"\" Create an ASCII tree representation of nested tuple node\n",
    "        Returns a tuple of\n",
    "        - List of strings containing ASCII art\n",
    "        - Number of spaces left of the vertcal beam of the root node\n",
    "        - Number of spaces right of the vertcal beam of the root node\n",
    "    \"\"\"\n",
    "    \n",
    "    if not isinstance(node,tuple):\n",
    "        # A terminal node consists of a veritcal  beam and the node label\n",
    "        return ['|',node],0,0\n",
    "    else:\n",
    "        # Get ASCII art for the left child\n",
    "        left,left_left,left_right= asciitree_rec(node[0])\n",
    "        # Get ASCII art for the right child\n",
    "        right,right_left,right_right = asciitree_rec(node[1])\n",
    "        # Total width of left subtree\n",
    "        lr_left = left_left+1+left_right+1\n",
    "        # Total width of right subtree\n",
    "        lr_right = right_left+1+right_right+1\n",
    "        \n",
    "        # Construct the horizontal bar joining the vertical beams\n",
    "        horizontal_bar=' '*left_left+'/'+'-'*left_right+'-+-'+'-'*right_left+'\\\\'\n",
    "        # At vertical beam for root node\n",
    "        vert_bar=' '*lr_left+'|'\n",
    "        # Construct combined ASCII art\n",
    "        # ... root node and joining horizontal bar\n",
    "        joined = [vert_bar,horizontal_bar]\n",
    "        l_format=\"{:<%d}\"%lr_left # Each line of the left tree needs to be lr_left wide\n",
    "        # Both trees might have different depth\n",
    "        # The first line represnting the veritcal bar is copied for a subtree if necessary\n",
    "        # so both trees have the same depth\n",
    "        max_depth=max(len(left),len(right))\n",
    "        for l,r in zip([left[0]]*(max_depth-len(left))+left,[right[0]]*(max_depth-len(right))+right):\n",
    "            lr = l_format.format(l)+\"  \"+r\n",
    "            joined.append(lr)\n",
    "        return joined,lr_left,lr_right\n",
    "            \n",
    "    \n",
    "def asciitree(node):\n",
    "    rv,_,_ = asciitree_rec(node)\n",
    "    for s in rv:\n",
    "        print(s)\n"
   ]
  },
  {
   "cell_type": "code",
   "execution_count": 9,
   "metadata": {},
   "outputs": [],
   "source": [
    "dist=read_matrix(\"distances.txt\")\n",
    "c,height = cluster(dist)"
   ]
  },
  {
   "cell_type": "code",
   "execution_count": 10,
   "metadata": {},
   "outputs": [
    {
     "name": "stdout",
     "output_type": "stream",
     "text": [
      "  |\n",
      "/-+---------------------------\\\n",
      "|                             |\n",
      "|                 /-----------+-------\\\n",
      "|                 |                   |\n",
      "|         /-------+---\\           /---+---\\\n",
      "|         |           |           |       |\n",
      "|     /---+---\\     /-+---\\       |     /-+---\\\n",
      "|     |       |     |     |       |     |     |\n",
      "|   /-+-\\   /-+-\\   |   /-+-\\   /-+-\\   |   /-+-\\\n",
      "|   |   |   |   |   |   |   |   |   |   |   |   |\n",
      "M   A   K   B   L   J   E   G   C   H   D   F   I\n"
     ]
    }
   ],
   "source": [
    "asciitree(c)"
   ]
  },
  {
   "cell_type": "code",
   "execution_count": 11,
   "metadata": {},
   "outputs": [
    {
     "data": {
      "image/png": "[encoded data removed]",
      "text/plain": [
       "<Figure size 432x288 with 1 Axes>"
      ]
     },
     "metadata": {
      "needs_background": "light"
     },
     "output_type": "display_data"
    }
   ],
   "source": [
    "showtree(c,height)"
   ]
  },
  {
   "cell_type": "code",
   "execution_count": 12,
   "metadata": {},
   "outputs": [],
   "source": [
    "### Ex.6\n",
    "### Object oriented approach - Class definitions\n",
    "\n",
    "class TreeCluster: # Base class\n",
    "    def __init__(self,height):\n",
    "        self._height = height \n",
    "        pass\n",
    "    \n",
    "    def depth(self):\n",
    "        if isinstance(self,TerminalNode):\n",
    "            return 0\n",
    "        elif isinstance(self,InnerNode):\n",
    "            return max(self._left.depth(),self._right.depth())+1\n",
    "        else:\n",
    "            raise Exception(\"Illegal node type\")\n",
    "    \n",
    "    def size(self):\n",
    "        if isinstance(self,TerminalNode):\n",
    "            return 1\n",
    "        elif isinstance(self,InnerNode):\n",
    "            return self._left.size() + self._right.size()\n",
    "        else:\n",
    "            raise Exception(\"Illegal node type\")\n",
    "            \n",
    "    def toTuple(self):\n",
    "        if isinstance(self,TerminalNode):\n",
    "            return self._label\n",
    "        elif isinstance(self,InnerNode):\n",
    "            return (self._left.toTuple(), self._right.toTuple())\n",
    "        else:\n",
    "            raise Exception(\"Illegal node type\")\n",
    "    \n",
    "    def plot_tree(self,axes):\n",
    "        self._plot_tree_rec(axes,0)\n",
    "        lim = axes.get_ylim()\n",
    "        delta=(lim[1]-lim[0])*0.05\n",
    "        axes.set_ylim(lim[0]-delta,lim[1]+delta)\n",
    "        lim = axes.get_xlim()\n",
    "        delta=(lim[1]-lim[0])*0.05\n",
    "        axes.set_xlim(lim[0]-delta,lim[1]+delta)\n",
    "        \n",
    "\n",
    "\n",
    "class TerminalNode(TreeCluster):\n",
    "    \n",
    "    def __init__(self,label):\n",
    "        TreeCluster.__init__(self, 0)\n",
    "        self._label = label\n",
    "        \n",
    "    def label(self):\n",
    "        return self._label\n",
    "    \n",
    "    def _plot_tree_rec(self,axes,offset):\n",
    "        x = offset\n",
    "        y = self._height\n",
    "        axes.plot([x,x],[0,y],'k')\n",
    "        axes.text(x,0,self._label)\n",
    "        return x,y,1\n",
    "\n",
    "    def __eq__(self, other):\n",
    "        return isinstance(other, self.__class__) and self._label == other._label\n",
    "    \n",
    "    def __hash__(self):\n",
    "        return hash(self._label)\n",
    "    \n",
    "    def __repr__(self):\n",
    "        return 'TerminalNode({})'.format(self._label)\n",
    "    \n",
    "class InnerNode(TreeCluster):\n",
    "    \n",
    "    def __init__(self,left,right,height):\n",
    "        TreeCluster.__init__(self, height)\n",
    "        assert isinstance(left,TreeCluster), \"Left child of a InnerNode has to be a TreeCluster\"\n",
    "        assert isinstance(right,TreeCluster), \"Right child of a InnerNode has to be a TreeCluster\"\n",
    "        self._left = left\n",
    "        self._right = right\n",
    "    \n",
    "    def _plot_tree_rec(self,axes,offset):\n",
    "        xl,yl,nl = self._left._plot_tree_rec(axes,offset)\n",
    "        xr,yr,nr = self._right._plot_tree_rec(axes,offset+nl)\n",
    "        y = self._height\n",
    "        axes.plot([xl,xl],[yl,y],'k')\n",
    "        axes.plot([xr,xr],[yr,y],'k')\n",
    "        axes.plot([xl,xr],[y,y],'k')\n",
    "        return (xl+xr)/2,y,nl+nr\n",
    "\n",
    "    def __eq__(self, other):\n",
    "        return isinstance(other, self.__class__) and self._left == other._left and self._right == other._right\n",
    "    \n",
    "    def __hash__(self):\n",
    "        return hash((hash(self._left), hash(self._right)))\n",
    "\n",
    "    def __repr__(self):\n",
    "        return 'InnerNode({},{},{})'.format(self._left,self._right,self._height)\n"
   ]
  },
  {
   "cell_type": "code",
   "execution_count": 13,
   "metadata": {},
   "outputs": [],
   "source": [
    "### Ex.6 - Object oriented approach\n",
    "\n",
    "def read_matrix_tree(fname):\n",
    "    dist={}\n",
    "    with open(fname,) as f:\n",
    "        cols = next(f).split()\n",
    "        cols = [TerminalNode(n) for n in cols]\n",
    "        for line in f:\n",
    "            entries = line.split()\n",
    "            r = TerminalNode(entries[0])\n",
    "            dist[r]={}\n",
    "            for c,v in zip(cols,entries[1:]):\n",
    "                if r!=c:\n",
    "                    dist[r][c] = float(v)\n",
    "    return dist\n",
    "\n",
    "def merge_tree(dist,a,b,height):\n",
    "    n = a.size()\n",
    "    m = b.size()\n",
    "    c = InnerNode(a,b,height)\n",
    "    dist[c] = {}\n",
    "    for k in dist.keys():\n",
    "        if k==a or k==b or k==c:\n",
    "            continue\n",
    "        nd = (dist[k][a]*n+dist[k][b]*m)/(n+m)\n",
    "        dist[c][k] = nd\n",
    "        dist[k][c] = nd\n",
    "    del dist[a]\n",
    "    del dist[b]\n",
    "    for k in dist.keys():\n",
    "        if k!=c:\n",
    "            del dist[k][a]\n",
    "            del dist[k][b]\n",
    "    return c\n",
    "\n",
    "def cluster_tree(dist):\n",
    "    while len(dist)>1:\n",
    "        a,b = find_min(dist) # find_min from tuple approach\n",
    "        height = dist[a][b]/2\n",
    "        c = merge_tree(dist,a,b,height)\n",
    "    return c\n"
   ]
  },
  {
   "cell_type": "code",
   "execution_count": 14,
   "metadata": {},
   "outputs": [],
   "source": [
    "a=read_matrix_tree(\"distances.txt\")\n",
    "cluster_tree=cluster_tree(a)\n"
   ]
  },
  {
   "cell_type": "code",
   "execution_count": 15,
   "metadata": {},
   "outputs": [
    {
     "data": {
      "image/png": "[encoded data removed]",
      "text/plain": [
       "<Figure size 432x288 with 1 Axes>"
      ]
     },
     "metadata": {
      "needs_background": "light"
     },
     "output_type": "display_data"
    }
   ],
   "source": [
    "import matplotlib.pyplot as plt\n",
    "axes=plt.gca()\n",
    "cluster_tree.plot_tree(axes)"
   ]
  }
 ],
 "metadata": {
  "kernelspec": {
   "display_name": "Python 3",
   "language": "python",
   "name": "python3"
  },
  "language_info": {
   "codemirror_mode": {
    "name": "ipython",
    "version": 3
   },
   "file_extension": ".py",
   "mimetype": "text/x-python",
   "name": "python",
   "nbconvert_exporter": "python",
   "pygments_lexer": "ipython3",
   "version": "3.7.0"
  }
 },
 "nbformat": 4,
 "nbformat_minor": 2
}
