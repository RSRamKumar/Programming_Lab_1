{
 "cells": [
  {
   "cell_type": "code",
   "execution_count": null,
   "metadata": {},
   "outputs": [],
   "source": [
    "# Set this to folder containing the proteome fasta files (*.faa)\n",
    "folder =r\"..\\handout 07\"\n"
   ]
  },
  {
   "cell_type": "code",
   "execution_count": 1,
   "metadata": {},
   "outputs": [],
   "source": [
    "def fasta_sequences(filename):\n",
    "    header=None\n",
    "    with open(filename) as infile:\n",
    "        for line in infile:\n",
    "            line = line.strip()\n",
    "            if line.startswith('>'):\n",
    "                if header!=None: # make sure header is valid\n",
    "                    yield header,''.join(seq_acc)\n",
    "                header = line[1:]\n",
    "                seq_acc=[]\n",
    "            else:\n",
    "                seq_acc.append(line)\n",
    "        if header:\n",
    "            yield header,''.join(seq_acc) # last sequence\n"
   ]
  },
  {
   "cell_type": "markdown",
   "metadata": {},
   "source": [
    "# Exercise 1"
   ]
  },
  {
   "cell_type": "markdown",
   "metadata": {},
   "source": [
    "## (a)"
   ]
  },
  {
   "cell_type": "code",
   "execution_count": 2,
   "metadata": {},
   "outputs": [],
   "source": [
    "def single_read_locations(single_read,sequence):\n",
    "    idx=0\n",
    "    read_locations=[]\n",
    "    idx=sequence.find(single_read)\n",
    "    while idx>=0:\n",
    "        read_locations.append(idx)\n",
    "        idx=sequence.find(single_read,idx+1)\n",
    "    return read_locations\n",
    "    \n",
    "def map_reads_naive(reads,sequence):\n",
    "    all_locations={}\n",
    "    for single_read in reads:\n",
    "        locations = single_read_locations(single_read,sequence)\n",
    "        if locations: all_locations[single_read] = locations\n",
    "    return all_locations\n",
    "\n",
    "import re\n",
    "\n",
    "def map_reads_re(reads,sequence):\n",
    "    all_locations={}\n",
    "    for single_read in reads:\n",
    "        locations = [m.start() for m in re.finditer(single_read,sequence)]\n",
    "        if locations: all_locations[single_read] = locations\n",
    "    return all_locations\n"
   ]
  },
  {
   "cell_type": "code",
   "execution_count": 3,
   "metadata": {},
   "outputs": [],
   "source": [
    "seq=\"abracadabra\"\n",
    "reads = \"a bra cada arba\".split()"
   ]
  },
  {
   "cell_type": "code",
   "execution_count": 4,
   "metadata": {},
   "outputs": [
    {
     "data": {
      "text/plain": [
       "{'a': [0, 3, 5, 7, 10], 'bra': [1, 8], 'cada': [4]}"
      ]
     },
     "execution_count": 4,
     "metadata": {},
     "output_type": "execute_result"
    }
   ],
   "source": [
    "map_reads_naive(reads,seq)"
   ]
  },
  {
   "cell_type": "code",
   "execution_count": 5,
   "metadata": {},
   "outputs": [
    {
     "data": {
      "text/plain": [
       "{'a': [0, 3, 5, 7, 10], 'bra': [1, 8], 'cada': [4]}"
      ]
     },
     "execution_count": 5,
     "metadata": {},
     "output_type": "execute_result"
    }
   ],
   "source": [
    "map_reads_re(reads,seq)"
   ]
  },
  {
   "cell_type": "markdown",
   "metadata": {},
   "source": [
    "## (b)"
   ]
  },
  {
   "cell_type": "code",
   "execution_count": 6,
   "metadata": {},
   "outputs": [],
   "source": [
    "import os\n",
    "from glob import glob\n",
    "\n",
    "filenames = glob(os.path.join(folder,\"*.faa\"))+glob(os.path.join(folder,r\"drosophila\\*.faa\"))\n",
    "word_list = [word.strip().upper() for word in open(os.path.join(folder,\"words.txt\")) if len(word)>=5]"
   ]
  },
  {
   "cell_type": "code",
   "execution_count": 7,
   "metadata": {},
   "outputs": [],
   "source": [
    "from operator import itemgetter\n",
    "\n",
    "def find_longest_most_word_naive(seq):\n",
    "    locations = map_reads_naive(word_list,seq)\n",
    "    return max(locations,key=len,default=\"\"), locations\n",
    "\n",
    "def find_longest_most_in_proteome_naive(proteome_file):\n",
    "    result = [(find_longest_most_word_naive(seq),hd) for hd,seq in fasta_sequences(proteome_file)]\n",
    "    return (max(map(lambda x: (x[0][0],x[1]),result),key=lambda x: len(x[0]),default=(\"\",\"\")),\n",
    "            max(map(lambda x: (x[0][1],x[1]),result),key=lambda x: len(x[0]),default=(0,\"\")))\n",
    "\n",
    "def find_longest_most_in_proteome_files_naive(file_list):\n",
    "    for proteome_file in file_list:\n",
    "        longest,most = find_longest_most_in_proteome_naive(proteome_file)\n",
    "        print(\"The longest word in '{}' is:\".format(os.path.basename(proteome_file)))\n",
    "        print(\"'{}' in protein '{}'\".format(*longest))\n",
    "        \n",
    "        print(\"The most unique words, namely {}, are found in '{}'\".format(len(most[0]),most[1]))\n",
    "        print(\" \".join(most[0].keys()))"
   ]
  },
  {
   "cell_type": "code",
   "execution_count": 8,
   "metadata": {},
   "outputs": [
    {
     "name": "stdout",
     "output_type": "stream",
     "text": [
      "The longest word in 'ecoli-proteome.faa' is:\n",
      "'RALLIERS' in protein 'gi|90111683|ref|NP_418505.2| membrane translocase (MDR) of MdtNOP efflux pump, PET family [Escherichia coli str. K-12 substr. MG1655]'\n",
      "The most unique words, namely 46, are found in 'gi|16128891|ref|NP_415444.1| chromosome condensin MukBEF, ATPase and DNA-binding subunit [Escherichia coli str. K-12 substr. MG1655]'\n",
      "ADDS AIVER ALAE ALEF ALGA ALGAL AREA AREAL ARES ARIA ARIAS DELE EFTS ELKS FART FIGS GALS GATS KALE KIER LADY LAVA LEAD LEADY LEAL LEAR MARE NEAR PENIS PENS PERK RADS RAKE RARE REAL RELAY SEAL SEAT SERF SLED SNARE SWEDE SWEDES TALI TINS VAIN\n",
      "The longest word in 'chr2L.faa' is:\n",
      "'LACTEALS' in protein 'gi|24585071|ref|NP_609917.2| short spindle 3 [Drosophila melanogaster]'\n",
      "The most unique words, namely 253, are found in 'gi|320544542|ref|NP_001188694.1| Muscle-specific protein 300, isoform D [Drosophila melanogaster]'\n",
      "AGEE AGER AINE AIRS ALAE ALAS ALEE ALES ALGA ALINE ALTS ANTA ARIL ARKS ARSE AVES CELL CLAW CRAM DADA DADS DAKS DARN DAWT DAYS DEAD DEAN DEIL DELE DELF DELL DELS DIEL DIES DINE DING DINS DISH DISK DIVA DIVE DRAT DYER EAGER EARL EARN EELS EGER EGIS EIDE EKES ELLS ELSE EPEE ERNS EVES EWES EYED EYER FADGE FEDS FENS FETE FETS FLASK FLEA GAES GAGA GAGS GALS GELD GELS GHEE GILD GIRN GLEN GRIG HAET HALE HALL HEAL HERD HIES HIKE INKY ISLE KADI KALE KAVA KELP KIEF KIND KINE KINK KINKY KIRK KIST KNEE KRAAL LADE LADS LAKE LAMS LARS LASE LASS LAST LASTS LATH LATI LEAD LEAF LEAS LEER LEGER LEND LETS LIAR LIED LIES LINE LINS LIRA LIST LIVE LYSE MADS MAIL MERL META METATE MEWL NEAP NEED NETT NIDI NIPA PADS PAIR PALL PALS PARS PASS PATE PATER PATS PAVE PEAG PEAGS PEAR PEDS PEEP PEER PEES PEEVE PEKE PELE PERE PETS PIES PIGS PILE PILI PILIS PIRN PLIE PLIES RAKE RALE RAPE RARE RATE RATEL RATS RAVE RAVEL REAL REAP REDIA REDIAS REES REIN REMS RETS RIAL RIFT RILE RIPS RIVE RYES SAGE SAIN SALE SALES SAND SAPS SEAL SEAR SEAT SEDER SEEK SELL SELS SEPT SERF SERS SHED SILT SITE SITI SLED SLID SNIP SNIT SPED SPIV SPIVS STATE STEEK STEEP SWIG SWINE TAIN TAKE TALE TAPA TAPAS TATE TATS TEAL TEAS TEEN TELL TETH TIER TIES TITS TREK TYEE VARA VARAS VEEP VEEPEE VELA VERY VETS VIDE VILL VIVE WADY WEKA WINE WINS\n",
      "The longest word in 'chr2R.faa' is:\n",
      "'APLASIAS' in protein 'gi|221330379|ref|NP_001137696.1| olf186-F, isoform E [Drosophila melanogaster]'\n",
      "The most unique words, namely 217, are found in 'gi|24653497|ref|NP_725339.1| short stop, isoform H [Drosophila melanogaster]'\n",
      "ADDS AGES AGHA AGHAS AIDE AIDES AINS AIRY AKIN ALAN ALANT ALES ALGA ALGAL AMEN ANDS ANEW APSE AREA AREAL ARIA AVER AWLS AYES CEIL DAIS DAKS DAME DANK DATE DAVY DAWS DEAF DEAL DEER DEIL DEIST DELL DESK DEVS DICK DYER DYKE EARN EAST EAVE EGAL EGGS ELLS ELVES ENDS ERAS EVES EVIL FADS FILA FLAIL FLAM FLAW FREMD GALA GALL GELS GERM GIEN GILD GIRD GLAD GLED GLEG GRIG HALL HATE HEAL HELD HIED HISN HIVE IDES ISLE KALE KALES KAME KANE KARN KAVA KEAS KEEL KELP KEPI KEPS KEPT KHAT KHIS KILN KIND KINE KISS KITE KNAP KRIS LAIN LANAI LAND LAPS LAPSE LAST LEAS LEET LEKS LENS LENT LEVA LEVEL LIAR LIED LIKE LIKER LINK LIRE LISP LIST MARE MENTA MIRS NARK NARY NETS NISI PADS PARK PEEL PELE PICK PIKA PISS PLAIN PSST PYAS RACK RAGS RAKE READ REAL REAM REEF REEL REES REEST REIS REMS RETS RIFT SAFE SAFER SAGS SAID SALP SAMP SAND SANDS SARK SEES SELS SENT SEPIA SIDE SIPE SIRE SITE SKEP SKEPS SKIT SKITE SLAG SLIT SPAE SPAR SPARK SPIK STAG STAR STEEL TAGS TAME TASK TASS TATE TATS TAVS TEAL TEAR TEAS TEEM TERAI TIES TITI TREK TRET VAVS VEAL VEEP VEER VEES VELA VERA VEST VESTS VISE VIVE WAIN WAWL WEAL WINK YELD YELL YELLS\n",
      "The longest word in 'chr3L.faa' is:\n",
      "'FELSPARS' in protein 'gi|28574909|ref|NP_648674.2| CG17364, isoform A [Drosophila melanogaster]'\n",
      "The most unique words, namely 310, are found in 'gi|386770344|ref|NP_001246553.1| sallimus, isoform F [Drosophila melanogaster]'\n",
      "ADDS AEDES AIDE AIDS AILS AINE AINEE AINS AITS AKEE ALEVIN ALFA ANIL ANILS ANTE APED APEEK APES ARAK ASKS AVES AYES CASK CASKS CITE CRAAL CRAW DALE DASH DATA DEAR DEED DEEP DELE DELI DELVE DENT DEVA DEVS DEYS DIDST DILL DIMS DIPS DIRE DISH DISK DITA DIVE EAGLE EARL EASE EATS EAVE EAVED EDGE EDHS EDIT EIDE EKED ELAN ELSE EMES EPEE EPHA EVADE EVADER EVITE EVITED FADE FEAR FECK FEET FETE FIRM FITS FITTED FRET GASES GEAR GEDS GEED GELS GENIE GHEE GIFT GLAD GLADY GRIP GRIPE HAED HALT HEED HEEL HIVE IDES ILKA IRKED ISMS KAFIR KAPH KATS KEAS KEEF KEEK KEEP KEET KELP KELPS KEPI KEPIS KIDS KIEF KIER KIRK KISS KITE KITS KIVA KLIEG KNAR KRIS LADY LAID LAIN LASS LATI LATS LAVE LAYS LEAF LEAL LEAN LEAP LEAR LEAS LEASH LEEK LEET LEGES LEIS LESS LEST LETS LEVIN LEYS LIED LIEN LIES LINE LING LINK LIRE LIVE LIVES MEAT MILD MIRI NEAT NILS NITRE NITS PAGE PALE PALET PAPS PARD PASS PASSE PASSEL PAST PASTE PATE PAYS PEAK PEDS PEED PEEK PEEP PEEPS PEER PEES PEGS PEKE PELE PELT PERK PERKS PIED PIER PILE PIPE PIPED PIPS PITA PITAS PITY PLAT PLEA PLEAS PREP PRIG PYES RAIL RAILS RAIN RALE RASE RATS REDS REEL REES REGEAR REGES REVS RIPE RITE RIVE RIVET RIVETS SAKI SALT SAPS SAVE SAVES SEAS SEED SEEK SEEL SEEP SEEPY SEES SEIS SEISE SEMI SEPT SERE SHEA SHIRK SHIRKED SIDE SIKE SILK SILT SING SINS SIPE SKELP SKELPS SKIP SKIS SKIVE SLAT SNED SPED SPIT STAPH STEEL STEEP STYE SYNE TADS TAEL TAIL TALK TANK TARN TASS TATE TEAT TEED TELE TEPEE THEE TIDE TIED TILDE TILE TILL TINE TITI TRAD TREE TYEE VALE VATS VAVS VEEP VEEPEE VEER VEES VERA VEST VETS VIAL VIALED VIDE VIED VIEW VIEWY VILE VIRL VISE VIVE WAGS YARD YARDS YARN YEAR YELK\n",
      "The longest word in 'chr3R.faa' is:\n",
      "'INVITERS' in protein 'gi|281361577|ref|NP_001014616.2| dpr4, isoform B [Drosophila melanogaster]'\n",
      "The most unique words, namely 120, are found in 'gi|221459933|ref|NP_001036762.2| CG3339, isoform C [Drosophila melanogaster]'\n",
      "AGAS AGER AGMA AIMS AKIN ALES AMAS AMASS APSE ASIDE CAMP DALE DELF DELI DELL DILL DYKE DYKER ELKS ELLS FARL FIAR FIGS FILS FIRE FITLY FLEA FLEY GAGA GALE GALES GALL GELS GELT GIRN GLEE HECK HEED ILIA IMID ISLE ITEM IWIS KAKI KALE KAYS KEIR KEIRS KIER KILT KILTER KIWI KIWIS LACK LANE LARK LASS LEAK LEAL LEAR LEGS LEKS LENT LESS LEVA LICE LIER LIRE LIST MALE MARL MASS MERL NAPS NARY PALS PASS PEES PELF PERE PIAN PLAN PREE PRESE RAGI READ REAM REAR REEL REIF REST RIDE RILE RILES SADI SALE SALES SALS SARK SEEL SELS SHEA SIDE SIPS STAG SYNE TAGS TALI TALK TALL TARE TICS TILS TIRL VAGI VAVS VERY VIES WHAT YAPS\n",
      "The longest word in 'chrX.faa' is:\n",
      "'SPITTERS' in protein 'gi|24639790|ref|NP_525076.2| protein tyrosine phosphatase 4E, isoform A [Drosophila melanogaster]'\n",
      "The most unique words, namely 126, are found in 'gi|24642256|ref|NP_573059.1| CG8184 [Drosophila melanogaster]'\n",
      "AGAS AGER AIDS AILS AITS ALAE ALEE ALPS ANTE ARIL ARILS ARSIS ASKS ASSAI ATES AVID CARL DATE DEAR DEARS DEED DEER DEERS DELI DELIS DIAL DIED DIGIT DIVA EARS EATS ELIDE ENDER ERNE ESSES ETAS FEDS FLIC FLICS GAES GAGA GAGS GANG GARS GAST GASTS GATS GEST HAED HASH HYPS IRIS KAIL KAILS LADS LAKH LALL LATS LEAP LEES LIES LIKE LINT NAGS NAYS NEED NEEDED NIDI NILL PADS PATTEE PEAR PEAS PERE PRAM RAGA RAGS RANK REES REIF RIND SAGS SALINA SAME SASS SEAS SELL SENSA SETA SHED SHES SLAP SLAT SNAG SNIT SPAS STAG STAGS STET STILL STRAY TAGS TAMS TASS TATE TATS TEEN TELE TELL TEND TENDER TEST TILL TRAY TREE TREES TSKS VALE VARA VASA VAST VEER VEERS WEST WHIP WHIPT\n",
      "Wall time: 34min 47s\n"
     ]
    }
   ],
   "source": [
    "%time find_longest_most_in_proteome_files_naive(filenames)"
   ]
  },
  {
   "cell_type": "markdown",
   "metadata": {},
   "source": [
    "# Exercise 2"
   ]
  },
  {
   "cell_type": "markdown",
   "metadata": {},
   "source": [
    "## (a)"
   ]
  },
  {
   "cell_type": "code",
   "execution_count": 9,
   "metadata": {},
   "outputs": [],
   "source": [
    "import random\n",
    "\n",
    "def generate_random_data(genome_size,nr_of_reads,read_length=None,seed=4711):\n",
    "    genome_size=int(genome_size)\n",
    "    nr_of_reads = int(nr_of_reads)\n",
    "    alphabet= \"ACGT\"\n",
    "    rng = random.Random(seed)\n",
    "    rng.seed(seed)\n",
    "    sequence = ''.join(rng.choices(alphabet,k=genome_size))\n",
    "    if read_length==None: # If no length is given choose a reasonable random length\n",
    "        read_length = int(math.log(sequence_size)/math.log(len(alphabet))+1)\n",
    "        reads = [\"\".join(rng.choices(alphabet,k=read_length)) for _ in range(nr_of_reads)]\n",
    "    else:\n",
    "        reads=[]\n",
    "        reads = [sequence[idx:idx+read_length] \n",
    "                    for idx in (rng.randint(0,genome_size-read_length) for _ in range(nr_of_reads))]\n",
    "    return sequence,reads\n"
   ]
  },
  {
   "cell_type": "code",
   "execution_count": 10,
   "metadata": {},
   "outputs": [],
   "source": [
    "def generate_random_data_alt(genome_size,nr_of_reads,read_length,seed=4711):\n",
    "    genome_size=int(genome_size)\n",
    "    nr_of_reads = int(nr_of_reads)\n",
    "    alphabet= \"acgt\"\n",
    "    random.seed(seed)\n",
    "    sequence = ''.join(random.choices(alphabet,k=genome_size))\n",
    "    reads=[]\n",
    "    reads = [sequence[idx:idx+read_length] \n",
    "                for idx in (random.randint(0,genome_size-read_length) for _ in range(nr_of_reads))]\n",
    "    return sequence,reads"
   ]
  },
  {
   "cell_type": "markdown",
   "metadata": {},
   "source": [
    "## (b)"
   ]
  },
  {
   "cell_type": "code",
   "execution_count": 11,
   "metadata": {},
   "outputs": [],
   "source": [
    "import time\n",
    "def time_fct(fct):\n",
    "    start=time.perf_counter()\n",
    "    fct()\n",
    "    elapsed=time.perf_counter()-start\n",
    "    return elapsed"
   ]
  },
  {
   "cell_type": "code",
   "execution_count": 12,
   "metadata": {},
   "outputs": [],
   "source": [
    "#seed = \"Holy Hand Grenade of Antioch\"\n",
    "titles=[\"set i.\",\"set ii.\", \"set iii.\"]\n",
    "genome_sizes = [10**6,10**6,10**7]\n",
    "number_of_reads = [10**4,10**5,10**4]\n",
    "read_lengths = [10,11,12]\n"
   ]
  },
  {
   "cell_type": "code",
   "execution_count": 13,
   "metadata": {},
   "outputs": [
    {
     "name": "stdout",
     "output_type": "stream",
     "text": [
      "For 'set i.' map reads took 22.4 seconds\n",
      "For 'set ii.' map reads took 227.8 seconds\n",
      "For 'set iii.' map reads took 236.5 seconds\n"
     ]
    }
   ],
   "source": [
    "for tt,gs,nr,rl in zip(titles,genome_sizes,number_of_reads,read_lengths):\n",
    "    seq,reads = generate_random_data(gs,nr,rl,tt)\n",
    "    elapsed = time_fct(lambda : map_reads_naive(reads,seq))\n",
    "    print(\"For '{}' map reads took {:.1f} seconds\".format(tt,elapsed))"
   ]
  },
  {
   "cell_type": "markdown",
   "metadata": {},
   "source": [
    "# Exercise 3"
   ]
  },
  {
   "cell_type": "code",
   "execution_count": 14,
   "metadata": {},
   "outputs": [],
   "source": [
    "from collections import defaultdict\n",
    "\n",
    "def map_reads_lookup(reads,sequence,lookup_length):\n",
    "    lookup=defaultdict(list)\n",
    "    for i in range(len(sequence)-lookup_length+1):\n",
    "        lookup[sequence[i:i+lookup_length]].append(i)\n",
    "    all_locations=defaultdict(list)\n",
    "    for single_read in reads:\n",
    "        read_prefix = single_read[:lookup_length]\n",
    "        read_suffix = single_read[lookup_length:]\n",
    "        srl=len(single_read)\n",
    "        if read_prefix in lookup:\n",
    "            for idx in lookup[read_prefix]:\n",
    "                if read_suffix==sequence[idx+lookup_length:idx+srl]:\n",
    "                    all_locations[single_read].append(idx)\n",
    "    return all_locations"
   ]
  },
  {
   "cell_type": "code",
   "execution_count": 15,
   "metadata": {},
   "outputs": [
    {
     "name": "stdout",
     "output_type": "stream",
     "text": [
      "\n",
      "Lookup length 4\n",
      "For 'set i.' map reads took 8.4 seconds\n",
      "For 'set ii.' map reads took 81.4 seconds\n",
      "For 'set iii.' map reads took 90.1 seconds\n",
      "\n",
      "Lookup length 8\n",
      "For 'set i.' map reads took 0.4 seconds\n",
      "For 'set ii.' map reads took 0.8 seconds\n",
      "For 'set iii.' map reads took 4.1 seconds\n"
     ]
    }
   ],
   "source": [
    "for lookup_length in [4,8]:\n",
    "    print(\"\\nLookup length {}\".format(lookup_length))\n",
    "    for tt,gs,nr,rl in zip(titles,genome_sizes,number_of_reads,read_lengths):\n",
    "        seq,reads = generate_random_data(gs,nr,rl,tt)\n",
    "        elapsed = time_fct(lambda : map_reads_lookup(reads,seq,lookup_length))\n",
    "        print(\"For '{}' map reads took {:.1f} seconds\".format(tt,elapsed))"
   ]
  },
  {
   "cell_type": "markdown",
   "metadata": {},
   "source": [
    "# Exercise 4"
   ]
  },
  {
   "cell_type": "markdown",
   "metadata": {},
   "source": [
    "## (a)"
   ]
  },
  {
   "cell_type": "code",
   "execution_count": 16,
   "metadata": {},
   "outputs": [],
   "source": [
    "from itertools import islice\n",
    "\n",
    "def lo_up(s,flag):\n",
    "    return s.upper() if flag else s.lower()\n",
    "\n",
    "class KeywordTree:\n",
    "    def __init__(self):\n",
    "        # The edges are represented by the dictionary\n",
    "        # the key is the edge label and the value is the child node\n",
    "        self.children={}\n",
    "        # Will be set to the word if the node represents a valid word\n",
    "        self.word = None \n",
    "       \n",
    "    \n",
    "    def add_word_rec(self,word,original):\n",
    "        if word==\"\":\n",
    "            self.word = original\n",
    "        else:\n",
    "            head = word[0]\n",
    "            tail = word[1:]\n",
    "            if head not in self.children:\n",
    "                self.children[head] = KeywordTree()\n",
    "            self.children[head].add_word_rec(tail,original)\n",
    "\n",
    "    def add_word(self,word):\n",
    "        self.add_word_rec(word,word)\n",
    "\n",
    "    def add_word_list(self,words):\n",
    "        for w in words:\n",
    "            self.add_word(w)\n",
    "            \n",
    "    def lookup(self,word):\n",
    "        if not word or word[0] not in self.children:\n",
    "            return self.word is not None\n",
    "        else:\n",
    "            return self.children[word[0]].lookup(word[1:])\n",
    "        \n",
    "    def ascii_tree(self,max_degree,max_depth,first_prefix=\"*\",prefix=\" \"):\n",
    "        if max_depth==0 or not self.children:\n",
    "            print(first_prefix)\n",
    "            return\n",
    "        items = [(i,label,child) for i,(label,child) in enumerate(islice(self.children.items(),max_degree))]\n",
    "        last_idx = len(items)-1\n",
    "        for idx,label,child in items:\n",
    "            if idx == 0:\n",
    "                new_first_prefix = first_prefix+\"-+-\"+lo_up(label,child.word)\n",
    "            else:\n",
    "                print(prefix+\" |\")\n",
    "                new_first_prefix = prefix+\" +-\"+lo_up(label,child.word)\n",
    "            new_prefix=prefix+(\"    \" if idx == last_idx else \" |  \")\n",
    "            child.ascii_tree(max_degree,max_depth-1,new_first_prefix,new_prefix)\n",
    "            joiner = True\n",
    "            "
   ]
  },
  {
   "cell_type": "code",
   "execution_count": 17,
   "metadata": {},
   "outputs": [
    {
     "name": "stdout",
     "output_type": "stream",
     "text": [
      "*-+-t-+-O-+-a-+-D\n",
      "  |   |   |\n",
      "  |   |   +-r-+-q-+-u-+-E\n",
      "  |   |\n",
      "  |   +-e-+-A-+-M\n",
      "  |       |\n",
      "  |       +-D\n",
      "  |       |\n",
      "  |       +-N-+-n-+-a-+-n-+-T\n",
      "  |\n",
      "  +-A-+-n-+-D\n",
      "  |       |\n",
      "  |       +-Y-+-t-+-i-+-m-+-E\n",
      "  |\n",
      "  +-I-+-N-+-N-+-i-+-n-+-G\n",
      "          |\n",
      "          +-t-+-e-+-r-+-N\n"
     ]
    }
   ],
   "source": [
    "sample_tree=KeywordTree()\n",
    "sample_tree.add_word_list(\"to tea ted ten a i in inn team and inning tennant anytime any intern toad torque\".split())\n",
    "sample_tree.ascii_tree(8,8)"
   ]
  },
  {
   "cell_type": "code",
   "execution_count": 18,
   "metadata": {},
   "outputs": [
    {
     "name": "stdout",
     "output_type": "stream",
     "text": [
      "*-+-a-+-a-+-h-+-e-+-D\n",
      "  |   |   |   |\n",
      "  |   |   |   +-i-+-n-+-G\n",
      "  |   |   |\n",
      "  |   |   +-l-+-i-+-I-+-S\n",
      "  |   |       |\n",
      "  |   |       +-S\n",
      "  |   |\n",
      "  |   +-b-+-a-+-c-+-A-+-S\n",
      "  |       |   |   |\n",
      "  |       |   |   +-I\n",
      "  |       |   |\n",
      "  |       |   +-f-+-T\n",
      "  |       |\n",
      "  |       +-b-+-a-+-c-+-i-+-e-+-S\n",
      "  |           |   |   |\n",
      "  |           |   |   +-Y\n",
      "  |           |   |\n",
      "  |           |   +-t-+-i-+-a-+-L\n",
      "  |           |\n",
      "  |           +-E-+-S-+-S-+-e-+-S\n",
      "  |               |\n",
      "  |               +-Y-+-S\n",
      "  |\n",
      "  +-b-+-a-+-a-+-e-+-D\n",
      "      |   |   |\n",
      "      |   |   +-i-+-n-+-G\n",
      "      |   |\n",
      "      |   +-b-+-A-+-S-+-s-+-U-+-S\n",
      "      |       |\n",
      "      |       +-b-+-i-+-t-+-T-+-e-+-D\n",
      "      |           |           |\n",
      "      |           |           +-i-+-n-+-G\n",
      "      |           |\n",
      "      |           +-l-+-E-+-D\n",
      "      |               |   |\n",
      "      |               |   +-R-+-S\n",
      "      |               |\n",
      "      |               +-i-+-n-+-G-+-S\n",
      "      |\n",
      "      +-d-+-e-+-l-+-l-+-i-+-u-+-M-+-S\n"
     ]
    }
   ],
   "source": [
    "word_tree=KeywordTree()\n",
    "#word_list = [word.strip().upper() for word in open(os.path.join(folder,\"words.txt\"))]\n",
    "word_tree.add_word_list(word_list)\n",
    "word_tree.ascii_tree(2,16)"
   ]
  },
  {
   "cell_type": "markdown",
   "metadata": {},
   "source": [
    "## (b)"
   ]
  },
  {
   "cell_type": "code",
   "execution_count": 19,
   "metadata": {},
   "outputs": [],
   "source": [
    "def map_reads_tree(root,sequence):\n",
    "    if not isinstance(root,KeywordTree):\n",
    "        reads = root\n",
    "        root = KeywordTree()\n",
    "        root.add_word_list(reads)\n",
    "    locations=defaultdict(list)\n",
    "    n=len(sequence)\n",
    "    for i in range(len(sequence)):\n",
    "        node=root\n",
    "        j=i\n",
    "        while j<n and sequence[j] in node.children:\n",
    "            node=node.children[sequence[j]]\n",
    "            j=j+1\n",
    "            if node.word:\n",
    "                locations[node.word].append(i)\n",
    "    return locations"
   ]
  },
  {
   "cell_type": "markdown",
   "metadata": {},
   "source": [
    "## (c)"
   ]
  },
  {
   "cell_type": "code",
   "execution_count": 20,
   "metadata": {},
   "outputs": [],
   "source": [
    "from operator import itemgetter\n",
    "\n",
    "def find_longest_most_word_tree(word_tree,seq):\n",
    "    if isinstance(word_tree,KeywordTree):\n",
    "        locations = map_reads_tree(word_tree,seq)\n",
    "    else:\n",
    "        locations = another_map_reads_tree(word_tree,seq)\n",
    "    return max(locations,key=len,default=\"\"), locations\n",
    "\n",
    "def find_longest_most_in_proteome_tree(word_tree,proteome_file):\n",
    "    result = [(find_longest_most_word_tree(word_tree,seq),hd) for hd,seq in fasta_sequences(proteome_file)]\n",
    "    return (max(map(lambda x: (x[0][0],x[1]),result),key=lambda x: len(x[0]),default=(\"\",\"\")),\n",
    "            max(map(lambda x: (x[0][1],x[1]),result),key=lambda x: len(x[0]),default=(0,\"\")))\n",
    "\n",
    "def find_longest_most_in_proteome_files_tree(word_tree,file_list):\n",
    "    for proteome_file in file_list:\n",
    "        longest,most = find_longest_most_in_proteome_tree(word_tree,proteome_file)\n",
    "        print(\"The longest word in '{}' is:\".format(os.path.basename(proteome_file)))\n",
    "        print(\"'{}' in protein '{}'\".format(*longest))\n",
    "        \n",
    "        print(\"The most unique words, namely {}, are found in '{}'\".format(len(most[0]),most[1]))\n",
    "        print(\" \".join(most[0].keys()))"
   ]
  },
  {
   "cell_type": "code",
   "execution_count": 21,
   "metadata": {},
   "outputs": [],
   "source": [
    "word_tree = KeywordTree()\n",
    "word_tree.add_word_list(word_list)"
   ]
  },
  {
   "cell_type": "code",
   "execution_count": 22,
   "metadata": {},
   "outputs": [
    {
     "name": "stdout",
     "output_type": "stream",
     "text": [
      "The longest word in 'ecoli-proteome.faa' is:\n",
      "'RALLIERS' in protein 'gi|90111683|ref|NP_418505.2| membrane translocase (MDR) of MdtNOP efflux pump, PET family [Escherichia coli str. K-12 substr. MG1655]'\n",
      "The most unique words, namely 46, are found in 'gi|16128891|ref|NP_415444.1| chromosome condensin MukBEF, ATPase and DNA-binding subunit [Escherichia coli str. K-12 substr. MG1655]'\n",
      "FART TALI GATS TINS PENS SEAT KALE ALEF MARE LEAD LEADY KIER NEAR ELKS LADY RAKE VAIN DELE LEAL LEAR ARIA ARIAS SNARE EFTS AIVER ALAE SLED ARES SERF FIGS LAVA ADDS RARE AREA AREAL REAL RADS RELAY ALGA ALGAL PERK SEAL GALS SWEDE SWEDES PENIS\n",
      "The longest word in 'chr2L.faa' is:\n",
      "'LACTEALS' in protein 'gi|24585071|ref|NP_609917.2| short spindle 3 [Drosophila melanogaster]'\n",
      "The most unique words, namely 253, are found in 'gi|320544542|ref|NP_001188694.1| Muscle-specific protein 300, isoform D [Drosophila melanogaster]'\n",
      "MADS GAGA LETS LEGER EGER SERS TEEN NIDI STEEP TITS PASS HIKE WINS ANTA FLASK LARS ARSE LIES GHEE SEDER ALAS LASS GALS SERF GAES LASE EKES AINE TAPA TAPAS HIES DEAN LIAR NIPA PILE PEER SAIN PAVE ISLE DADA SEAT VETS HALL ALGA PEES TELL EELS VIDE EIDE HALE DEIL REDIA REDIAS DELE KINK PALS EAGER AGER MERL GELD HAET AVES GILD PEAR ALTS KIEF NETT PALL DISK REMS KADI KALE ALEE PIES PETS KIRK GIRN DINS RIVE KAVA KINE SLED SNIP PARS GLEN TAKE STATE TATE AIRS DIEL VERY LADE EWES EARL CLAW RAKE SHED SWINE WINE LATI VILL ELSE STEEK DELF SWIG RARE TEAL LAST LASTS REIN EYER MEWL PEKE SAGE GAGS TAIN WADY TIES SLID SEPT ALAE REAL LAKE TREK KRAAL DING DIVE CELL DAYS SNIT GELS SEAR TALE HEAL RYES PAIR EYED PATS PERE DEAD RALE LEAS ARKS LEND FEDS META METATE DAKS PIGS LIED ALINE LINE KINKY INKY SAND SITE DIES KIND LEER NEAP PIRN SELS TIER DARN FENS WEKA REES SILT SEEK DAWT EARN ERNS DELL HERD PATE PATER RIFT LADS DRAT RATE RATEL FETE TYEE VEEP VEEPEE EPEE PEEVE DINE TEAS SITI FLEA VIVE PELE PEEP SAPS NEED SPED PEDS VELA RIPS LIVE RAPE PEAG PEAGS TETH FADGE TATS PADS ELLS PILI PILIS LIST KELP RILE DELS FETS SPIV SPIVS CRAM RATS DISH LEAF KNEE GRIG KIST EGIS AGEE MAIL DYER PLIE PLIES RAVE RAVEL DIVA REAP SEAL SALE SALES ALES LINS LYSE RIAL LIRA EVES DADS ARIL LAMS RETS LATH LEAD SELL VARA VARAS\n",
      "The longest word in 'chr2R.faa' is:\n",
      "'APLASIAS' in protein 'gi|221330379|ref|NP_001137696.1| olf186-F, isoform E [Drosophila melanogaster]'\n",
      "The most unique words, namely 217, are found in 'gi|24653497|ref|NP_725339.1| short stop, isoform H [Drosophila melanogaster]'\n",
      "KRIS VEST MIRS REIS AREA AREAL REAL STAR KARN HIVE SLIT DEVS SARK EVIL GRIG DAKS VEAL KEEL KILN ELLS WAWL KHAT HATE DEIL REEL FLAM RIFT MARE DYER LEAS SLAG GLED VISE GERM VEES SAMP TATS YELD LIRE PADS SAGS STAG GIRD TAGS EARN SIPE EAVE AVER LEVA VAVS EGAL GALL RAGS DEER TITI LEKS SAFE SAFER SAID AIDE AIDES IDES DESK CEIL LENT TEAL ADDS TAME AMEN REES REEST TRET AGES VIVE VEER SKEP SKEPS KEPS EVES VESTS SKIT SKITE KITE SEES KEPT DYKE TATE KEAS VEEP NETS SPAE EGGS GALA DEAL ELVES DAIS LISP GIEN AINS ISLE DEAF LIST PEEL SITE PYAS HEAL DAVY TREK TERAI GILD YELL YELLS LANAI KELP REMS AIRY SAND SANDS ANDS DANK AYES PSST DATE KISS LENS FLAIL KANE ANEW SEPIA LIKE LIKER ARIA DEIST RETS STEEL KALE KALES ALES NISI SIDE LAST TEAR PICK KIND SPAR SPARK PARK SPIK SELS HELD ENDS DICK PISS REEF TEAS GELS LINK FLAW KEPI PIKA LIAR GLAD TAVS PLAIN LAIN TEEM ERAS KAME AGHA AGHAS KHIS HISN LAPS LAPSE APSE TIES RAKE DELL FREMD READ SENT FADS ALGA ALGAL AKIN KINE NARY ALAN ALANT SALP LEET HIED DAME SIRE WEAL HALL WINK LEVEL VELA LAND EAST REAM DAWS TASK KNAP WAIN AWLS GLEG LIED MENTA RACK NARK PELE VERA KAVA FILA TASS\n",
      "The longest word in 'chr3L.faa' is:\n",
      "'FELSPARS' in protein 'gi|28574909|ref|NP_648674.2| CG17364, isoform A [Drosophila melanogaster]'\n",
      "The most unique words, namely 310, are found in 'gi|386770344|ref|NP_001246553.1| sallimus, isoform F [Drosophila melanogaster]'\n",
      "KNAR SYNE NEAT TARN REVS KLIEG LAVE LING DASH VERA GEED RATS RAIL RAILS AILS SIDE PITA PITAS TASS FEAR EARL PLEA PLEAS LEAS VIEW VIEWY EDIT AIDS FECK EAGLE EIDE IDES DIMS AITS PEDS EDHS AINS HAED TANK MILD DALE TAEL KIRK LEST STAPH DISH SHIRK SHIRKED IRKED SEAS DITA SING ADDS PRIG LEAP PARD ELAN LEAN YARD LEASH VALE CRAW YEAR CASK CASKS ASKS LEYS TREE VILE LEIS RAIN AINE FITS WAGS LEET REEL YARDS GRIP GRIPE RIPE GEDS TILL MEAT TATE VEER GEAR KAPH HIVE VISE TALK KATS TYEE GIFT AEDES REDS APES AVES FITTED SERE LIRE PREP KEEF DELVE SEPT VEES PEES PEKE KIVA VAVS STEEP PEEP EVADE EVADER KELP PEED LEEK PIPS PEEK DEVS PEAK KEAS PELE LIED RITE DILL VATS KIEF ALEVIN LEVIN ANIL ANILS NILS ILKA LIEN KITE SEED ALFA CRAAL RASE KITS LINE GASES SAVE VETS SEIS SEISE DEED TIED LATI GHEE HEEL SNED KAFIR FIRM RIVE RIVET RIVETS SHEA STYE LAIN AINEE SKELP SKELPS KELPS SKIP CITE GLAD GLADY LADY ELSE TADS SALT VEST LATS TILDE LETS LEGES KIDS LIES STEEL PYES PALE PALET HEED PASS PASSE PASSEL SEMI SINS FETE SEEL SAVES LEAR ARAK LESS EMES YELK EPHA HALT SLAT LAYS TRAD NITS SILK THEE DIDST LASS SAPS PERK PERKS EKED PEER TIDE KEPI KEPIS DISK EDGE KRIS TEPEE EPEE TELE GELS AYES EASE DIRE REES FEET SPED ANTE LINK PLAT VIAL VIALED DEAR PAPS DIPS DEYS SEEK AIDE VIED PAST PASTE TEED TILE PEGS LEAF KEET SPIT PITY PIER RALE SEES PIPE PIPED SEEP EAVE APEEK PIED DIVE SAKI LEAL SIKE SKIS KISS PAGE EVITE EVITED DEEP SIPE PELT VIDE DEVA PATE DELI KIER DELE AKEE KEEP SKIVE PEEPS FADE PILE EATS VEEP EAVED TINE ISMS VEEPEE PAYS NITRE FRET LIVE LIVES DATA DENT REGEAR REGES GENIE VIVE TITI TAIL TEAT LAID VIRL APED KEEK SILT YARN MIRI SEEPY\n",
      "The longest word in 'chr3R.faa' is:\n",
      "'INVITERS' in protein 'gi|281361577|ref|NP_001014616.2| dpr4, isoform B [Drosophila melanogaster]'\n",
      "The most unique words, namely 120, are found in 'gi|221459933|ref|NP_001036762.2| CG3339, isoform C [Drosophila melanogaster]'\n",
      "AMAS AMASS MASS SIPS GALL PASS TILS REST NARY DYKE DYKER PALS KILT KILTER REIF PLAN PIAN KIWI KIWIS IWIS ASIDE SIDE VAGI FARL FIRE DELI REAM ISLE AGMA MARL STAG GAGA AGAS NAPS APSE KAYS TARE LACK FIAR AIMS TALI VIES WHAT HECK HEED SEEL FIGS SADI RIDE TALL GELS LICE LARK FITLY ELLS DELF RAGI SHEA MALE SALS LIST TIRL LEVA VAVS YAPS TAGS KEIR KEIRS TALK TICS SYNE RILE RILES PELF GIRN SALE SALES ALES FLEY ELKS LEAR KAKI AKIN LEAK READ LANE DILL REEL FLEA LEAL LEKS GLEE KIER KALE DELL LASS LENT REAR ILIA PERE FILS VERY GALE GALES LIER LESS DALE AGER LEGS ITEM PEES PRESE SELS PREE IMID LIRE GELT MERL SARK CAMP\n",
      "The longest word in 'chrX.faa' is:\n",
      "'SPITTERS' in protein 'gi|24639790|ref|NP_525076.2| protein tyrosine phosphatase 4E, isoform A [Drosophila melanogaster]'\n",
      "The most unique words, namely 126, are found in 'gi|24642256|ref|NP_573059.1| CG8184 [Drosophila melanogaster]'\n",
      "ELIDE RAGS LATS NIDI DIGIT GAGS GARS SLAP DATE RANK VAST SASS GAGA PERE KAIL KAILS AILS DIVA TILL WEST STILL ALAE RIND SNIT PEAR ARIL ARILS SHES FLIC FLICS SHED PRAM PEAS GEST STET AIDS NAYS AGER SEAS AITS DELI DELIS SENSA EATS CARL LEAP LINT WHIP WHIPT LADS STRAY TRAY PADS VARA LIES SAME AVID VEER VEERS TASS SNAG GAST GASTS TEND TENDER ENDER ERNE NEED NEEDED DEER DEERS SETA ETAS DIAL NAGS IRIS SELL GANG LIKE TATS SAGS GATS GAES TELL SALINA ALPS HAED TREE TREES REES ATES TEST ESSES PATTEE STAG AGAS LALL NILL SLAT ARSIS LAKH HYPS TAGS STAGS RAGA TATE SPAS ASSAI DEED DEAR DEARS EARS VASA ASKS VALE ALEE LEES HASH TAMS TELE FEDS REIF TEEN DIED ANTE TSKS\n",
      "Wall time: 9.54 s\n"
     ]
    }
   ],
   "source": [
    "%time find_longest_most_in_proteome_files_tree(word_tree,filenames)"
   ]
  },
  {
   "cell_type": "markdown",
   "metadata": {},
   "source": [
    "## (d)"
   ]
  },
  {
   "cell_type": "code",
   "execution_count": 23,
   "metadata": {},
   "outputs": [
    {
     "name": "stdout",
     "output_type": "stream",
     "text": [
      "For 'set i.' map reads took 1.8 seconds\n",
      "For 'set ii.' map reads took 4.2 seconds\n",
      "For 'set iii.' map reads took 20.8 seconds\n"
     ]
    }
   ],
   "source": [
    "for tt,gs,nr,rl in zip(titles,genome_sizes,number_of_reads,read_lengths):\n",
    "        seq,reads = generate_random_data(gs,nr,rl,tt)\n",
    "        elapsed = time_fct(lambda : map_reads_tree(reads,seq))\n",
    "        print(\"For '{}' map reads took {:.1f} seconds\".format(tt,elapsed))"
   ]
  },
  {
   "cell_type": "markdown",
   "metadata": {},
   "source": [
    "# 4 Alternative solution using nested dictionaries"
   ]
  },
  {
   "cell_type": "markdown",
   "metadata": {},
   "source": [
    "## (a)"
   ]
  },
  {
   "cell_type": "code",
   "execution_count": 24,
   "metadata": {},
   "outputs": [],
   "source": [
    "class AnotherKeywordTree:\n",
    "    def __init__(self,words=[]):\n",
    "        # The edges are represented by the dictionary\n",
    "        # the key is the edge label and the value is the child node\n",
    "        self.root = {} \n",
    "        self.add_word_list(words)\n",
    "    \n",
    "    def add_word(self,word):\n",
    "        node = self.root\n",
    "        for c in word:\n",
    "            node = node.setdefault(c,{})\n",
    "        node['_end'] = None\n",
    "\n",
    "    def add_word_list(self,words):\n",
    "        for w in words:\n",
    "            self.add_word(w)\n",
    "            \n",
    "    def lookup(self,word):\n",
    "        node = self.root\n",
    "        for c in word:\n",
    "            if c in node:\n",
    "                node = node[c]\n",
    "            else:\n",
    "                return False\n",
    "        return '_end' in node\n",
    "        \n",
    "    def ascii_tree(self,max_degree,max_depth,node=None,first_prefix=\"*\",prefix=\" \"):\n",
    "        if node is None:\n",
    "            node = self.root\n",
    "        if max_depth==0 or len(node)==('_end' in node): # A leaf should only have the '_end' key\n",
    "            print(first_prefix)\n",
    "            return\n",
    "        items = [(i,label,child) for i,(label,child) in \n",
    "                 enumerate([item for item in islice(node.items(),max_degree) if item[0]!='_end'])]\n",
    "        last_idx = len(items)-1\n",
    "        for idx,label,child in items:\n",
    "            if idx == 0:\n",
    "                new_first_prefix = first_prefix+\"-+-\"+lo_up(label,'_end' in child)\n",
    "            else:\n",
    "                print(prefix+\" |\")\n",
    "                new_first_prefix = prefix+\" +-\"+lo_up(label,'_end' in child)\n",
    "            new_prefix=prefix+(\"    \" if idx == last_idx else \" |  \")\n",
    "            self.ascii_tree(max_degree,max_depth-1,child, new_first_prefix,new_prefix)\n",
    "            joiner = True\n",
    "            "
   ]
  },
  {
   "cell_type": "code",
   "execution_count": 25,
   "metadata": {},
   "outputs": [
    {
     "name": "stdout",
     "output_type": "stream",
     "text": [
      "*-+-t-+-O-+-a-+-D\n",
      "  |   |   |\n",
      "  |   |   +-r-+-q-+-u-+-E\n",
      "  |   |\n",
      "  |   +-e-+-A-+-M\n",
      "  |       |\n",
      "  |       +-D\n",
      "  |       |\n",
      "  |       +-N-+-n-+-a-+-n-+-T\n",
      "  |\n",
      "  +-A-+-n-+-D\n",
      "  |       |\n",
      "  |       +-Y-+-t-+-i-+-m-+-E\n",
      "  |\n",
      "  +-I-+-N-+-N-+-i-+-n-+-G\n",
      "          |\n",
      "          +-t-+-e-+-r-+-N\n"
     ]
    }
   ],
   "source": [
    "sample_tree=AnotherKeywordTree()\n",
    "sample_tree.add_word_list(\"to tea ted ten a i in inn team and inning tennant anytime any intern toad torque\".split())\n",
    "sample_tree.ascii_tree(8,8)"
   ]
  },
  {
   "cell_type": "code",
   "execution_count": 26,
   "metadata": {},
   "outputs": [
    {
     "name": "stdout",
     "output_type": "stream",
     "text": [
      "*-+-a-+-a-+-h-+-e-+-D\n",
      "  |   |   |   |\n",
      "  |   |   |   +-i-+-n-+-G\n",
      "  |   |   |\n",
      "  |   |   +-l-+-i-+-I-+-S\n",
      "  |   |       |\n",
      "  |   |       +-S\n",
      "  |   |\n",
      "  |   +-b-+-a-+-c-+-A-+-S\n",
      "  |       |   |   |\n",
      "  |       |   |   +-I\n",
      "  |       |   |\n",
      "  |       |   +-f-+-T\n",
      "  |       |\n",
      "  |       +-b-+-a-+-c-+-i-+-e-+-S\n",
      "  |           |   |   |\n",
      "  |           |   |   +-Y\n",
      "  |           |   |\n",
      "  |           |   +-t-+-i-+-a-+-L\n",
      "  |           |\n",
      "  |           +-E-+-S-+-S-+-e-+-S\n",
      "  |\n",
      "  +-b-+-a-+-a-+-e-+-D\n",
      "      |   |   |\n",
      "      |   |   +-i-+-n-+-G\n",
      "      |   |\n",
      "      |   +-b-+-A-+-S-+-s-+-U-+-S\n",
      "      |       |\n",
      "      |       +-b-+-i-+-t-+-T-+-e-+-D\n",
      "      |           |\n",
      "      |           +-l-+-E-+-D\n",
      "      |               |\n",
      "      |               +-i-+-n-+-G-+-S\n",
      "      |\n",
      "      +-d-+-e-+-l-+-l-+-i-+-u-+-M-+-S\n"
     ]
    }
   ],
   "source": [
    "another_word_tree = AnotherKeywordTree(word_list)\n",
    "another_word_tree.ascii_tree(2,16)"
   ]
  },
  {
   "cell_type": "markdown",
   "metadata": {},
   "source": [
    "## (b)"
   ]
  },
  {
   "cell_type": "code",
   "execution_count": 27,
   "metadata": {},
   "outputs": [],
   "source": [
    "def another_map_reads_tree(tree,sequence):\n",
    "    if not isinstance(tree,AnotherKeywordTree):\n",
    "        reads = tree\n",
    "        tree = AnotherKeywordTree()\n",
    "        tree.add_word_list(reads)\n",
    "    locations=defaultdict(list)\n",
    "    n=len(sequence)\n",
    "    for i in range(len(sequence)):\n",
    "        node=tree.root\n",
    "        j=i\n",
    "        while j<n and sequence[j] in node:\n",
    "            node=node[sequence[j]]\n",
    "            j=j+1\n",
    "            if '_end' in node:\n",
    "                locations[sequence[i:j]].append(i)\n",
    "    return locations"
   ]
  },
  {
   "cell_type": "markdown",
   "metadata": {},
   "source": [
    "## (c)"
   ]
  },
  {
   "cell_type": "code",
   "execution_count": 28,
   "metadata": {},
   "outputs": [],
   "source": [
    "another_word_tree = AnotherKeywordTree(word_list)"
   ]
  },
  {
   "cell_type": "code",
   "execution_count": 29,
   "metadata": {},
   "outputs": [
    {
     "name": "stdout",
     "output_type": "stream",
     "text": [
      "The longest word in 'ecoli-proteome.faa' is:\n",
      "'RALLIERS' in protein 'gi|90111683|ref|NP_418505.2| membrane translocase (MDR) of MdtNOP efflux pump, PET family [Escherichia coli str. K-12 substr. MG1655]'\n",
      "The most unique words, namely 46, are found in 'gi|16128891|ref|NP_415444.1| chromosome condensin MukBEF, ATPase and DNA-binding subunit [Escherichia coli str. K-12 substr. MG1655]'\n",
      "FART TALI GATS TINS PENS SEAT KALE ALEF MARE LEAD LEADY KIER NEAR ELKS LADY RAKE VAIN DELE LEAL LEAR ARIA ARIAS SNARE EFTS AIVER ALAE SLED ARES SERF FIGS LAVA ADDS RARE AREA AREAL REAL RADS RELAY ALGA ALGAL PERK SEAL GALS SWEDE SWEDES PENIS\n",
      "The longest word in 'chr2L.faa' is:\n",
      "'LACTEALS' in protein 'gi|24585071|ref|NP_609917.2| short spindle 3 [Drosophila melanogaster]'\n",
      "The most unique words, namely 253, are found in 'gi|320544542|ref|NP_001188694.1| Muscle-specific protein 300, isoform D [Drosophila melanogaster]'\n",
      "MADS GAGA LETS LEGER EGER SERS TEEN NIDI STEEP TITS PASS HIKE WINS ANTA FLASK LARS ARSE LIES GHEE SEDER ALAS LASS GALS SERF GAES LASE EKES AINE TAPA TAPAS HIES DEAN LIAR NIPA PILE PEER SAIN PAVE ISLE DADA SEAT VETS HALL ALGA PEES TELL EELS VIDE EIDE HALE DEIL REDIA REDIAS DELE KINK PALS EAGER AGER MERL GELD HAET AVES GILD PEAR ALTS KIEF NETT PALL DISK REMS KADI KALE ALEE PIES PETS KIRK GIRN DINS RIVE KAVA KINE SLED SNIP PARS GLEN TAKE STATE TATE AIRS DIEL VERY LADE EWES EARL CLAW RAKE SHED SWINE WINE LATI VILL ELSE STEEK DELF SWIG RARE TEAL LAST LASTS REIN EYER MEWL PEKE SAGE GAGS TAIN WADY TIES SLID SEPT ALAE REAL LAKE TREK KRAAL DING DIVE CELL DAYS SNIT GELS SEAR TALE HEAL RYES PAIR EYED PATS PERE DEAD RALE LEAS ARKS LEND FEDS META METATE DAKS PIGS LIED ALINE LINE KINKY INKY SAND SITE DIES KIND LEER NEAP PIRN SELS TIER DARN FENS WEKA REES SILT SEEK DAWT EARN ERNS DELL HERD PATE PATER RIFT LADS DRAT RATE RATEL FETE TYEE VEEP VEEPEE EPEE PEEVE DINE TEAS SITI FLEA VIVE PELE PEEP SAPS NEED SPED PEDS VELA RIPS LIVE RAPE PEAG PEAGS TETH FADGE TATS PADS ELLS PILI PILIS LIST KELP RILE DELS FETS SPIV SPIVS CRAM RATS DISH LEAF KNEE GRIG KIST EGIS AGEE MAIL DYER PLIE PLIES RAVE RAVEL DIVA REAP SEAL SALE SALES ALES LINS LYSE RIAL LIRA EVES DADS ARIL LAMS RETS LATH LEAD SELL VARA VARAS\n",
      "The longest word in 'chr2R.faa' is:\n",
      "'APLASIAS' in protein 'gi|221330379|ref|NP_001137696.1| olf186-F, isoform E [Drosophila melanogaster]'\n",
      "The most unique words, namely 217, are found in 'gi|24653497|ref|NP_725339.1| short stop, isoform H [Drosophila melanogaster]'\n",
      "KRIS VEST MIRS REIS AREA AREAL REAL STAR KARN HIVE SLIT DEVS SARK EVIL GRIG DAKS VEAL KEEL KILN ELLS WAWL KHAT HATE DEIL REEL FLAM RIFT MARE DYER LEAS SLAG GLED VISE GERM VEES SAMP TATS YELD LIRE PADS SAGS STAG GIRD TAGS EARN SIPE EAVE AVER LEVA VAVS EGAL GALL RAGS DEER TITI LEKS SAFE SAFER SAID AIDE AIDES IDES DESK CEIL LENT TEAL ADDS TAME AMEN REES REEST TRET AGES VIVE VEER SKEP SKEPS KEPS EVES VESTS SKIT SKITE KITE SEES KEPT DYKE TATE KEAS VEEP NETS SPAE EGGS GALA DEAL ELVES DAIS LISP GIEN AINS ISLE DEAF LIST PEEL SITE PYAS HEAL DAVY TREK TERAI GILD YELL YELLS LANAI KELP REMS AIRY SAND SANDS ANDS DANK AYES PSST DATE KISS LENS FLAIL KANE ANEW SEPIA LIKE LIKER ARIA DEIST RETS STEEL KALE KALES ALES NISI SIDE LAST TEAR PICK KIND SPAR SPARK PARK SPIK SELS HELD ENDS DICK PISS REEF TEAS GELS LINK FLAW KEPI PIKA LIAR GLAD TAVS PLAIN LAIN TEEM ERAS KAME AGHA AGHAS KHIS HISN LAPS LAPSE APSE TIES RAKE DELL FREMD READ SENT FADS ALGA ALGAL AKIN KINE NARY ALAN ALANT SALP LEET HIED DAME SIRE WEAL HALL WINK LEVEL VELA LAND EAST REAM DAWS TASK KNAP WAIN AWLS GLEG LIED MENTA RACK NARK PELE VERA KAVA FILA TASS\n",
      "The longest word in 'chr3L.faa' is:\n",
      "'FELSPARS' in protein 'gi|28574909|ref|NP_648674.2| CG17364, isoform A [Drosophila melanogaster]'\n",
      "The most unique words, namely 310, are found in 'gi|386770344|ref|NP_001246553.1| sallimus, isoform F [Drosophila melanogaster]'\n",
      "KNAR SYNE NEAT TARN REVS KLIEG LAVE LING DASH VERA GEED RATS RAIL RAILS AILS SIDE PITA PITAS TASS FEAR EARL PLEA PLEAS LEAS VIEW VIEWY EDIT AIDS FECK EAGLE EIDE IDES DIMS AITS PEDS EDHS AINS HAED TANK MILD DALE TAEL KIRK LEST STAPH DISH SHIRK SHIRKED IRKED SEAS DITA SING ADDS PRIG LEAP PARD ELAN LEAN YARD LEASH VALE CRAW YEAR CASK CASKS ASKS LEYS TREE VILE LEIS RAIN AINE FITS WAGS LEET REEL YARDS GRIP GRIPE RIPE GEDS TILL MEAT TATE VEER GEAR KAPH HIVE VISE TALK KATS TYEE GIFT AEDES REDS APES AVES FITTED SERE LIRE PREP KEEF DELVE SEPT VEES PEES PEKE KIVA VAVS STEEP PEEP EVADE EVADER KELP PEED LEEK PIPS PEEK DEVS PEAK KEAS PELE LIED RITE DILL VATS KIEF ALEVIN LEVIN ANIL ANILS NILS ILKA LIEN KITE SEED ALFA CRAAL RASE KITS LINE GASES SAVE VETS SEIS SEISE DEED TIED LATI GHEE HEEL SNED KAFIR FIRM RIVE RIVET RIVETS SHEA STYE LAIN AINEE SKELP SKELPS KELPS SKIP CITE GLAD GLADY LADY ELSE TADS SALT VEST LATS TILDE LETS LEGES KIDS LIES STEEL PYES PALE PALET HEED PASS PASSE PASSEL SEMI SINS FETE SEEL SAVES LEAR ARAK LESS EMES YELK EPHA HALT SLAT LAYS TRAD NITS SILK THEE DIDST LASS SAPS PERK PERKS EKED PEER TIDE KEPI KEPIS DISK EDGE KRIS TEPEE EPEE TELE GELS AYES EASE DIRE REES FEET SPED ANTE LINK PLAT VIAL VIALED DEAR PAPS DIPS DEYS SEEK AIDE VIED PAST PASTE TEED TILE PEGS LEAF KEET SPIT PITY PIER RALE SEES PIPE PIPED SEEP EAVE APEEK PIED DIVE SAKI LEAL SIKE SKIS KISS PAGE EVITE EVITED DEEP SIPE PELT VIDE DEVA PATE DELI KIER DELE AKEE KEEP SKIVE PEEPS FADE PILE EATS VEEP EAVED TINE ISMS VEEPEE PAYS NITRE FRET LIVE LIVES DATA DENT REGEAR REGES GENIE VIVE TITI TAIL TEAT LAID VIRL APED KEEK SILT YARN MIRI SEEPY\n",
      "The longest word in 'chr3R.faa' is:\n",
      "'INVITERS' in protein 'gi|281361577|ref|NP_001014616.2| dpr4, isoform B [Drosophila melanogaster]'\n",
      "The most unique words, namely 120, are found in 'gi|221459933|ref|NP_001036762.2| CG3339, isoform C [Drosophila melanogaster]'\n",
      "AMAS AMASS MASS SIPS GALL PASS TILS REST NARY DYKE DYKER PALS KILT KILTER REIF PLAN PIAN KIWI KIWIS IWIS ASIDE SIDE VAGI FARL FIRE DELI REAM ISLE AGMA MARL STAG GAGA AGAS NAPS APSE KAYS TARE LACK FIAR AIMS TALI VIES WHAT HECK HEED SEEL FIGS SADI RIDE TALL GELS LICE LARK FITLY ELLS DELF RAGI SHEA MALE SALS LIST TIRL LEVA VAVS YAPS TAGS KEIR KEIRS TALK TICS SYNE RILE RILES PELF GIRN SALE SALES ALES FLEY ELKS LEAR KAKI AKIN LEAK READ LANE DILL REEL FLEA LEAL LEKS GLEE KIER KALE DELL LASS LENT REAR ILIA PERE FILS VERY GALE GALES LIER LESS DALE AGER LEGS ITEM PEES PRESE SELS PREE IMID LIRE GELT MERL SARK CAMP\n",
      "The longest word in 'chrX.faa' is:\n",
      "'SPITTERS' in protein 'gi|24639790|ref|NP_525076.2| protein tyrosine phosphatase 4E, isoform A [Drosophila melanogaster]'\n",
      "The most unique words, namely 126, are found in 'gi|24642256|ref|NP_573059.1| CG8184 [Drosophila melanogaster]'\n",
      "ELIDE RAGS LATS NIDI DIGIT GAGS GARS SLAP DATE RANK VAST SASS GAGA PERE KAIL KAILS AILS DIVA TILL WEST STILL ALAE RIND SNIT PEAR ARIL ARILS SHES FLIC FLICS SHED PRAM PEAS GEST STET AIDS NAYS AGER SEAS AITS DELI DELIS SENSA EATS CARL LEAP LINT WHIP WHIPT LADS STRAY TRAY PADS VARA LIES SAME AVID VEER VEERS TASS SNAG GAST GASTS TEND TENDER ENDER ERNE NEED NEEDED DEER DEERS SETA ETAS DIAL NAGS IRIS SELL GANG LIKE TATS SAGS GATS GAES TELL SALINA ALPS HAED TREE TREES REES ATES TEST ESSES PATTEE STAG AGAS LALL NILL SLAT ARSIS LAKH HYPS TAGS STAGS RAGA TATE SPAS ASSAI DEED DEAR DEARS EARS VASA ASKS VALE ALEE LEES HASH TAMS TELE FEDS REIF TEEN DIED ANTE TSKS\n",
      "Wall time: 6.99 s\n"
     ]
    }
   ],
   "source": [
    "%time find_longest_most_in_proteome_files_tree(another_word_tree,filenames)"
   ]
  },
  {
   "cell_type": "markdown",
   "metadata": {},
   "source": [
    "## (d)"
   ]
  },
  {
   "cell_type": "code",
   "execution_count": 30,
   "metadata": {},
   "outputs": [
    {
     "name": "stdout",
     "output_type": "stream",
     "text": [
      "For 'set i.' map reads took 1.2 seconds\n",
      "For 'set ii.' map reads took 2.7 seconds\n",
      "For 'set iii.' map reads took 17.8 seconds\n"
     ]
    }
   ],
   "source": [
    "for tt,gs,nr,rl in zip(titles,genome_sizes,number_of_reads,read_lengths):\n",
    "        seq,reads = generate_random_data(gs,nr,rl,tt)\n",
    "        elapsed = time_fct(lambda : another_map_reads_tree(reads,seq))\n",
    "        print(\"For '{}' map reads took {:.1f} seconds\".format(tt,elapsed))"
   ]
  }
 ],
 "metadata": {
  "kernelspec": {
   "display_name": "Python 3",
   "language": "python",
   "name": "python3"
  },
  "language_info": {
   "codemirror_mode": {
    "name": "ipython",
    "version": 3
   },
   "file_extension": ".py",
   "mimetype": "text/x-python",
   "name": "python",
   "nbconvert_exporter": "python",
   "pygments_lexer": "ipython3",
   "version": "3.7.0"
  }
 },
 "nbformat": 4,
 "nbformat_minor": 2
}
