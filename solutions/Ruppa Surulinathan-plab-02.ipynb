{
 "cells": [
  {
   "cell_type": "markdown",
   "metadata": {},
   "source": [
    "# Ex.  1 One hundred ways to get to one hundred (more or less)"
   ]
  },
  {
   "cell_type": "code",
   "execution_count": 1,
   "metadata": {},
   "outputs": [
    {
     "name": "stdout",
     "output_type": "stream",
     "text": [
      "There are 263 different choices.\n",
      "Some examples of those expressions are as follows\n",
      "['+1+2+3+4+5+6+7+8*9', '+1+2+3-4+5+6+78+9', '+1+2+3-45+67+8*9', '+1+2+3-4*5+6*7+8*9', '+1+2+34-5+67-8+9']\n"
     ]
    }
   ],
   "source": [
    "from itertools import product \n",
    " \n",
    "def expr(p):\n",
    "    \"\"\"function to return an expression\n",
    "    input:list of operators to be inserted between numbers\n",
    "    return:expression consisting operators and values\"\"\"\n",
    "    return \"{}1{}2{}3{}4{}5{}6{}7{}8{}9\".format(*p)\n",
    " \n",
    "def gen_expr():\n",
    "    \"\"\"function to generation cartesian product of various operators\n",
    "    return: different list of operators\"\"\"\n",
    "   # return [expr(p) for p in product(op, repeat=9)]\n",
    "    return [expr(p) for p in product(['+', '-', '','*','/'], repeat=9) if (p[0]!='*') and (p[0]!='/')]\n",
    " \n",
    "#v_100=list(filter(lambda x: x[0] == 100, map(lambda x: (eval(x), x), gen_expr())))\n",
    "\n",
    "\"\"\"Dictionary Comprehension to fetch expressions whose add upto 100\n",
    "Here key is the actual expression and value is 100\"\"\"\n",
    "values_adding_100={i:eval(i) for i in gen_expr() if eval(i)==100}\n",
    "\n",
    "print(\"There are {} different choices.\".format(len(values_adding_100)))\n",
    "print(\"Some examples of those expressions are as follows\\n{}\". format(list(values_adding_100)[:5]))"
   ]
  },
  {
   "cell_type": "markdown",
   "metadata": {},
   "source": [
    "# Ex.  2 Eight queens"
   ]
  },
  {
   "cell_type": "code",
   "execution_count": 2,
   "metadata": {},
   "outputs": [],
   "source": [
    "import string\n",
    "alphabet=(string.ascii_lowercase)\n",
    "\n",
    "  \n",
    "\n",
    "def choosing_chess_board_size(n):\n",
    "    global col\n",
    "    global rower\n",
    "    global final\n",
    "    \n",
    "    col=alphabet[:n]\n",
    "    rower=[i for i in range(1,n+1)]\n",
    "    final=dict(zip(col,rower))\n",
    "    return iter_solve(n)\n",
    "\n",
    "def under_attack(row, column, existing_queens):\n",
    "    if not len(existing_queens): return False\n",
    "    for queen in existing_queens:\n",
    "        if not len(queen):\n",
    "            continue\n",
    "        r,c = queen\n",
    "        if r == row: return True # Check row\n",
    "        if c == column: return True # Check column\n",
    "        if (final[column]-final[c]) == (row-r): return True # Check left diagonal\n",
    "        if (final[column]-final[c]) == -(row-r): return True # Check right diagonal\n",
    "    return False\n",
    "\n",
    "def iter_solve(n):\n",
    "    solutions = None\n",
    "    for row in rower:\n",
    "        # for each row, check all valid column\n",
    "        solutions = check(solutions, row, n)\n",
    "    return (\"There are {} solutions and is one sample solution:{}\".format(len(solutions),solutions[0]))\n",
    "\n",
    "def check(solutions, row, n):\n",
    "    new_solutions = []\n",
    "    for column in col:\n",
    "        if not solutions or not len(solutions):\n",
    "            new_solutions.append([] + [(row, column)])\n",
    "        else:\n",
    "            for solution in solutions:\n",
    "                if not under_attack(row, column, solution):\n",
    "                    new_solutions.append(solution + [(row, column)])\n",
    "    return new_solutions\n",
    "\n",
    "#choosing_chess_board_size(11)\n",
    "#https://stackoverflow.com/questions/5133509/eight-queens-problem-in-python"
   ]
  },
  {
   "cell_type": "code",
   "execution_count": 3,
   "metadata": {},
   "outputs": [
    {
     "name": "stdout",
     "output_type": "stream",
     "text": [
      "The solution for a chess board of size 8 is as follows:\n"
     ]
    },
    {
     "data": {
      "text/plain": [
       "\"There are 92 solutions and is one sample solution:[(1, 'd'), (2, 'b'), (3, 'g'), (4, 'c'), (5, 'f'), (6, 'h'), (7, 'e'), (8, 'a')]\""
      ]
     },
     "execution_count": 3,
     "metadata": {},
     "output_type": "execute_result"
    }
   ],
   "source": [
    "print(\"The solution for a chess board of size 8 is as follows:\")\n",
    "choosing_chess_board_size(8)"
   ]
  },
  {
   "cell_type": "code",
   "execution_count": 4,
   "metadata": {},
   "outputs": [
    {
     "name": "stdout",
     "output_type": "stream",
     "text": [
      "The  more  general  problem  of placing n queens on a n×nboard:\n"
     ]
    },
    {
     "data": {
      "text/plain": [
       "{4: \"There are 2 solutions and is one sample solution:[(1, 'c'), (2, 'a'), (3, 'd'), (4, 'b')]\",\n",
       " 5: \"There are 10 solutions and is one sample solution:[(1, 'd'), (2, 'b'), (3, 'e'), (4, 'c'), (5, 'a')]\",\n",
       " 6: \"There are 4 solutions and is one sample solution:[(1, 'e'), (2, 'c'), (3, 'a'), (4, 'f'), (5, 'd'), (6, 'b')]\",\n",
       " 7: \"There are 40 solutions and is one sample solution:[(1, 'f'), (2, 'd'), (3, 'b'), (4, 'g'), (5, 'e'), (6, 'c'), (7, 'a')]\",\n",
       " 8: \"There are 92 solutions and is one sample solution:[(1, 'd'), (2, 'b'), (3, 'g'), (4, 'c'), (5, 'f'), (6, 'h'), (7, 'e'), (8, 'a')]\",\n",
       " 9: \"There are 352 solutions and is one sample solution:[(1, 'e'), (2, 'g'), (3, 'i'), (4, 'd'), (5, 'b'), (6, 'h'), (7, 'f'), (8, 'c'), (9, 'a')]\",\n",
       " 10: \"There are 724 solutions and is one sample solution:[(1, 'g'), (2, 'd'), (3, 'b'), (4, 'i'), (5, 'e'), (6, 'j'), (7, 'h'), (8, 'f'), (9, 'c'), (10, 'a')]\"}"
      ]
     },
     "execution_count": 4,
     "metadata": {},
     "output_type": "execute_result"
    }
   ],
   "source": [
    "print(\"The  more  general  problem  of placing n queens on a n×nboard:\")\n",
    "\"\"\"key is the chess board n size value and value is the solution set\"\"\"\n",
    "{i:choosing_chess_board_size(i) for i in range(4,11)}"
   ]
  },
  {
   "cell_type": "markdown",
   "metadata": {},
   "source": [
    "Size Limit:\n",
    "> Till n = 12 , the solution set is determined in few seconds. Beyond that, it resulted relatively a longer time."
   ]
  },
  {
   "cell_type": "markdown",
   "metadata": {},
   "source": [
    "# Ex.  3 Forbidden letters"
   ]
  },
  {
   "cell_type": "code",
   "execution_count": 5,
   "metadata": {},
   "outputs": [
    {
     "data": {
      "text/plain": [
       "True"
      ]
     },
     "execution_count": 5,
     "metadata": {},
     "output_type": "execute_result"
    }
   ],
   "source": [
    "def avoids(word,string):\n",
    "    \"\"\"function to check the presence of a particular char in a string\n",
    "    Arg 1 word: input word \n",
    "    Arg 2 string: input string\n",
    "    Return True / False\"\"\"\n",
    "    return True if string not in word else False\n",
    "avoids('ramkumar','b')"
   ]
  },
  {
   "cell_type": "code",
   "execution_count": 6,
   "metadata": {},
   "outputs": [
    {
     "name": "stdout",
     "output_type": "stream",
     "text": [
      "The forbidden letter count is:\n",
      "{'a': 57196,\n",
      " 'b': 97504,\n",
      " 'c': 83343,\n",
      " 'd': 83161,\n",
      " 'e': 37641,\n",
      " 'f': 102532,\n",
      " 'g': 88830,\n",
      " 'h': 94713,\n",
      " 'i': 53495,\n",
      " 'j': 112062,\n",
      " 'k': 104831,\n",
      " 'l': 73676,\n",
      " 'm': 91335,\n",
      " 'n': 64127,\n",
      " 'o': 69152,\n",
      " 'p': 90840,\n",
      " 'q': 112177,\n",
      " 'r': 58908,\n",
      " 's': 49006,\n",
      " 't': 66530,\n",
      " 'u': 84934,\n",
      " 'v': 104917,\n",
      " 'w': 105541,\n",
      " 'x': 111118,\n",
      " 'y': 100668,\n",
      " 'z': 110358}\n",
      "The list of most forbidden letters are :['q', 'j', 'x', 'z', 'w', 'v']\n"
     ]
    }
   ],
   "source": [
    "import string\n",
    "import pprint\n",
    "\n",
    "alphabet=string.ascii_lowercase\n",
    "\n",
    "path=r'C:\\Users\\Ram Kumar R S\\Downloads\\SoSe 2020\\programming-lab-ss20\\programming-lab-ss20\\words.txt'\n",
    "\n",
    "listofwords=[i.strip('\\n') for i in open(path,'r')]\n",
    "\n",
    "def identifying_forbidden_letters(listofwords,forbidden_letter):\n",
    "    \"\"\"function to fetch number of forbidden words\n",
    "    Arg 1: Input word list (from file)\n",
    "    Arg 2: Forbidden letter whose presence is checked\n",
    "    Return : count\"\"\"\n",
    "    count=0\n",
    "    for word in listofwords:\n",
    "        if avoids(word, forbidden_letter):\n",
    "            count+=1\n",
    "    return count\n",
    "        \n",
    "\"\"\"Dict comprehension to check for forbidden letters count all over the alphabet\"\"\"\n",
    "dict_containing_count={alph:identifying_forbidden_letters(listofwords,alph) for alph in alphabet}\n",
    "print(\"The forbidden letter count is:\")\n",
    "pprint.pprint(dict_containing_count)\n",
    "six_letters =[k for k, v in sorted(dict_containing_count.items(),key=lambda item: item[1],reverse=True)]\n",
    "\n",
    "print(\"The list of most forbidden letters are :{}\".format(six_letters[:6]))\n"
   ]
  },
  {
   "cell_type": "markdown",
   "metadata": {},
   "source": [
    "# Ex.  4 A nice word puzzle and an even better programming exercise"
   ]
  },
  {
   "cell_type": "code",
   "execution_count": 7,
   "metadata": {},
   "outputs": [
    {
     "name": "stdout",
     "output_type": "stream",
     "text": [
      "complecting completing competing compting comping coping oping ping pig pi i \n",
      "\n",
      "carrousels carousels carouses arouses arouse arose arse are ae a \n",
      "\n",
      "completing competing compting comping coping oping ping pig pi i \n",
      "\n",
      "insolating isolating solating slating sating sting ting tin in i \n",
      "\n",
      "restarting restating estating stating sating sting ting tin in i \n",
      "\n"
     ]
    }
   ],
   "source": [
    "path=r'C:\\Users\\Ram Kumar R S\\Downloads\\SoSe 2020\\programming-lab-ss20\\programming-lab-ss20\\words.txt'\n",
    "\n",
    "word_dict={word.strip():None for word in open(path)}\n",
    "[word_dict.update({i:i}) for i in ['a', 'i', '']]\n",
    "\n",
    "        \n",
    "\"\"\"memo is a dictionary that maps from each word that is known\n",
    "to be reducible to a list of its reducible children.  It starts\n",
    "with the empty string.\"\"\"\n",
    "\n",
    "memo = {}\n",
    "memo[''] = ['']\n",
    "def children(word, word_dict):\n",
    "    \"\"\"Returns a list of all words that can be formed by removing one letter.\n",
    "    word: string\n",
    "    Returns: list of strings\n",
    "    \"\"\"\n",
    "    return [word[:i] + word[i+1:] for i in range(len(word)) if word[:i] + word[i+1:] in word_dict]\n",
    "\n",
    "#x={word:children(word, word_dict) for word in word_dict}\n",
    "\n",
    "\n",
    "def is_reducible(word, word_dict):\n",
    "    \"\"\"If word is reducible, returns a list of its reducible children.\n",
    "    Also adds an entry to the memo dictionary.\n",
    "    A string is reducible if it has at least one child that is \n",
    "    reducible.  The empty string is also reducible.\n",
    "    word: string\n",
    "    word_dict: dictionary with words as keys\n",
    "    \"\"\"\n",
    "     # if have already checked this word, return the answer\n",
    "    if word in memo: return memo[word]\n",
    "    # check each of the children and make a list of the reducible ones\n",
    "    res = [child for child in children(word, word_dict) if is_reducible(child, word_dict)]\n",
    "    memo[word] = res\n",
    "    return res\n",
    "\n",
    "#({i:is_reducible(i,word_dict) for i in word_dict})\n",
    "\n",
    "\n",
    "def all_reducible(word_dict):\n",
    "    \"\"\"Checks all words in the word_dict; returns a list reducible ones.\n",
    "    word_dict: dictionary with words as keys\n",
    "    \"\"\"\n",
    "    #res = [is_reducible(word, word_dict) for word in word_dict if (is_reducible(word, word_dict))!=[]]\n",
    "    res = []\n",
    "    for word in word_dict:\n",
    "        t = is_reducible(word, word_dict)\n",
    "        if t != []:\n",
    "            res.append(word)\n",
    "    return res\n",
    "\n",
    "\n",
    "def print_trail(word):\n",
    "    \"\"\"Prints the sequence of words that reduces this word to the empty string.\n",
    "    If there is more than one choice, it chooses the first.\n",
    "    word: string\"\"\"        \n",
    "    if len(word) == 0:\n",
    "        return\n",
    "    print(word, end=' ')\n",
    "    t = is_reducible(word, word_dict)\n",
    "    print_trail(t[0])\n",
    "\n",
    "    \n",
    "sorted_list=sorted(all_reducible(word_dict),key=len,reverse=True)\n",
    "for  word in sorted_list[0:5]:\n",
    "        print_trail(word)\n",
    "        print('\\n')\n",
    "\n",
    "#[print_trail(word)  for word in sorted_list]\n",
    "#g={word:print_trail(word) for word in sorted_list}\n"
   ]
  },
  {
   "cell_type": "code",
   "execution_count": null,
   "metadata": {},
   "outputs": [],
   "source": []
  }
 ],
 "metadata": {
  "kernelspec": {
   "display_name": "Python 3",
   "language": "python",
   "name": "python3"
  },
  "language_info": {
   "codemirror_mode": {
    "name": "ipython",
    "version": 3
   },
   "file_extension": ".py",
   "mimetype": "text/x-python",
   "name": "python",
   "nbconvert_exporter": "python",
   "pygments_lexer": "ipython3",
   "version": "3.7.3"
  }
 },
 "nbformat": 4,
 "nbformat_minor": 2
}
