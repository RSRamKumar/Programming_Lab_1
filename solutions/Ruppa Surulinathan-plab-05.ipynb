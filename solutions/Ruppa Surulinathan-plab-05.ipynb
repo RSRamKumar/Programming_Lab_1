{
 "cells": [
  {
   "cell_type": "code",
   "execution_count": 1,
   "metadata": {},
   "outputs": [],
   "source": [
    "\n",
    "import pandas as pd\n",
    "import numpy as np\n",
    "import copy \n",
    "from collections import defaultdict"
   ]
  },
  {
   "cell_type": "markdown",
   "metadata": {},
   "source": [
    "## Ex.1 (4pts) Reading in distance matrices\n",
    "\n",
    "Write a function that is able to read distance matrices and store them, for instance, in a dictionary of dictionaries so that distances can b e accessed like dist['D']['B'].\n"
   ]
  },
  {
   "cell_type": "code",
   "execution_count": 2,
   "metadata": {},
   "outputs": [],
   "source": [
    "#### Dict method ####"
   ]
  },
  {
   "cell_type": "code",
   "execution_count": 3,
   "metadata": {},
   "outputs": [
    {
     "data": {
      "text/plain": [
       "4.0"
      ]
     },
     "execution_count": 3,
     "metadata": {},
     "output_type": "execute_result"
    }
   ],
   "source": [
    "def read_distance_dict(filename):\n",
    "    with open(r'C:\\Users\\Ram Kumar R S\\Downloads\\SoSe 2020\\\\'+filename,'r') as f:\n",
    "        dist={}\n",
    "        content=f.readlines()\n",
    "        dkey=' '.join(content[0])\n",
    "        dk=dkey.split()\n",
    "        for line in content[1:]:\n",
    "            entries=line.split()\n",
    "            label=entries[0]\n",
    "            distance=entries[1:]\n",
    "            dist[label]={}\n",
    "            for k,v in zip(dk,distance):\n",
    "                if label!=k:\n",
    "                    dist[label][k]=float(v)\n",
    "    return dist       \n",
    "matrix=(read_distance_dict('small-distances.txt'))\n",
    "matrix['A']['B']"
   ]
  },
  {
   "cell_type": "code",
   "execution_count": 4,
   "metadata": {},
   "outputs": [],
   "source": [
    "#### Dataframe method ####"
   ]
  },
  {
   "cell_type": "code",
   "execution_count": 5,
   "metadata": {},
   "outputs": [
    {
     "name": "stdout",
     "output_type": "stream",
     "text": [
      "Small Distances\n",
      "    A  B  C  D  E\n",
      "A  0  4  1  2  5\n",
      "B  4  0  5  2  3\n",
      "C  1  5  0  3  6\n",
      "D  2  2  3  0  3\n",
      "E  5  3  6  3  0 \n",
      "\n",
      "Dictionary Query [A][B] = 4\n"
     ]
    }
   ],
   "source": [
    "def read_distance_df(filename):\n",
    "    \n",
    "    distance = open(r'C:\\Users\\Ram Kumar R S\\Downloads\\SoSe 2020\\\\'+filename,'r').read().splitlines()\n",
    "    distance_seq = ''.join(distance[0].split())\n",
    "    distance = distance[1:] # cut header\n",
    "    distance = [line[2:] for line in distance]\n",
    "    distance = [line.split() for line in distance]\n",
    "\n",
    "    distance = [list(map(int, line)) for line in distance[:]]\n",
    "    distance = pd.DataFrame(distance)\n",
    "    for i in range(len(distance_seq)):\n",
    "        distance.rename(columns={ distance.columns[i]: distance_seq[i] }, inplace = True)\n",
    "\n",
    "    rows_dict = defaultdict()\n",
    "    \n",
    "    for i in range(len(distance_seq)):\n",
    "        rows_dict[i] = distance_seq[i]\n",
    "    distance.rename(index=rows_dict, inplace = True)\n",
    "        \n",
    "    return distance\n",
    "\n",
    "\n",
    "small_distances = read_distance_df(\"small-distances.txt\")\n",
    "print(\"Small Distances\\n\",small_distances,\"\\n\")\n",
    "print(\"Dictionary Query [A][B] =\",small_distances[\"A\"][\"B\"])"
   ]
  },
  {
   "cell_type": "markdown",
   "metadata": {},
   "source": [
    "## Ex.2 (4pts) Number of elements of a nested tuple\n",
    "\n",
    "First, write a function that counts the number of elementary objects in a nested tuple. I.e., the function should return 3 for (('A','B'),'C') and 5 for ((('A','B'),'C'),('D','E')). This function will b e helpful when determining cluster distances.\n"
   ]
  },
  {
   "cell_type": "code",
   "execution_count": 6,
   "metadata": {},
   "outputs": [
    {
     "name": "stdout",
     "output_type": "stream",
     "text": [
      "3\n",
      "5\n"
     ]
    }
   ],
   "source": [
    "def count_tuples(object):\n",
    "    \"\"\"function to count the number of elements in a tuple by flattening it\n",
    "    arg: input tuple\n",
    "    return : count\"\"\"\n",
    "    def flatten2list(object):\n",
    "        gather = []\n",
    "        for item in object:\n",
    "            if isinstance(item, (list, tuple, set)):\n",
    "                gather.extend(flatten2list(item))            \n",
    "            else:\n",
    "                gather.append(item)\n",
    "        return gather\n",
    "    return len(flatten2list(object))\n",
    "print(count_tuples((('A','B'),'C')))\n",
    "print(count_tuples(((('A','B'),'C'),('D','E'))))"
   ]
  },
  {
   "cell_type": "markdown",
   "metadata": {},
   "source": [
    "# Ex.3 (4pts) Merging clusters\n",
    "\n",
    "Write a function taking three parameters: a distance matrix (i.e. a dictionary of dictionaries as in exercise 1) and two clusters (represented as strings / tuples) that merges two clusters by up dating the distance matrix.\n"
   ]
  },
  {
   "cell_type": "code",
   "execution_count": 7,
   "metadata": {},
   "outputs": [],
   "source": [
    "### dict form distance matrix ####"
   ]
  },
  {
   "cell_type": "code",
   "execution_count": 8,
   "metadata": {},
   "outputs": [
    {
     "data": {
      "text/plain": [
       "('D', 'E')"
      ]
     },
     "execution_count": 8,
     "metadata": {},
     "output_type": "execute_result"
    }
   ],
   "source": [
    "def merge_cluster(dist,a,b):\n",
    "    m,n=count_tuples(a),count_tuples(b)\n",
    "    c=(a,b)\n",
    "    dist[c]={}\n",
    "    for k in dist.keys():\n",
    "        if k==a or k==b or k==c:\n",
    "            continue\n",
    "        nd=(dist[k][a]*n + dist[k][b]*m)/(m+n)\n",
    "        dist[c][k]=nd\n",
    "        dist[k][c]=nd\n",
    "    del dist[a]\n",
    "    del dist[b]\n",
    "    \n",
    "    for k in dist.keys():\n",
    "        if k!=c:\n",
    "            del dist[k][a]\n",
    "            del dist[k][b]\n",
    "    return c\n",
    "\n",
    "\n",
    "merge_cluster(matrix,'D','E')"
   ]
  },
  {
   "cell_type": "code",
   "execution_count": 9,
   "metadata": {},
   "outputs": [],
   "source": [
    "### Dataframe based distance matrix ###"
   ]
  },
  {
   "cell_type": "code",
   "execution_count": 10,
   "metadata": {},
   "outputs": [
    {
     "name": "stdout",
     "output_type": "stream",
     "text": [
      "          A    D    E  (C, B)\n",
      "A       0.0  2.0  5.0     2.5\n",
      "D       2.0  0.0  3.0     2.5\n",
      "E       5.0  3.0  0.0     4.5\n",
      "(C, B)  2.5  2.5  4.5     0.0\n"
     ]
    }
   ],
   "source": [
    "def cluster_merging(dist_matrix, clusterA, clusterB):\n",
    "    # Agglomerative Clustering\n",
    "\n",
    "    # Init\n",
    "    dist_matrix_reduced = copy.copy(dist_matrix) # Copying for not changing the object outside and easier debugging\n",
    "    cardinality_clusterA = count_tuples(clusterA)\n",
    "    cardinality_clusterB = count_tuples(clusterB)\n",
    "\n",
    "    # Calculate Score + Rename + Delete + Transpose + Rename + Delete + Transpose. Should work as long as its symmetric. I guess matrix transpose shouldn't be too expensive (maybe only indices are getting changed)\n",
    "    reduced_column = (cardinality_clusterA * dist_matrix_reduced[clusterA] + cardinality_clusterB * dist_matrix_reduced[clusterB]) / ( cardinality_clusterA + cardinality_clusterB )\n",
    "    dist_matrix_reduced[(clusterA, clusterB)] = reduced_column\n",
    "    del(dist_matrix_reduced[clusterA])\n",
    "    del(dist_matrix_reduced[clusterB])\n",
    "    dist_matrix_reduced = dist_matrix_reduced.T\n",
    "\n",
    "    reduced_column = (cardinality_clusterA * dist_matrix_reduced[clusterA] + cardinality_clusterB * dist_matrix_reduced[clusterB]) / ( cardinality_clusterA + cardinality_clusterB )\n",
    "    dist_matrix_reduced[(clusterA, clusterB)] = reduced_column\n",
    "    del(dist_matrix_reduced[clusterA])\n",
    "    del(dist_matrix_reduced[clusterB])\n",
    "    dist_matrix_reduced = dist_matrix_reduced.T\n",
    "\n",
    "    # Identity 0-ing\n",
    "    dist_matrix_reduced[(clusterA,clusterB)][(clusterA,clusterB)] = 0\n",
    "\n",
    "    return dist_matrix_reduced\n",
    "\n",
    "\n",
    "# Call with Distance Matrix and Keys / Tuples to be removed\n",
    "cluster_iter_1 = cluster_merging(small_distances, ('C'), ('B'))\n",
    "\n",
    "print(cluster_iter_1)"
   ]
  },
  {
   "cell_type": "markdown",
   "metadata": {},
   "source": [
    "# Ex.4 (4pts) Find closest clusters"
   ]
  },
  {
   "cell_type": "code",
   "execution_count": 11,
   "metadata": {},
   "outputs": [],
   "source": [
    "### dict based distance matrix ###"
   ]
  },
  {
   "cell_type": "code",
   "execution_count": 12,
   "metadata": {},
   "outputs": [
    {
     "data": {
      "text/plain": [
       "(('C', 'A'), 1.0)"
      ]
     },
     "execution_count": 12,
     "metadata": {},
     "output_type": "execute_result"
    }
   ],
   "source": [
    "def finding_small_distance_main(matrix):\n",
    "    def finding_small_distance(matrix):\n",
    "        list_key_val=[]\n",
    "        for i in matrix.values():\n",
    "            min_val=min(i.values()) # minimum value of  each row -- value (in dict of dict)\n",
    "            min_key=''.join([k for k, v in i.items() if v == min(i.values())][0])  # key of that min value\n",
    "            key= ''.join([str(k) for k, v in matrix.items() if v ==i])  # main key of that value\n",
    "            #print(min_val,min_key,key)\n",
    "            min_val_min_key_key=((min_val,min_key,key))\n",
    "            list_key_val.append(min_val_min_key_key)\n",
    "        return tuple([k for k in sorted(list_key_val,key=lambda item: item[0],reverse=False)][0])\n",
    "    \n",
    "    return tuple(finding_small_distance(matrix)[1:]),finding_small_distance(matrix)[0]\n",
    "\n",
    "    \n",
    "#cluster1,cluster2,value=\n",
    "cluster,val=finding_small_distance_main(matrix)\n",
    "cluster,val"
   ]
  },
  {
   "cell_type": "code",
   "execution_count": 13,
   "metadata": {},
   "outputs": [],
   "source": [
    "### data frame based distance matrix ###"
   ]
  },
  {
   "cell_type": "code",
   "execution_count": 14,
   "metadata": {},
   "outputs": [
    {
     "name": "stdout",
     "output_type": "stream",
     "text": [
      "The neirest clusters are ('A', 'C') with a distance of 1.0\n"
     ]
    }
   ],
   "source": [
    "def find_smallest_distance(dist_matrix):\n",
    "    min_val = dist_matrix.replace(0, np.nan).stack().min()\n",
    "    min_idx = dist_matrix.replace(0, np.nan).stack().idxmin()\n",
    "    return min_idx, min_val\n",
    "\n",
    "\n",
    "nearest_clusters = find_smallest_distance(small_distances)\n",
    "print(\"The neirest clusters are\", nearest_clusters[0],\"with a distance of\", nearest_clusters[1])"
   ]
  },
  {
   "cell_type": "markdown",
   "metadata": {},
   "source": [
    "# Ex.5 (4pts) Hierarchical clustering"
   ]
  },
  {
   "cell_type": "code",
   "execution_count": 15,
   "metadata": {},
   "outputs": [
    {
     "name": "stdout",
     "output_type": "stream",
     "text": [
      "Tree Clusters by agglomoration - small-distances.txt:\n",
      " (('A', 'C'), ('E', ('B', 'D')))\n"
     ]
    }
   ],
   "source": [
    "def hierarchical_clustering(_distance_matrix):\n",
    "    distance_matrix = copy.copy(_distance_matrix) \n",
    "    heights = dict.fromkeys(distance_matrix,0)\n",
    "    while len(distance_matrix) > 1:\n",
    "        cluster, value = find_smallest_distance(distance_matrix)\n",
    "        distance_matrix = cluster_merging(distance_matrix, cluster[0], cluster[1])\n",
    "        heights.update({cluster : value/2})\n",
    "    return distance_matrix, heights\n",
    "tree_smalldistances, cluster_heights_smalldistances = hierarchical_clustering(small_distances)\n",
    "print(\"Tree Clusters by agglomoration - small-distances.txt:\\n\", *tree_smalldistances)\n"
   ]
  },
  {
   "cell_type": "code",
   "execution_count": 18,
   "metadata": {},
   "outputs": [
    {
     "data": {
      "image/png": "[encoded data removed]",
      "text/plain": [
       "<Figure size 432x288 with 1 Axes>"
      ]
     },
     "metadata": {
      "needs_background": "light"
     },
     "output_type": "display_data"
    },
    {
     "name": "stdout",
     "output_type": "stream",
     "text": [
      "None\n"
     ]
    }
   ],
   "source": [
    "from showtree import showtree\n",
    "print(showtree(*tree_smalldistances, cluster_heights_smalldistances))\n"
   ]
  }
 ],
 "metadata": {
  "kernelspec": {
   "display_name": "Python 3",
   "language": "python",
   "name": "python3"
  },
  "language_info": {
   "codemirror_mode": {
    "name": "ipython",
    "version": 3
   },
   "file_extension": ".py",
   "mimetype": "text/x-python",
   "name": "python",
   "nbconvert_exporter": "python",
   "pygments_lexer": "ipython3",
   "version": "3.7.3"
  }
 },
 "nbformat": 4,
 "nbformat_minor": 2
}
