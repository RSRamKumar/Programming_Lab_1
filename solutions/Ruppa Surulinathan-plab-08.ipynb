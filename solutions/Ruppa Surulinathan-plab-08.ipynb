{
 "cells": [
  {
   "cell_type": "code",
   "execution_count": 1,
   "metadata": {},
   "outputs": [],
   "source": [
    "import pandas as pd\n",
    "import numpy as np"
   ]
  },
  {
   "cell_type": "markdown",
   "metadata": {},
   "source": [
    "### Ex1.(8pts)Nussinov folding algorithm"
   ]
  },
  {
   "cell_type": "code",
   "execution_count": 2,
   "metadata": {},
   "outputs": [],
   "source": [
    "def base_pair(i,j):\n",
    "    if seq[i] == \"A\" and seq[j] == \"U\":\n",
    "        return 1        \n",
    "        \n",
    "    elif seq[i] == \"U\" and seq[j] == \"A\":\n",
    "        return 1\n",
    "        \n",
    "    elif seq[i] == \"C\" and seq[j] == \"G\":\n",
    "        return 1\n",
    "        \n",
    "    elif seq[i] == \"G\" and seq[j] == \"C\":\n",
    "        return 1\n",
    "    \n",
    "    else:\n",
    "        return 0 "
   ]
  },
  {
   "cell_type": "code",
   "execution_count": 3,
   "metadata": {},
   "outputs": [],
   "source": [
    "def nussinov_matrix(seq):\n",
    "    L = len(seq)                 # len of the sequence\n",
    "    M = np.full([L, L],np.nan)   # initialize everything to nan\n",
    "    #np.fill_diagonal(M, 0)       # diagonal to 0\n",
    "    for i in range(1,L): \n",
    "        M[i,i-1]=0 \n",
    "    for i in range(0,L):\n",
    "        M[i,i]=0\n",
    "    M = fill_matrix(M, seq)\n",
    "    \n",
    "    for i in range(L):\n",
    "        for j in range(0,i):\n",
    "            M[i][j] = M[j][i]\n",
    "    \n",
    "    return M"
   ]
  },
  {
   "cell_type": "code",
   "execution_count": 4,
   "metadata": {},
   "outputs": [],
   "source": [
    "def fill_matrix(nm, rna):\n",
    "    \"\"\"\n",
    "    Fill the matrix as per the Nussinov algorithm\n",
    "    \"\"\"\n",
    "    minimal_loop_length = 0\n",
    "    for k in range(1, len(rna)):\n",
    "        for i in range(len(rna) - k):\n",
    "            j = i + k\n",
    "            if j - i >= minimal_loop_length:\n",
    "                down = nm[i + 1][j] # 1st rule\n",
    "                left = nm[i][j - 1] # 2nd rule\n",
    "                diag = nm[i + 1][j - 1] + base_pair(i,j) # 3rd rule\n",
    "                rc = max([nm[i][t] + nm[t + 1][j] for t in range(i, j)]) # 4th rule\n",
    "                nm[i][j] = max(down, left, diag, rc) # max of all\n",
    "            else:\n",
    "                nm[i][j] = 0\n",
    "    return nm"
   ]
  },
  {
   "cell_type": "code",
   "execution_count": 5,
   "metadata": {},
   "outputs": [
    {
     "name": "stdout",
     "output_type": "stream",
     "text": [
      "[[ 0.  1.  1. ... 14. 14. 14.]\n",
      " [ 1.  0.  0. ... 13. 13. 13.]\n",
      " [ 1.  0.  0. ... 13. 13. 13.]\n",
      " ...\n",
      " [14. 13. 13. ...  0.  0.  0.]\n",
      " [14. 13. 13. ...  0.  0.  0.]\n",
      " [14. 13. 13. ...  0.  0.  0.]]\n"
     ]
    }
   ],
   "source": [
    "seq='AUCGGAGCAUUUUUUGCUCCGACGCAGCCUCAUGCUUUUUU'\n",
    "NM=nussinov_matrix(seq)\n",
    "print(NM)"
   ]
  },
  {
   "cell_type": "markdown",
   "metadata": {},
   "source": [
    "### Ex2.(8pts) Nussinov algorithm: Backtracking"
   ]
  },
  {
   "cell_type": "code",
   "execution_count": 6,
   "metadata": {},
   "outputs": [],
   "source": [
    "def backtracking(N,seq,i,j,NN_list):\n",
    "    if i<j:\n",
    "        delta = base_pair(i,j)\n",
    "        \n",
    "        if N[i,j] == N[i+1,j]:\n",
    "            backtracking(N,seq,i+1,j,NN_list)\n",
    "        elif N[i,j] == N[i,j-1]:\n",
    "            backtracking(N,seq,i,j-1,NN_list)\n",
    "        elif N[i,j] == N[i+1,j-1] + delta:\n",
    "            NN_list.append([i,j,str(seq[i]),str(seq[j])])\n",
    "            backtracking(N,seq,i+1,j-1,NN_list)\n",
    "        else:\n",
    "            for k in range(i+1,j):\n",
    "                if N[i,j] == N[i,k] + N[k+1,j]:\n",
    "                    backtracking(N,seq,i,k,NN_list)\n",
    "                    backtracking(N,seq,k+1,j,NN_list)\n",
    "                    break\n",
    "    return NN_list\n"
   ]
  },
  {
   "cell_type": "code",
   "execution_count": 7,
   "metadata": {},
   "outputs": [
    {
     "name": "stdout",
     "output_type": "stream",
     "text": [
      "Number of matched pairs:  6\n",
      "i  j  NN\n",
      "2 33 C G\n",
      "3 30 G C\n",
      "4 28 G C\n",
      "5 10 A U\n",
      "14 25 U A\n",
      "17 21 U A\n"
     ]
    }
   ],
   "source": [
    "\n",
    "\n",
    "NN_list = backtracking(NM,seq,0,len(seq)-1, []) \n",
    "i = [x[0] for x in NN_list]\n",
    "j = [x[1] for x in NN_list]\n",
    "NN_pair = [(x[2],x[3]) for x in NN_list]\n",
    "\n",
    "print(\"Number of matched pairs: \",len(NN_list))\n",
    "print(\"i  j  NN\")\n",
    "for x in range(0,len(NN_list)):\n",
    "     print(i[x],j[x],*NN_pair[x])"
   ]
  },
  {
   "cell_type": "markdown",
   "metadata": {},
   "source": [
    "### Ex3.(2pts)Display matching base pairs"
   ]
  },
  {
   "cell_type": "code",
   "execution_count": 8,
   "metadata": {},
   "outputs": [
    {
     "data": {
      "text/plain": [
       "'..((((....)...(..(...)...)..).)..).......'"
      ]
     },
     "execution_count": 8,
     "metadata": {},
     "output_type": "execute_result"
    }
   ],
   "source": [
    "def write_structure(seq, pairs):\n",
    "    closures_ascii = [\".\" for _ in range(len(seq))]\n",
    "    for pair in pairs:\n",
    "        closures_ascii[min(pair)] = \"(\"\n",
    "        closures_ascii[max(pair)] = \")\"\n",
    "    return \"\".join(closures_ascii)\n",
    "\n",
    "write_structure(seq, [[i[x],j[x]] for x in range(len(i))])\n",
    "\n"
   ]
  },
  {
   "cell_type": "markdown",
   "metadata": {},
   "source": [
    "### Ex4.(2pts) Modifications of the algorithm"
   ]
  },
  {
   "cell_type": "code",
   "execution_count": 9,
   "metadata": {},
   "outputs": [
    {
     "name": "stdout",
     "output_type": "stream",
     "text": [
      "Minimum hairpin loop length is 7\n"
     ]
    }
   ],
   "source": [
    "def nussinov_matrix_modified(seq,minimum_hairpin_loop):             # additon of minimum_hairpin_loop value (h)\n",
    "    print(\"Minimum hairpin loop length is\",minimum_hairpin_loop)\n",
    "    L = len(seq)                 \n",
    "    M = np.full([L, L],np.nan)  \n",
    "    #np.fill_diagonal(M, 0)       \n",
    "    for i in range(1,L): \n",
    "        M[i,i-1]=0 \n",
    "    for i in range(0,L):\n",
    "        M[i,i]=0\n",
    "    M = fill_matrix_modified(M, seq,minimum_hairpin_loop)\n",
    "    \n",
    "    for i in range(L):\n",
    "        for j in range(0,i):\n",
    "            M[i][j] = M[j][i]\n",
    "    \n",
    "    return M\n",
    "\n",
    "\n",
    "\n",
    "def fill_matrix_modified(nm, rna,minimum_hairpin_loop):\n",
    "    \"\"\"\n",
    "    Fill the matrix as per the Nussinov algorithm\n",
    "    \"\"\"\n",
    "    minimal_loop_length = minimum_hairpin_loop\n",
    "    for k in range(1, len(rna)):\n",
    "        for i in range(len(rna) - k):\n",
    "            j = i + k\n",
    "            if j - i >= minimal_loop_length:\n",
    "                down = nm[i + 1][j] # 1st rule\n",
    "                left = nm[i][j - 1] # 2nd rule\n",
    "                diag = nm[i + 1][j - 1] + base_pair(i,j) # 3rd rule\n",
    "                rc = max([nm[i][t] + nm[t + 1][j] for t in range(i, j)]) # 4th rule\n",
    "                nm[i][j] = max(down, left, diag, rc) # max of all\n",
    "            else:\n",
    "                nm[i][j] = 0\n",
    "    return nm\n",
    "\n",
    "modified=nussinov_matrix_modified(seq,minimum_hairpin_loop=7)\n"
   ]
  },
  {
   "cell_type": "code",
   "execution_count": 10,
   "metadata": {},
   "outputs": [
    {
     "name": "stdout",
     "output_type": "stream",
     "text": [
      "Number of matched pairs:  11\n",
      "i  j  NN\n",
      "0 35 A U\n",
      "1 21 U A\n",
      "2 20 C G\n",
      "3 19 G C\n",
      "4 18 G C\n",
      "5 17 A U\n",
      "6 16 G C\n",
      "7 15 C G\n",
      "23 34 G C\n",
      "24 33 C G\n",
      "25 32 A U\n"
     ]
    },
    {
     "data": {
      "text/plain": [
       "'((((((((.......))))))).(((......)))).....'"
      ]
     },
     "execution_count": 10,
     "metadata": {},
     "output_type": "execute_result"
    }
   ],
   "source": [
    "\n",
    "NN_list = backtracking(modified,seq,0,len(seq)-1, []) \n",
    "i = [x[0] for x in NN_list]\n",
    "j = [x[1] for x in NN_list]\n",
    "NN_pair = [(x[2],x[3]) for x in NN_list]\n",
    "\n",
    "print(\"Number of matched pairs: \",len(NN_list))\n",
    "print(\"i  j  NN\")\n",
    "for x in range(0,len(NN_list)):\n",
    "     print(i[x],j[x],*NN_pair[x])\n",
    "        \n",
    "# printing the structure\n",
    "        \n",
    "write_structure(seq, [[i[x],j[x]] for x in range(len(i))])\n"
   ]
  }
 ],
 "metadata": {
  "kernelspec": {
   "display_name": "Python 3",
   "language": "python",
   "name": "python3"
  },
  "language_info": {
   "codemirror_mode": {
    "name": "ipython",
    "version": 3
   },
   "file_extension": ".py",
   "mimetype": "text/x-python",
   "name": "python",
   "nbconvert_exporter": "python",
   "pygments_lexer": "ipython3",
   "version": "3.7.3"
  }
 },
 "nbformat": 4,
 "nbformat_minor": 2
}
